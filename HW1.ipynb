{
 "cells": [
  {
   "cell_type": "markdown",
   "id": "46896a80",
   "metadata": {},
   "source": [
    "# Lab 01: Các câu lệnh Linux, Conda\n",
    "\n",
    "Đầu tiên hãy cung cấp thông tin cần thiết để chúng ta biết bạn là ai\n",
    "\n",
    "Họ tên: Nguyễn Thị Cẩm Lai\n",
    "\n",
    "MSSV: 20120128"
   ]
  },
  {
   "cell_type": "markdown",
   "id": "98060f23",
   "metadata": {},
   "source": [
    "---"
   ]
  },
  {
   "cell_type": "markdown",
   "id": "155aa0df",
   "metadata": {},
   "source": [
    "## Cách làm bài và nộp bài"
   ]
  },
  {
   "cell_type": "markdown",
   "id": "f181e2a2",
   "metadata": {},
   "source": [
    "&#9889; Bạn lưu ý là mình sẽ dùng chương trình hỗ trợ chấm bài nên bạn cần phải tuân thủ chính xác qui định mà mình đặt ra, nếu không rõ thì hỏi, chứ không nên tự tiện làm theo ý của cá nhân.\n",
    "\n",
    "**Cách làm bài**\n",
    "\n",
    "Bạn sẽ làm trực tiếp trên file notebook này. Đầu tiên, bạn điền họ tên và MSSV vào phần đầu file ở bên trên. Trong file, bạn làm bài ở những chỗ có ghi là:\n",
    "```python\n",
    "# YOUR CODE HERE\n",
    "raise NotImplementedError()\n",
    "```\n",
    "hoặc đối với những phần code không bắt buộc thì là:\n",
    "```python\n",
    "# YOUR CODE HERE (OPTION)\n",
    "```\n",
    "hoặc đối với markdown cell thì là:\n",
    "```markdown\n",
    "YOUR ANSWER HERE\n",
    "```\n",
    "Tất nhiên, khi làm thì bạn xóa dòng `raise NotImplementedError()` đi.\n",
    "Đối những phần yêu cầu code thì thường ở ngay phía dưới sẽ có một (hoặc một số) cell chứa các bộ test để giúp bạn biết đã code đúng hay chưa; nếu chạy cell này không có lỗi gì thì có nghĩa là qua được các bộ test. Trong một số trường hợp, các bộ test có thể sẽ không đầy đủ; nghĩa là, nếu không qua được test thì là code sai, nhưng nếu qua được test thì chưa chắc đã đúng hoàn toàn.\n",
    "\n",
    "Trong khi làm bài, bạn có thể cho in ra màn hình, tạo thêm các cell để test. Nhưng khi nộp bài thì bạn xóa các cell mà bạn tự tạo, xóa hoặc comment các câu lệnh in ra màn hình. Bạn lưu ý <font color=red>không được tự tiện xóa các cell hay sửa code của Thầy</font> (trừ những chỗ được phép sửa như đã nói ở trên).\n",
    "\n",
    "Bạn cố gắng giữ cho code rõ ràng, ngăn nắp: đặt tên biến gợi ý, comment ở những chỗ cần comment, giữ cho một dòng code không quá dài (vì nếu không thì người đọc sẽ phải mất công scroll, bạn có thể dùng qui tắc: một dòng code chỉ nên có tối đa là 79 ký tự). \n",
    "\n",
    "Trong khi làm bài, thường xuyên `Ctrl + S` để lưu lại bài làm của bạn, tránh mất mát thông tin.\n",
    "\n",
    "\n",
    "*Nên nhớ mục tiêu chính ở đây là <font color=green>học, học một cách chân thật</font>. Bạn có thể thảo luận ý tưởng với bạn khác, nhưng <font color=green>code và bài làm phải là của bạn, dựa trên sự hiểu thật sự của bạn</font>. <font color=red>Nếu vi phạm thì sẽ bị 0 điểm cho toàn bộ môn học.</font>*\n",
    "\n",
    "**Cách nộp bài**\n",
    "\n",
    "Khi chấm bài, đầu tiên mình sẽ chọn `Kernel` - `Restart & Run All` để restart và chạy tất cả các cell trong notebook của bạn; do đó, trước khi nộp bài, bạn nên chạy thử `Kernel` - `Restart & Run All` để đảm bảo mọi chuyện diễn ra đúng như mong đợi.\n",
    "\n",
    "Sau đó, bạn tạo thư mục nộp bài theo cấu trúc sau:\n",
    "- Thư mục `MSSV` (vd, nếu bạn có MSSV là 1234567 thì bạn đặt tên thư mục là `1234567`)\n",
    "    - File `HW1.ipynb` (không cần nộp các file khác)\n",
    "\n",
    "Cuối cùng, bạn nén thư mục `MSSV` này lại với định dạng *.zip (nhớ là zip nhé) và nộp ở link trên moodle. <font color=red>Bạn lưu ý tuân thủ chính xác qui định nộp bài.</font>"
   ]
  },
  {
   "cell_type": "markdown",
   "id": "c09ce040",
   "metadata": {},
   "source": [
    "---"
   ]
  },
  {
   "cell_type": "markdown",
   "id": "f5861b79",
   "metadata": {},
   "source": [
    "## Môi trường code"
   ]
  },
  {
   "cell_type": "markdown",
   "id": "a55dd304",
   "metadata": {},
   "source": [
    "Ta thống nhất trong môn này:\n",
    "- Code trên môi trường Linux (bạn đã setup ở HW0)\n",
    "- Dùng Jupyter Notebook hoặc Jupyter Lab để code file .ipynb. Lưu ý: bạn <font color=red>không dùng Google Colab</font>, vì Google Colab có thể xóa một số thông tin meta mà chương trình hỗ trợ chấm bài của mình đã tạo trong file bài tập\n",
    "- Dùng phiên bản các package như trong file \"min_ds-env.yml\" (bạn xem trong HW0 cách dùng Conda để tạo môi trường code từ file .yml và cách kích hoạt môi trường này sau khi đã tạo)"
   ]
  },
  {
   "cell_type": "code",
   "execution_count": 1,
   "id": "f4d0ddac",
   "metadata": {},
   "outputs": [
    {
     "data": {
      "text/plain": [
       "'C:\\\\Users\\\\t480\\\\miniconda3\\\\envs\\\\min_ds-env\\\\python.exe'"
      ]
     },
     "execution_count": 1,
     "metadata": {},
     "output_type": "execute_result"
    }
   ],
   "source": [
    "import sys\n",
    "sys.executable"
   ]
  },
  {
   "cell_type": "markdown",
   "id": "0aed058f",
   "metadata": {},
   "source": [
    "Nếu không có vấn đề gì thì file chạy python sẽ là file của môi trường code \"min_ds-env\".\n",
    "\n",
    "Trong bài này, ngoài Git & Jupyter Notebook/Lab thì bạn chỉ dùng Python, không dùng các thư viện khác như Numpy, Pandas, ... Trong Python, khi đọc/ghi file csv thì bạn cũng không được dùng các thư viện hỗ trợ như thư viện `csv`."
   ]
  },
  {
   "cell_type": "markdown",
   "id": "8d61e06a",
   "metadata": {},
   "source": [
    "---"
   ]
  },
  {
   "cell_type": "markdown",
   "id": "f1372718",
   "metadata": {},
   "source": [
    "## Import các thư viện cần thiết"
   ]
  },
  {
   "cell_type": "code",
   "execution_count": 2,
   "id": "aa2cfe75",
   "metadata": {},
   "outputs": [],
   "source": [
    "import datetime\n",
    "# YOUR CODE HERE (OPTION)"
   ]
  },
  {
   "cell_type": "markdown",
   "id": "cbb29f77",
   "metadata": {},
   "source": [
    "---"
   ]
  },
  {
   "cell_type": "markdown",
   "id": "6098d27a",
   "metadata": {},
   "source": [
    "## Thu thập dữ liệu (3.5đ)"
   ]
  },
  {
   "cell_type": "markdown",
   "id": "d227fd9b",
   "metadata": {},
   "source": [
    "Trong bài tập này, bạn sẽ lấy dữ liệu log của [thùng chứa nbdime](https://github.com/KienTrann/nbdime). Nbdime là công cụ giúp Git có thể diff và merge file Notebook một cách phù hợp (thay vì chỉ coi như là một file text thông thường). Link mình cung cấp không phải là link đến thùng chứa gốc của nbdime mà là thùng chứa mình \"fork\" (đại khái là tạo ra một bản copy) từ thùng chứa gốc. Lý do: mình muốn cố định lại dữ liệu log để có thể cung cấp các bộ test để bạn phần nào biết là đã code đúng hay chưa (còn nếu dùng thùng chứa gốc thì dữ liệu log có thể sẽ thay đổi trong vài ngày tới, các bộ test lúc đó có thể sẽ không còn đúng nữa).\n",
    "\n",
    "Để có thể lấy dữ liệu log thì việc đầu tiên bạn cần làm ở cell bên dưới là: \n",
    "\n",
    "- Dùng câu lệnh Git để clone thùng chứa về; bạn clone vào một thư mục cùng cấp với file notebook này. <font color=gray>Gợi ý: trong Jupyter Notebook, ở code cell, bạn có thể thực hiện một câu lệnh Linux (bao gồm câu lệnh Git) bằng cách thêm dấu ! ở đầu.</font>\n",
    "- Sau đó, để xem thử thư mục vừa clone có nặng không, bạn tính dung lượng tổng cộng của thư mục này và lưu vào biến `repo_size` (`repo_size` là một con số, đơn vị là MB); ta thống nhất: (i) dùng cờ `apparent-size` khi dùng câu lệnh `du`, (ii) code chỉ cần chạy đúng với thùng chứa cụ thể này. <font color=gray>Gợi ý: trong Jupyter Notebook, bạn có thể gán kết quả của câu lệnh Linux vào biến Python.</font>"
   ]
  },
  {
   "cell_type": "code",
   "execution_count": 3,
   "id": "8bd6ff0b",
   "metadata": {
    "deletable": false,
    "nbgrader": {
     "cell_type": "code",
     "checksum": "f9d6621381f8d838d952e28da52f9eea",
     "grade": true,
     "grade_id": "cell-5984c6f1d3bb0311",
     "locked": false,
     "points": 0.5,
     "schema_version": 3,
     "solution": true,
     "task": false
    }
   },
   "outputs": [
    {
     "name": "stderr",
     "output_type": "stream",
     "text": [
      "Cloning into 'repo_folder'...\n"
     ]
    },
    {
     "data": {
      "text/plain": [
       "9.771"
      ]
     },
     "execution_count": 3,
     "metadata": {},
     "output_type": "execute_result"
    }
   ],
   "source": [
    "# YOUR CODE HERE\n",
    "!git clone https://github.com/KienTrann/nbdime.git repo_folder\n",
    "size=!du --apparent-size repo_folder\n",
    "repo_size=int(size[-1].split()[0])/1000\n",
    "\n",
    "repo_size\n",
    "# Thầy HDTH với mình có test thử thì có máy ra 9.7, có máy ra 9.8\n",
    "# (có thể là do phiên bản của câu lệnh du?)"
   ]
  },
  {
   "cell_type": "markdown",
   "id": "b7c4b9c4",
   "metadata": {},
   "source": [
    "Sau khi đã clone thùng chứa về, việc kế tiếp của bạn là dùng các câu lệnh Linux (trong đó có các câu lệnh Git) và Python để lấy dữ liệu log rồi lưu xuống file \"log.tsv\" (định dạng tsv tương tự như csv nhưng các giá trị được cách nhau bởi tab). Để dễ hình dung, bạn có thể dùng Jupyter Lab để mở xem file kết quả đúng \"correct_log.tsv\" mà mình cung cấp. Như bạn có thể thấy, mỗi dòng ứng với một commit (không tính dòng đầu - dòng chứa các tên cột) và gồm các thông tin:\n",
    "- \"Id\" là id (hash) dạng viết gọn của commit\n",
    "- \"ParentIds\" là id dạng viết gọn của (các) commit cha\n",
    "- \"AuthorName\" là tên của tác giả\n",
    "- \"AuthorEmail\" là email của tác giả\n",
    "- \"AuthorDate\" là ngày tác giả thực hiện commit, ngày được format theo chuẩn RFC2822 (xem phần gợi ý ở bên dưới để biết cách lấy ngày theo format này) \n",
    "- \"Subject\" là tựa đề của message (message tương tự như email, ngoài phần \"subject\" thì có thể có thêm phần \"body\"; ở đây ta chỉ lấy phần \"subject\")\n",
    "- \"ChangedFiles\": các file bị thay đổi, nếu có nhiều file thì các file được phân tách bởi dấu phẩy\n",
    "\n",
    "Tại sao mình dùng định dạng tsv thay vì csv? Vì dấu phẩy nhiều khả năng là sẽ có trong phần \"subject\" của message. Tab ít khả năng sẽ có hơn, nhưng nếu có thì bạn hãy thay bằng bốn khoảng trắng.\n",
    "\n",
    "<font color=gray>Gợi ý cho phần này:</font> \n",
    "- <font color=gray>Bạn có thể xem thêm về câu lệnh `git log` [ở đây](https://git-scm.com/book/en/v2/Git-Basics-Viewing-the-Commit-History)</font>\n",
    "- <font color=gray>Khi ở Notebook, bạn thử `cd` đến thư mục clone rồi `pwd` xem? Kết quả như vậy là vì khi thực hiện một dòng lệnh Linux ở Notebook thì Notebook sẽ tạo ra một terminal tạm thời để thực thi dòng lệnh đó trong phút chốc. Như vậy, câu lệnh `cd` vẫn là có `cd` đến thư mục clone nhưng là ở terminal tạm thời; khi câu lệnh `cd` chạy xong thì terminal tạm thời này sẽ được đóng và ta vẫn ở thư mục mà hiện chứa file Notebook. Để có thể `cd` rồi `pwd` thì một cách là ghi 2 câu lệnh này trên một dòng và cách nhau bởi `&&`; lúc này thì cả 2 câu lệnh sẽ được thực thi trên cùng một terminal</font>"
   ]
  },
  {
   "cell_type": "code",
   "execution_count": 31,
   "id": "dd188ac1",
   "metadata": {
    "deletable": false,
    "nbgrader": {
     "cell_type": "code",
     "checksum": "55b0b31d2d3104224a68b2c60ac4fccf",
     "grade": false,
     "grade_id": "cell-7a31931ee1dd0b8b",
     "locked": false,
     "schema_version": 3,
     "solution": true,
     "task": false
    }
   },
   "outputs": [
    {
     "name": "stdout",
     "output_type": "stream",
     "text": [
      "C:\\Users\\t480\\Downloads\\LT_KHDL\\draft\\repo_folder\n",
      "C:\\Users\\t480\\Downloads\\LT_KHDL\\draft\n"
     ]
    }
   ],
   "source": [
    "# YOUR CODE HERE\n",
    "%cd ./repo_folder\n",
    "info_commits=!git log --pretty=format:\"%h,%p,%an,%ae,%aD,%s\" --raw\n",
    "details=[] #Danh sách chứa thông tin chi tiết của từng commit theo thứ tự yêu cầu của đề.\n",
    "changed_file_name=''\n",
    "count=1\n",
    "has_change_files=False\n",
    "end_concat_files=False\n",
    "for i in range(len(info_commits)):\n",
    "    temp=[]\n",
    "    if info_commits[i]!='':\n",
    "        fields=info_commits[i].split(',')\n",
    "        if i==len(info_commits)-1:\n",
    "            if info_commits[i][0]==':':\n",
    "                has_change_files=True\n",
    "            else:\n",
    "                has_change_files=False\n",
    "        else:\n",
    "            if info_commits[i+1]!='':\n",
    "                if info_commits[i+1][0]==':':\n",
    "                    has_change_files=True\n",
    "                else:\n",
    "                    has_change_files=False\n",
    "            else:\n",
    "                if info_commits[i+2][0]==':':\n",
    "                    has_change_files=True\n",
    "                else:\n",
    "                    has_change_files=False\n",
    "        #kiểm tra xem phần tử trong list là thông tin commit hay thông tin các file bị đổi.\n",
    "        if info_commits[i][0]!=':':\n",
    "            temp.append(fields[0])\n",
    "            temp.append(fields[1])\n",
    "            temp.append(fields[2])\n",
    "            temp.append(fields[3])\n",
    "            temp.append(fields[4]+','+fields[5])\n",
    "            subject_name=''\n",
    "            for i in range(6, len(fields)):\n",
    "                subject_name= subject_name + fields[i]\n",
    "                if i!=len(fields)-1:\n",
    "                    subject_name=subject_name+','\n",
    "                else:\n",
    "                    subject_name=subject_name\n",
    "            temp.append(subject_name)\n",
    "            details.append(temp)\n",
    "            if has_change_files==False:\n",
    "                details[-1].append('')\n",
    "            if end_concat_files:\n",
    "                details[-2].append(changed_file_name[0:-1])\n",
    "                changed_file_name=''\n",
    "                has_change_files=False\n",
    "                end_concat_files=False\n",
    "        else:\n",
    "            temp2=fields[0].split()\n",
    "            if len(temp2)>0:\n",
    "                changed_file_name=changed_file_name+temp2[-1]+','\n",
    "            if i!=len(info_commits) -1:\n",
    "                if info_commits[i+1]!='':\n",
    "                    if info_commits[i+1][0]!=':':\n",
    "                        end_concat_files=True\n",
    "                else:\n",
    "                    if info_commits[i+2][0]!=':':\n",
    "                        end_concat_files=True\n",
    "            if i==len(info_commits) -1:\n",
    "                details[-1].append(changed_file_name[0:-1])\n",
    "%cd ../\n",
    "with open('log.tsv','w') as f:\n",
    "    f.write('Id\\tParentIds\\tAuthorName\\tAuthorEmail\\tAuthorDate\\tSubject\\tChangedFiles\\n')\n",
    "    for i in range(len(details)):\n",
    "        f.write(details[i][0]+'\\t'+details[i][1]+'\\t'+details[i][2]+'\\t'+details[i][3]+'\\t'+details[i][4]+'\\t'+details[i][5]+'\\t'+details[i][6]+'\\n')"
   ]
  },
  {
   "cell_type": "code",
   "execution_count": 32,
   "id": "1c507d6f",
   "metadata": {
    "deletable": false,
    "editable": false,
    "nbgrader": {
     "cell_type": "code",
     "checksum": "0423c7b3167b4b74060cf441d2dc344b",
     "grade": true,
     "grade_id": "cell-1671c3f106d5da7d",
     "locked": true,
     "points": 3,
     "schema_version": 3,
     "solution": false,
     "task": false
    }
   },
   "outputs": [],
   "source": [
    "# TEST\n",
    "file = open('log.tsv', 'r')\n",
    "log = file.read()\n",
    "file.close()\n",
    "file = open('correct_log.tsv', 'r')\n",
    "correct_log = file.read()\n",
    "file.close()\n",
    "assert log == correct_log"
   ]
  },
  {
   "cell_type": "markdown",
   "id": "43a99fa4",
   "metadata": {},
   "source": [
    "---"
   ]
  },
  {
   "cell_type": "markdown",
   "id": "804be566",
   "metadata": {},
   "source": [
    "## Khám phá dữ liệu"
   ]
  },
  {
   "cell_type": "markdown",
   "id": "d4673a3c",
   "metadata": {},
   "source": [
    "### Dữ liệu có bao nhiêu dòng và bao nhiêu cột? (0.5đ)"
   ]
  },
  {
   "cell_type": "markdown",
   "id": "8cb31291",
   "metadata": {},
   "source": [
    "Đầu tiên, bạn sẽ đọc dữ liệu từ file \"log.tsv\" (nếu phần thu thập dữ liệu bạn làm chưa đúng thì bạn có thể đọc từ file \"correct_log.tsv\" mà mình đã cung cấp). Bạn lưu kết quả đọc được vào biến `cols`. Biến `cols` là một dictionary, trong đó mỗi phần tử ứng với một cột, key là chuỗi ứng với tên cột, value là list chứa các giá trị của cột (mỗi giá trị bạn cứ tạm để kiểu dữ liệu là chuỗi).\n",
    "\n",
    "Kế tiếp, từ biến `cols`, bạn sẽ tính số dòng và số cột, rồi lần lượt lưu vào hai biến là `num_rows` và `num_cols`."
   ]
  },
  {
   "cell_type": "code",
   "execution_count": 33,
   "id": "3e6f19fd",
   "metadata": {
    "deletable": false,
    "nbgrader": {
     "cell_type": "code",
     "checksum": "2129a14a7289ce808929d5a67e787a07",
     "grade": false,
     "grade_id": "cell-f2f6dbf283e0ccee",
     "locked": false,
     "schema_version": 3,
     "solution": true,
     "task": false
    }
   },
   "outputs": [],
   "source": [
    "# YOUR CODE HERE\n",
    "cols={}\n",
    "with open('correct_log.tsv','r',encoding='utf-8') as f:\n",
    "    row=f.readline()\n",
    "    headers=row.strip().split() #lấy tên các keys.\n",
    "    values=[] #list chứa các list giá trị ở mỗi cột.\n",
    "    for i in range(len(headers)):\n",
    "        values.append([])\n",
    "    row=f.readline()\n",
    "    while row!='' and row!=None:\n",
    "        row=row.strip()\n",
    "        row=row.replace('\\t\\t','\\t#Missing\\t')\n",
    "        row=row.split('\\t')\n",
    "        for i in range(len(row)):\n",
    "            if row[i]=='#Missing':\n",
    "                values[i].append('')\n",
    "            else:\n",
    "                values[i].append(row[i])\n",
    "        if len(headers)>len(row):\n",
    "            values[len(headers)-1].append('') #TH cột changed file bị thiếu. \n",
    "        row=f.readline()\n",
    "for i in range(len(headers)):\n",
    "    cols[headers[i]]=values[i]\n",
    "num_rows=len(cols['Id'])\n",
    "num_cols=len(list(cols.keys()))"
   ]
  },
  {
   "cell_type": "code",
   "execution_count": 34,
   "id": "f7e3e0ee",
   "metadata": {
    "deletable": false,
    "editable": false,
    "nbgrader": {
     "cell_type": "code",
     "checksum": "b8aeec5e8bb7d4402d3ade6077db687d",
     "grade": true,
     "grade_id": "cell-cae77558e0985b8d",
     "locked": true,
     "points": 0.5,
     "schema_version": 3,
     "solution": false,
     "task": false
    }
   },
   "outputs": [],
   "source": [
    "# TEST\n",
    "assert num_rows == 1928\n",
    "assert num_cols == 7\n",
    "assert set(cols.keys()) == set(['Id', 'ParentIds', 'AuthorName', \n",
    "                                'AuthorEmail', 'AuthorDate', 'Subject', \n",
    "                                'ChangedFiles'])\n",
    "id_col_len = len(cols['Id'])\n",
    "for col_name in cols:\n",
    "    assert len(cols[col_name]) == id_col_len"
   ]
  },
  {
   "cell_type": "markdown",
   "id": "3d440322",
   "metadata": {},
   "source": [
    "### Mỗi dòng có ý nghĩa gì? Có vấn đề các dòng có ý nghĩa khác nhau không?"
   ]
  },
  {
   "cell_type": "markdown",
   "id": "2bf7cc38",
   "metadata": {},
   "source": [
    "Mỗi dòng ứng với một commit. Có vẻ không có dòng nào \"lạc loài\" (nghĩa là không có vấn đề các dòng có ý nghĩa khác nhau)."
   ]
  },
  {
   "cell_type": "markdown",
   "id": "dfd3b9ac",
   "metadata": {},
   "source": [
    "### Dữ liệu có các dòng bị lặp không? (0.25đ)"
   ]
  },
  {
   "cell_type": "markdown",
   "id": "ea9d9c8f",
   "metadata": {},
   "source": [
    "Có lẽ là không có. Để chắc ăn thì một cách là ta có thể check cột \"Id\"; nếu cột \"Id\" không có giá trị bị lặp thì có thể kết luận là không có dòng bị lặp. Bạn sẽ làm vụ này và lưu kết quả check vào biến `duplicated_id`; biến này bằng True nếu cột \"Id\" có giá trị lặp và bằng False nếu ngược lại."
   ]
  },
  {
   "cell_type": "code",
   "execution_count": 36,
   "id": "c1625ffc",
   "metadata": {
    "deletable": false,
    "nbgrader": {
     "cell_type": "code",
     "checksum": "1a76647c83c980ad5211ae3face16788",
     "grade": false,
     "grade_id": "cell-31e053e964e6c9eb",
     "locked": false,
     "schema_version": 3,
     "solution": true,
     "task": false
    }
   },
   "outputs": [],
   "source": [
    "# YOUR CODE HERE\n",
    "duplicated_id=len(set(cols['Id']))!=len(cols['Id'])"
   ]
  },
  {
   "cell_type": "code",
   "execution_count": 37,
   "id": "e0516bc2",
   "metadata": {
    "deletable": false,
    "editable": false,
    "nbgrader": {
     "cell_type": "code",
     "checksum": "42bf24e55c7bd536e139c6244328b218",
     "grade": true,
     "grade_id": "cell-ab5957518b489fa7",
     "locked": true,
     "points": 0.25,
     "schema_version": 3,
     "solution": false,
     "task": false
    }
   },
   "outputs": [],
   "source": [
    "# TEST\n",
    "assert duplicated_id == False"
   ]
  },
  {
   "cell_type": "markdown",
   "id": "f019928b",
   "metadata": {},
   "source": [
    "### Mỗi cột có ý nghĩa gì?"
   ]
  },
  {
   "cell_type": "markdown",
   "id": "b9b22dd7",
   "metadata": {},
   "source": [
    "Vụ này mình đã nói lúc thu thập dữ liệu. Ở đây, mình ghi lại một lần nữa:\n",
    "\n",
    "- \"Id\" là id (hash) dạng viết gọn của commit\n",
    "- \"ParentIds\" là id dạng viết gọn của (các) commit cha\n",
    "- \"AuthorName\" là tên của tác giả\n",
    "- \"AuthorEmail\" là email của tác giả\n",
    "- \"AuthorDate\" là ngày tác giả thực hiện commit\n",
    "- \"Subject\" là tựa đề của message (message tương tự như email, ngoài phần \"subject\" thì có thể có thêm phần \"body\"; ở đây ta chỉ lấy phần \"subject\")\n",
    "- \"ChangedFiles\": các file bị thay đổi, nếu có nhiều file thì các file được phân tách bởi dấu phẩy"
   ]
  },
  {
   "cell_type": "markdown",
   "id": "8f0a41a1",
   "metadata": {},
   "source": [
    "### Mỗi cột hiện đang có kiểu dữ liệu gì? Có cột nào có kiểu dữ liệu chưa phù hợp để có thể xử lý tiếp không?"
   ]
  },
  {
   "cell_type": "markdown",
   "id": "b7268c8f",
   "metadata": {},
   "source": [
    "- Các cột \"Id\", \"ParentIds\", \"AuthorName\", \"AuthorEmail\", \"Subject\": kiểu dữ liệu dạng chuỗi là đúng rồi\n",
    "- Cột \"ChangedFiles\": hmm ... có lẽ tạm thời ta vẫn để dạng chuỗi, có gì cần thì ta sẽ xử lý sau\n",
    "- Cột \"AuthorDate\": cần chuyển từ kiểu dữ liệu dạng chuỗi sang datetime; để có thể tiếp tục khám phá tiếp thì ngay sau đây bạn sẽ tiền xử lý vụ này luôn"
   ]
  },
  {
   "cell_type": "markdown",
   "id": "eb45766a",
   "metadata": {},
   "source": [
    "---"
   ]
  },
  {
   "cell_type": "markdown",
   "id": "b94eccc0",
   "metadata": {},
   "source": [
    "## Tiền xử lý (0.5đ)"
   ]
  },
  {
   "cell_type": "markdown",
   "id": "07367649",
   "metadata": {},
   "source": [
    "Ở đây, bạn sẽ chuyển cột \"AuthorDate\" từ dạng chuỗi sang datetime. <font color=gray>Gợi ý: bạn xem [document](https://docs.python.org/3/library/datetime.html#strftime-and-strptime-format-codes) để biết cách truyền format phù hợp cho hàm `strptime`.</font>"
   ]
  },
  {
   "cell_type": "code",
   "execution_count": 38,
   "id": "4f5f670c",
   "metadata": {
    "deletable": false,
    "nbgrader": {
     "cell_type": "code",
     "checksum": "758261b3f6045b402f5abb5f4b080bb4",
     "grade": false,
     "grade_id": "cell-742e74182a9d1936",
     "locked": false,
     "schema_version": 3,
     "solution": true,
     "task": false
    }
   },
   "outputs": [],
   "source": [
    "# YOUR CODE HERE\n",
    "date=cols['AuthorDate']\n",
    "for i in range(len(date)):\n",
    "    if date[i]!='':\n",
    "        date[i]=date[i][5:] #bỏ đi giá trị thứ trong tuần.\n",
    "for i in range(len(date)):\n",
    "    if date[i]=='':\n",
    "        date[i]='' #Những dòng bị thiếu sẽ vẫn là thiếu\n",
    "    else:\n",
    "        date[i]=datetime.datetime.strptime(date[i], '%d %b %Y %H:%M:%S %z')\n",
    "cols.update({'AuthorDate':date})"
   ]
  },
  {
   "cell_type": "code",
   "execution_count": 39,
   "id": "d3745ce5",
   "metadata": {
    "deletable": false,
    "editable": false,
    "nbgrader": {
     "cell_type": "code",
     "checksum": "5eca1fcb2e213809282e22ef9e6c8dfe",
     "grade": true,
     "grade_id": "cell-c551b6a15162bb10",
     "locked": true,
     "points": 0.5,
     "schema_version": 3,
     "solution": false,
     "task": false
    }
   },
   "outputs": [],
   "source": [
    "# TEST\n",
    "assert type(cols['AuthorDate'][0]) == datetime.datetime\n",
    "assert cols['AuthorDate'][0] == datetime.datetime(2021, 4, 20, 12, 27, 9, \n",
    "            tzinfo=datetime.timezone(datetime.timedelta(seconds=3600)))"
   ]
  },
  {
   "cell_type": "markdown",
   "id": "ef44a52e",
   "metadata": {},
   "source": [
    "---"
   ]
  },
  {
   "cell_type": "markdown",
   "id": "53154bef",
   "metadata": {},
   "source": [
    "## Khám phá dữ liệu (tiếp tục)"
   ]
  },
  {
   "cell_type": "markdown",
   "id": "d651709d",
   "metadata": {},
   "source": [
    "### Với mỗi cột có kiểu dữ liệu dạng số (numeric) và dạng datetime, các giá trị được phân bố như thế nào? (0.5đ)"
   ]
  },
  {
   "cell_type": "markdown",
   "id": "0d592408",
   "metadata": {},
   "source": [
    "Ở đây thì không có cột dạng số, chỉ có một cột dạng datetime là cột \"AuthorDate\".\n",
    "\n",
    "Đầu tiên, bạn tính tỉ lệ % các giá trị thiếu của cột \"AuthorDate\". <font color=gray>Gợi ý: không cần code, có thể lập luận dựa vào kết quả khi chuyển cột \"AuthorDate\" từ dạng chuỗi sang datetime ở bên trên.</font>"
   ]
  },
  {
   "cell_type": "markdown",
   "id": "38cc0dc8",
   "metadata": {
    "deletable": false,
    "nbgrader": {
     "cell_type": "markdown",
     "checksum": "0d29851ae39f01d9ed0d34f4891a918b",
     "grade": true,
     "grade_id": "cell-47e2584daf9dda74",
     "locked": false,
     "points": 0.25,
     "schema_version": 3,
     "solution": true,
     "task": false
    }
   },
   "source": [
    "YOUR ANSWER HERE"
   ]
  },
  {
   "cell_type": "markdown",
   "id": "109537c1",
   "metadata": {},
   "source": [
    "Tiếp theo, bạn tính min và max của cột \"AuthorDate\", rồi lần lượt lưu vào hai biến `author_date_min` và `author_date_max`."
   ]
  },
  {
   "cell_type": "code",
   "execution_count": 40,
   "id": "154c41c1",
   "metadata": {
    "deletable": false,
    "nbgrader": {
     "cell_type": "code",
     "checksum": "5abe340e46e2811a6fa8c3fea2bf7dd6",
     "grade": false,
     "grade_id": "cell-ed5647763d70e921",
     "locked": false,
     "schema_version": 3,
     "solution": true,
     "task": false
    }
   },
   "outputs": [],
   "source": [
    "# YOUR CODE HERE\n",
    "author_date_max=max(cols['AuthorDate'])\n",
    "author_date_min=min(cols['AuthorDate'])"
   ]
  },
  {
   "cell_type": "code",
   "execution_count": 41,
   "id": "b713da5b",
   "metadata": {
    "deletable": false,
    "editable": false,
    "nbgrader": {
     "cell_type": "code",
     "checksum": "c7fd8957fa8f92f3f85288d8cc249fba",
     "grade": true,
     "grade_id": "cell-8bb55737a75c0a6e",
     "locked": true,
     "points": 0.25,
     "schema_version": 3,
     "solution": false,
     "task": false
    }
   },
   "outputs": [],
   "source": [
    "# TEST\n",
    "assert author_date_min == datetime.datetime(2015, 11, 9, 13, 13, 28, \n",
    "            tzinfo=datetime.timezone(datetime.timedelta(seconds=3600)))\n",
    "assert author_date_max == datetime.datetime(2021, 4, 20, 12, 27, 9, \n",
    "            tzinfo=datetime.timezone(datetime.timedelta(seconds=3600)))"
   ]
  },
  {
   "cell_type": "markdown",
   "id": "1e7d1c90",
   "metadata": {},
   "source": [
    "Hmm ... Min và max của cột \"AuthorDate\" không có gì bất thường."
   ]
  },
  {
   "cell_type": "markdown",
   "id": "49a7a821",
   "metadata": {},
   "source": [
    "### Với mỗi cột có kiểu dữ liệu dạng phân loại (categorical), các giá trị được phân bố như thế nào? (1.75đ)"
   ]
  },
  {
   "cell_type": "markdown",
   "id": "9ed2a095",
   "metadata": {},
   "source": [
    "Các cột dạng phân loại là các cột mà không phải là cột \"AuthorDate\". Bạn sẽ lưu thông tin của các cột này vào biến `cate_col_profiles`. Biến này là một dictionary, trong đó mỗi phần tử ứng với một cột dạng phân loại, key là tên cột, value là list gồm: tỉ lệ % giá trị thiếu, số lượng các giá trị khác nhau (không tính giá trị thiếu), set chứa các giá trị khác nhau (không bao gồm giá trị thiếu)."
   ]
  },
  {
   "cell_type": "code",
   "execution_count": 46,
   "id": "f41b8828",
   "metadata": {
    "deletable": false,
    "nbgrader": {
     "cell_type": "code",
     "checksum": "3317a65ff1cce4222cc0a63602dcaef9",
     "grade": false,
     "grade_id": "cell-d9eb895996d7b157",
     "locked": false,
     "schema_version": 3,
     "solution": true,
     "task": false
    }
   },
   "outputs": [],
   "source": [
    "# YOUR CODE HERE\n",
    "cate_col_profiles={}\n",
    "headers=['AuthorEmail','AuthorName','ChangedFiles','Id','ParentIds','Subject']\n",
    "for i in range(len(headers)):\n",
    "    values=cols[headers[i]]\n",
    "    sum_missing=sum([(values[j]=='') for j in range(len(values))])\n",
    "    miss_percent=(sum_missing/len(values))*100\n",
    "    set_values=set(values)\n",
    "    set_values.discard('')\n",
    "    cate_col_profiles[headers[i]]=[miss_percent,len(set_values),set_values]"
   ]
  },
  {
   "cell_type": "code",
   "execution_count": null,
   "id": "c2b2d0d3",
   "metadata": {
    "deletable": false,
    "editable": false,
    "nbgrader": {
     "cell_type": "code",
     "checksum": "53f116101747d9d3c845e486cb8ab2e8",
     "grade": true,
     "grade_id": "cell-50123f76f79e1f27",
     "locked": true,
     "points": 1,
     "schema_version": 3,
     "solution": false,
     "task": false
    }
   },
   "outputs": [],
   "source": [
    "# TEST\n",
    "assert set(cate_col_profiles.keys()) == {'AuthorEmail', 'AuthorName', \n",
    "                                         'ChangedFiles', 'Id', \n",
    "                                         'ParentIds', 'Subject'}\n",
    "for col_name, col_profile in cate_col_profiles.items():\n",
    "    assert len(col_profile) == 3\n",
    "    assert len(col_profile[2]) == col_profile[1]\n",
    "assert round(cate_col_profiles['ParentIds'][0], 3) == 0.052\n",
    "assert round(cate_col_profiles['ChangedFiles'][0], 3) == 16.079\n",
    "assert cate_col_profiles['ParentIds'][1] == 1820\n",
    "assert cate_col_profiles['ChangedFiles'][1] == 842"
   ]
  },
  {
   "cell_type": "code",
   "execution_count": null,
   "id": "f332814f",
   "metadata": {},
   "outputs": [],
   "source": [
    "# TEST (BY EYES)\n",
    "print(f\"{'ColName':12} {'Miss(%)':7} {'NumDifVals':10} {'SomeVals'}\")\n",
    "for col_name, col_profile in cate_col_profiles.items():\n",
    "    print(f'{col_name:12} {col_profile[0]:<7.3f} {col_profile[1]:<10} {col_profile[2].__repr__()[:34]+\"...\":<}')"
   ]
  },
  {
   "cell_type": "markdown",
   "id": "80b141f0",
   "metadata": {},
   "source": [
    "Bạn quan sát kết quả in ra ở trên (tạm thời chưa để ý đến cột \"Miss(%)\") và cho biết có gì bất thường không? Hay mọi thứ đều bình thường? Cho mình biết tại sao bạn lại kết luận như vậy."
   ]
  },
  {
   "cell_type": "markdown",
   "id": "5f0862e3",
   "metadata": {
    "deletable": false,
    "nbgrader": {
     "cell_type": "markdown",
     "checksum": "6b4e0ea35fa2498c8ca58017183e5ca7",
     "grade": true,
     "grade_id": "cell-88055a6ed4991805",
     "locked": false,
     "points": 0.25,
     "schema_version": 3,
     "solution": true,
     "task": false
    }
   },
   "source": [
    "YOUR ANSWER HERE"
   ]
  },
  {
   "cell_type": "markdown",
   "id": "262f05c9",
   "metadata": {},
   "source": [
    "Kế tiếp, bạn hãy cho in ra các dòng mà có giá trị thiếu (in sao là tùy bạn, miễn là dễ nhìn). Sau đó, bạn hãy quan sát các dòng này để xem tại sao lại bị thiếu (trong trường hợp, bạn không biết tại sao thì cứ ghi nhận là không biết tại sao)."
   ]
  },
  {
   "cell_type": "code",
   "execution_count": 91,
   "id": "b436b01c",
   "metadata": {
    "deletable": false,
    "nbgrader": {
     "cell_type": "code",
     "checksum": "d1a9502c7c37ba7b6600579bec4e5627",
     "grade": true,
     "grade_id": "cell-fda56cd71a2bb407",
     "locked": false,
     "points": 0.25,
     "schema_version": 3,
     "solution": true,
     "task": false
    }
   },
   "outputs": [
    {
     "name": "stdout",
     "output_type": "stream",
     "text": [
      "['AuthorEmail:vidartf@gmail.com', 'AuthorName:Vidar Tonaas Fauske', 'ChangedFiles:#Missing', 'Id:524aac2', 'ParentIds:2994fb4 e4e696c', 'Subject:Merge pull request #586 from fcollonval/fcollonval/issue583']\n",
      "----------------------------------------------------------------------------------------------------\n",
      "['AuthorEmail:vidartf@gmail.com', 'AuthorName:Vidar Tonaas Fauske', 'ChangedFiles:#Missing', 'Id:ab8e60d', 'ParentIds:f1e18ff 23e0cc9', 'Subject:Merge pull request #581 from vidartf/clenaup']\n",
      "----------------------------------------------------------------------------------------------------\n",
      "['AuthorEmail:vidartf@gmail.com', 'AuthorName:Vidar Tonaas Fauske', 'ChangedFiles:#Missing', 'Id:f1e18ff', 'ParentIds:52f7990 6c1ce97', 'Subject:Merge pull request #572 from fcollonval/ft/federated-package']\n",
      "----------------------------------------------------------------------------------------------------\n",
      "['AuthorEmail:vidartf@gmail.com', 'AuthorName:Vidar Tonaas Fauske', 'ChangedFiles:#Missing', 'Id:52f7990', 'ParentIds:8ce708c 25252f6', 'Subject:Merge pull request #580 from fcollonval/fix/follow-up-576']\n",
      "----------------------------------------------------------------------------------------------------\n",
      "['AuthorEmail:vidartf@gmail.com', 'AuthorName:Vidar Tonaas Fauske', 'ChangedFiles:#Missing', 'Id:8ce708c', 'ParentIds:4291b8c dea43d6', 'Subject:Merge pull request #566 from krassowski/fix-cell-id-tests']\n",
      "----------------------------------------------------------------------------------------------------\n",
      "['AuthorEmail:vidartf@gmail.com', 'AuthorName:Vidar Tonaas Fauske', 'ChangedFiles:#Missing', 'Id:075f502', 'ParentIds:2d1edb8 4291b8c', \"Subject:Merge branch 'master' into pr/566\"]\n",
      "----------------------------------------------------------------------------------------------------\n",
      "['AuthorEmail:vidartf@gmail.com', 'AuthorName:Vidar Tonaas Fauske', 'ChangedFiles:#Missing', 'Id:4291b8c', 'ParentIds:ab9f1bc 86c28f7', 'Subject:Merge pull request #579 from vidartf/mathjax-server-ext']\n",
      "----------------------------------------------------------------------------------------------------\n",
      "['AuthorEmail:vidartf@gmail.com', 'AuthorName:Vidar Tonaas Fauske', 'ChangedFiles:#Missing', 'Id:ab9f1bc', 'ParentIds:c823623 295e834', 'Subject:Merge pull request #576 from fcollonval/ft/jest']\n",
      "----------------------------------------------------------------------------------------------------\n",
      "['AuthorEmail:5832902+krassowski@users.noreply.github.com', 'AuthorName:Michał Krassowski', 'ChangedFiles:#Missing', 'Id:fe2911a', 'ParentIds:c38cfc5 25101fe', 'Subject:Merge pull request #1 from vidartf/id-tests']\n",
      "----------------------------------------------------------------------------------------------------\n",
      "['AuthorEmail:vidartf@gmail.com', 'AuthorName:Vidar Tonaas Fauske', 'ChangedFiles:#Missing', 'Id:a0726e5', 'ParentIds:75363a0 8c52de8', 'Subject:Merge pull request #551 from ajbozarth/lab3']\n",
      "----------------------------------------------------------------------------------------------------\n",
      "['AuthorEmail:vidartf@gmail.com', 'AuthorName:Vidar Tonaas Fauske', 'ChangedFiles:#Missing', 'Id:75363a0', 'ParentIds:f6beb60 206fee8', 'Subject:Merge pull request #557 from jupyter/docs-details']\n",
      "----------------------------------------------------------------------------------------------------\n",
      "['AuthorEmail:vidartf@gmail.com', 'AuthorName:Vidar Tonaas Fauske', 'ChangedFiles:#Missing', 'Id:f6beb60', 'ParentIds:92fc22d 4b1129b', 'Subject:Merge pull request #546 from vidartf/merge-fixes']\n",
      "----------------------------------------------------------------------------------------------------\n",
      "['AuthorEmail:vidartf@gmail.com', 'AuthorName:Vidar Tonaas Fauske', 'ChangedFiles:#Missing', 'Id:77cac58', 'ParentIds:b707946 ca3b311', 'Subject:Merge pull request #545 from vidartf/tool-beacon']\n",
      "----------------------------------------------------------------------------------------------------\n",
      "['AuthorEmail:vidartf@gmail.com', 'AuthorName:Vidar Tonaas Fauske', 'ChangedFiles:#Missing', 'Id:b707946', 'ParentIds:141b2dc 598c072', 'Subject:Merge pull request #543 from vidartf/limit-stream-diff']\n",
      "----------------------------------------------------------------------------------------------------\n",
      "['AuthorEmail:vidartf@gmail.com', 'AuthorName:Vidar Tonaas Fauske', 'ChangedFiles:#Missing', 'Id:141b2dc', 'ParentIds:0f0a90a 4d2e319', 'Subject:Merge pull request #544 from vidartf/fix-merge-empty-base']\n",
      "----------------------------------------------------------------------------------------------------\n",
      "['AuthorEmail:vidartf@gmail.com', 'AuthorName:Vidar Tonaas Fauske', 'ChangedFiles:#Missing', 'Id:f259cae', 'ParentIds:8804407 eaf9c06', 'Subject:Merge pull request #538 from deanp70/master']\n",
      "----------------------------------------------------------------------------------------------------\n",
      "['AuthorEmail:vidartf@gmail.com', 'AuthorName:Vidar Tonaas Fauske', 'ChangedFiles:#Missing', 'Id:eaf9c06', 'ParentIds:bf5a540 a20c789', \"Subject:Merge branch 'wip' into pr/538\"]\n",
      "----------------------------------------------------------------------------------------------------\n",
      "['AuthorEmail:vidartf@gmail.com', 'AuthorName:Vidar Tonaas Fauske', 'ChangedFiles:#Missing', 'Id:d330173', 'ParentIds:133c4bf 2cd6efe', 'Subject:Merge pull request #518 from vidartf/test-cleanup']\n",
      "----------------------------------------------------------------------------------------------------\n",
      "['AuthorEmail:vidartf@gmail.com', 'AuthorName:Vidar Tonaas Fauske', 'ChangedFiles:#Missing', 'Id:133c4bf', 'ParentIds:a9435d5 326da89', 'Subject:Merge pull request #517 from vidartf/no-net']\n",
      "----------------------------------------------------------------------------------------------------\n",
      "['AuthorEmail:vidartf@gmail.com', 'AuthorName:Vidar Tonaas Fauske', 'ChangedFiles:#Missing', 'Id:a9435d5', 'ParentIds:a506b66 d4f8247', 'Subject:Merge pull request #516 from vidartf/th-config']\n",
      "----------------------------------------------------------------------------------------------------\n",
      "['AuthorEmail:benjaminrk@gmail.com', 'AuthorName:Min RK', 'ChangedFiles:#Missing', 'Id:a506b66', 'ParentIds:d067442 fed6e17', 'Subject:Merge pull request #514 from jupyter/vidartf-patch-1']\n",
      "----------------------------------------------------------------------------------------------------\n",
      "['AuthorEmail:vidartf@gmail.com', 'AuthorName:Vidar Tonaas Fauske', 'ChangedFiles:#Missing', 'Id:d067442', 'ParentIds:d9cbd7b 9b67c6c', 'Subject:Merge pull request #515 from vidartf/cleanup']\n",
      "----------------------------------------------------------------------------------------------------\n",
      "['AuthorEmail:vidartf@gmail.com', 'AuthorName:Vidar Tonaas Fauske', 'ChangedFiles:#Missing', 'Id:d9cbd7b', 'ParentIds:425c46d f036d20', 'Subject:Merge pull request #512 from blink1073/jlab-2.0-final']\n",
      "----------------------------------------------------------------------------------------------------\n",
      "['AuthorEmail:benjaminrk@gmail.com', 'AuthorName:Min RK', 'ChangedFiles:#Missing', 'Id:425c46d', 'ParentIds:6259cd0 ce08ccf', 'Subject:Merge pull request #508 from blink1073/jlab-2.0']\n",
      "----------------------------------------------------------------------------------------------------\n",
      "['AuthorEmail:vidartf@gmail.com', 'AuthorName:Vidar Tonaas Fauske', 'ChangedFiles:#Missing', 'Id:6259cd0', 'ParentIds:137182a 0dbe870', 'Subject:Merge pull request #502 from kynan/long-description']\n",
      "----------------------------------------------------------------------------------------------------\n",
      "['AuthorEmail:vidartf@gmail.com', 'AuthorName:Vidar Tonaas Fauske', 'ChangedFiles:#Missing', 'Id:137182a', 'ParentIds:a9faba1 cd528a8', 'Subject:Merge pull request #504 from minrk/drop-py2']\n",
      "----------------------------------------------------------------------------------------------------\n",
      "['AuthorEmail:vidartf@gmail.com', 'AuthorName:Vidar Tonaas Fauske', 'ChangedFiles:#Missing', 'Id:a9faba1', 'ParentIds:cdadb44 e114af0', 'Subject:Merge pull request #498 from dniku/master']\n",
      "----------------------------------------------------------------------------------------------------\n",
      "['AuthorEmail:vidartf@gmail.com', 'AuthorName:Vidar Tonaas Fauske', 'ChangedFiles:#Missing', 'Id:cdadb44', 'ParentIds:ec065a7 0810fa3', 'Subject:Merge pull request #491 from dotmesh-io/addrange-removerange-conflict-take-2']\n",
      "----------------------------------------------------------------------------------------------------\n",
      "['AuthorEmail:vidartf@gmail.com', 'AuthorName:Vidar Tonaas Fauske', 'ChangedFiles:#Missing', 'Id:300067c', 'ParentIds:0590d1b b9d972e', 'Subject:Merge pull request #483 from vidartf/labupdate']\n",
      "----------------------------------------------------------------------------------------------------\n",
      "['AuthorEmail:vidartf@gmail.com', 'AuthorName:Vidar Tonaas Fauske', 'ChangedFiles:#Missing', 'Id:0590d1b', 'ParentIds:1f864d2 c3c652e', 'Subject:Merge pull request #477 from vidartf/web-config']\n",
      "----------------------------------------------------------------------------------------------------\n",
      "['AuthorEmail:vidartf@gmail.com', 'AuthorName:Vidar Tonaas Fauske', 'ChangedFiles:#Missing', 'Id:fabbeb7', 'ParentIds:ba18b56 b75bfa7', 'Subject:Merge pull request #475 from vidartf/fix-styling']\n",
      "----------------------------------------------------------------------------------------------------\n",
      "['AuthorEmail:vidartf@gmail.com', 'AuthorName:Vidar Tonaas Fauske', 'ChangedFiles:#Missing', 'Id:ba18b56', 'ParentIds:c2635db 0509d39', 'Subject:Merge pull request #466 from lebedov/nbshow-colorize']\n",
      "----------------------------------------------------------------------------------------------------\n",
      "['AuthorEmail:vidartf@gmail.com', 'AuthorName:Vidar Tonaas Fauske', 'ChangedFiles:#Missing', 'Id:8940d58', 'ParentIds:0910bcd 4f5cdde', 'Subject:Merge pull request #465 from Godley/master']\n",
      "----------------------------------------------------------------------------------------------------\n",
      "['AuthorEmail:vidartf@gmail.com', 'AuthorName:Vidar Tonaas Fauske', 'ChangedFiles:#Missing', 'Id:0910bcd', 'ParentIds:b8c7829 95fe0aa', 'Subject:Merge pull request #462 from vidartf/fix-cm-max-height']\n",
      "----------------------------------------------------------------------------------------------------\n",
      "['AuthorEmail:vidartf@gmail.com', 'AuthorName:Vidar Tonaas Fauske', 'ChangedFiles:#Missing', 'Id:b8c7829', 'ParentIds:91ac9bf 384acd9', 'Subject:Merge pull request #463 from Godley/master']\n",
      "----------------------------------------------------------------------------------------------------\n",
      "['AuthorEmail:vidartf@gmail.com', 'AuthorName:Vidar Tonaas Fauske', 'ChangedFiles:#Missing', 'Id:91ac9bf', 'ParentIds:31b716e 8e65719', 'Subject:Merge pull request #460 from jupyter/fa-https']\n",
      "----------------------------------------------------------------------------------------------------\n",
      "['AuthorEmail:vidartf@gmail.com', 'AuthorName:Vidar Tonaas Fauske', 'ChangedFiles:#Missing', 'Id:31b716e', 'ParentIds:07714c0 5ab35e7', 'Subject:Merge pull request #457 from minrk/remote-access']\n",
      "----------------------------------------------------------------------------------------------------\n",
      "['AuthorEmail:benjaminrk@gmail.com', 'AuthorName:Min RK', 'ChangedFiles:#Missing', 'Id:07714c0', 'ParentIds:435ce3b f79fd54', 'Subject:Merge pull request #450 from vidartf/fix-unhide-update']\n",
      "----------------------------------------------------------------------------------------------------\n",
      "['AuthorEmail:vidartf@gmail.com', 'AuthorName:Vidar Tonaas Fauske', 'ChangedFiles:#Missing', 'Id:435ce3b', 'ParentIds:d71758d 027145e', 'Subject:Merge pull request #454 from minrk/path-arg-type']\n",
      "----------------------------------------------------------------------------------------------------\n",
      "['AuthorEmail:vidartf@gmail.com', 'AuthorName:Vidar Tonaas Fauske', 'ChangedFiles:#Missing', 'Id:c24fc22', 'ParentIds:5a92521 93095de', 'Subject:Merge pull request #441 from vidartf/oldgit']\n",
      "----------------------------------------------------------------------------------------------------\n",
      "['AuthorEmail:vidartf@gmail.com', 'AuthorName:Vidar Tonaas Fauske', 'ChangedFiles:#Missing', 'Id:5a92521', 'ParentIds:ed222a2 eac7bc6', 'Subject:Merge pull request #438 from vidartf/empty-merge-base']\n",
      "----------------------------------------------------------------------------------------------------\n",
      "['AuthorEmail:vidartf@gmail.com', 'AuthorName:Vidar Tonaas Fauske', 'ChangedFiles:#Missing', 'Id:ed222a2', 'ParentIds:d44e3b5 b669e85', 'Subject:Merge pull request #439 from vidartf/chore-tests']\n",
      "----------------------------------------------------------------------------------------------------\n",
      "['AuthorEmail:vidartf@gmail.com', 'AuthorName:Vidar Tonaas Fauske', 'ChangedFiles:#Missing', 'Id:abdde8f', 'ParentIds:20e07f4 58c5197', 'Subject:Merge pull request #433 from vidartf/fix-nbmerge-doc']\n",
      "----------------------------------------------------------------------------------------------------\n",
      "['AuthorEmail:vidartf@gmail.com', 'AuthorName:Vidar Tonaas Fauske', 'ChangedFiles:#Missing', 'Id:d3a0962', 'ParentIds:60a93bc fefdbe5', 'Subject:Merge pull request #430 from vidartf/update-lab']\n",
      "----------------------------------------------------------------------------------------------------\n",
      "['AuthorEmail:vidartf@gmail.com', 'AuthorName:Vidar Tonaas Fauske', 'ChangedFiles:#Missing', 'Id:959ce75', 'ParentIds:98c3af9 091bdea', 'Subject:Merge pull request #421 from vidartf/fix-mathjax']\n",
      "----------------------------------------------------------------------------------------------------\n",
      "['AuthorEmail:vidartf@gmail.com', 'AuthorName:Vidar Tonaas Fauske', 'ChangedFiles:#Missing', 'Id:98c3af9', 'ParentIds:98bf4dc 9d36c6b', 'Subject:Merge pull request #429 from vidartf/lint2']\n",
      "----------------------------------------------------------------------------------------------------\n",
      "['AuthorEmail:vidartf@gmail.com', 'AuthorName:Vidar Tonaas Fauske', 'ChangedFiles:#Missing', 'Id:98bf4dc', 'ParentIds:c968e6f ac9647b', 'Subject:Merge pull request #428 from vidartf/config-pp']\n",
      "----------------------------------------------------------------------------------------------------\n",
      "['AuthorEmail:vidartf@gmail.com', 'AuthorName:Vidar Tonaas Fauske', 'ChangedFiles:#Missing', 'Id:c968e6f', 'ParentIds:d070da0 0970ed3', 'Subject:Merge pull request #424 from vidartf/unchanged']\n",
      "----------------------------------------------------------------------------------------------------\n",
      "['AuthorEmail:vidartf@gmail.com', 'AuthorName:Vidar Tonaas Fauske', 'ChangedFiles:#Missing', 'Id:eef0e50', 'ParentIds:14137b6 c591417', 'Subject:Merge pull request #422 from vidartf/fix-mergetool-save']\n",
      "----------------------------------------------------------------------------------------------------\n",
      "['AuthorEmail:vidartf@gmail.com', 'AuthorName:Vidar Tonaas Fauske', 'ChangedFiles:#Missing', 'Id:559bae6', 'ParentIds:039c821 7111b70', 'Subject:Merge pull request #420 from vidartf/lab-update']\n",
      "----------------------------------------------------------------------------------------------------\n",
      "['AuthorEmail:vidartf@gmail.com', 'AuthorName:Vidar Tonaas Fauske', 'ChangedFiles:#Missing', 'Id:fb6484a', 'ParentIds:3d7d95e 54cf807', 'Subject:Merge pull request #416 from vidartf/fix-filter']\n",
      "----------------------------------------------------------------------------------------------------\n",
      "['AuthorEmail:vidartf@gmail.com', 'AuthorName:Vidar Tonaas Fauske', 'ChangedFiles:#Missing', 'Id:3fc3e9a', 'ParentIds:a93b42c abc3939', 'Subject:Merge pull request #407 from vidartf/deps']\n",
      "----------------------------------------------------------------------------------------------------\n",
      "['AuthorEmail:vidartf@gmail.com', 'AuthorName:Vidar Tonaas Fauske', 'ChangedFiles:#Missing', 'Id:a93b42c', 'ParentIds:9cf252c 4605e25', 'Subject:Merge pull request #409 from vidartf/workaround-localhosts']\n",
      "----------------------------------------------------------------------------------------------------\n",
      "['AuthorEmail:vidartf@gmail.com', 'AuthorName:Vidar Tonaas Fauske', 'ChangedFiles:#Missing', 'Id:9cf252c', 'ParentIds:fc1af0c ff9642c', 'Subject:Merge pull request #403 from vidartf/fix-config']\n",
      "----------------------------------------------------------------------------------------------------\n",
      "['AuthorEmail:vidartf@gmail.com', 'AuthorName:Vidar Tonaas Fauske', 'ChangedFiles:#Missing', 'Id:fc1af0c', 'ParentIds:69585e7 229bd68', 'Subject:Merge pull request #400 from vidartf/optimize-diff2']\n",
      "----------------------------------------------------------------------------------------------------\n",
      "['AuthorEmail:vidartf@gmail.com', 'AuthorName:Vidar Tonaas Fauske', 'ChangedFiles:#Missing', 'Id:220bc1f', 'ParentIds:cf45e47 7df4bc8', 'Subject:Merge pull request #399 from vidartf/fix-dependency']\n",
      "----------------------------------------------------------------------------------------------------\n",
      "['AuthorEmail:vidartf@gmail.com', 'AuthorName:Vidar Tonaas Fauske', 'ChangedFiles:#Missing', 'Id:cf45e47', 'ParentIds:7748bd5 020a00d', 'Subject:Merge pull request #398 from vidartf/tweak-config']\n",
      "----------------------------------------------------------------------------------------------------\n",
      "['AuthorEmail:vidartf@gmail.com', 'AuthorName:Vidar Tonaas Fauske', 'ChangedFiles:#Missing', 'Id:7748bd5', 'ParentIds:a83fdb1 e39f5e7', 'Subject:Merge pull request #397 from vidartf/doc-dev-install']\n",
      "----------------------------------------------------------------------------------------------------\n",
      "['AuthorEmail:vidartf@gmail.com', 'AuthorName:Vidar Tonaas Fauske', 'ChangedFiles:#Missing', 'Id:f0d66a6', 'ParentIds:0e47f41 035b3d6', 'Subject:Merge pull request #395 from vidartf/focus-edit']\n",
      "----------------------------------------------------------------------------------------------------\n",
      "['AuthorEmail:vidartf@gmail.com', 'AuthorName:Vidar Tonaas Fauske', 'ChangedFiles:#Missing', 'Id:0e47f41', 'ParentIds:32df48a e675aa0', 'Subject:Merge pull request #394 from vidartf/ext-ignore-flags']\n",
      "----------------------------------------------------------------------------------------------------\n",
      "['AuthorEmail:vidartf@gmail.com', 'AuthorName:Vidar Tonaas Fauske', 'ChangedFiles:#Missing', 'Id:32df48a', 'ParentIds:f50d8e5 c8cfaa0', 'Subject:Merge pull request #393 from vidartf/devinstall']\n",
      "----------------------------------------------------------------------------------------------------\n",
      "['AuthorEmail:vidartf@gmail.com', 'AuthorName:Vidar Tonaas Fauske', 'ChangedFiles:#Missing', 'Id:f50d8e5', 'ParentIds:bf8da35 fa0590c', 'Subject:Merge pull request #390 from vidartf/config-cleanup']\n",
      "----------------------------------------------------------------------------------------------------\n",
      "['AuthorEmail:vidartf@gmail.com', 'AuthorName:Vidar Tonaas Fauske', 'ChangedFiles:#Missing', 'Id:bf8da35', 'ParentIds:83976ac 4c2f423', 'Subject:Merge pull request #389 from vidartf/nbconfig-fix']\n",
      "----------------------------------------------------------------------------------------------------\n",
      "['AuthorEmail:vidartf@gmail.com', 'AuthorName:Vidar Tonaas Fauske', 'ChangedFiles:#Missing', 'Id:c30847b', 'ParentIds:ef9d708 e18d8b6', 'Subject:Merge pull request #384 from vidartf/config-fix']\n",
      "----------------------------------------------------------------------------------------------------\n",
      "['AuthorEmail:vidartf@gmail.com', 'AuthorName:Vidar Tonaas Fauske', 'ChangedFiles:#Missing', 'Id:ef9d708', 'ParentIds:1bb9458 e67a71d', 'Subject:Merge pull request #385 from vidartf/fix-style']\n",
      "----------------------------------------------------------------------------------------------------\n",
      "['AuthorEmail:vidartf@gmail.com', 'AuthorName:Vidar Tonaas Fauske', 'ChangedFiles:#Missing', 'Id:1bb9458', 'ParentIds:25878a5 151415d', 'Subject:Merge pull request #382 from toddrme2178/patch-1']\n",
      "----------------------------------------------------------------------------------------------------\n",
      "['AuthorEmail:vidartf@gmail.com', 'AuthorName:Vidar Tonaas Fauske', 'ChangedFiles:#Missing', 'Id:25878a5', 'ParentIds:0234912 35309cd', 'Subject:Merge pull request #381 from vidartf/fix-python-spec']\n",
      "----------------------------------------------------------------------------------------------------\n",
      "['AuthorEmail:vidartf@gmail.com', 'AuthorName:Vidar Tonaas Fauske', 'ChangedFiles:#Missing', 'Id:0234912', 'ParentIds:e510209 8c614c0', 'Subject:Merge pull request #380 from vidartf/inline-source']\n",
      "----------------------------------------------------------------------------------------------------\n",
      "['AuthorEmail:vidartf@gmail.com', 'AuthorName:Vidar Tonaas Fauske', 'ChangedFiles:#Missing', 'Id:e510209', 'ParentIds:0e1c4d6 5371adc', 'Subject:Merge pull request #378 from vidartf/fix-dot-diff']\n",
      "----------------------------------------------------------------------------------------------------\n",
      "['AuthorEmail:vidartf@gmail.com', 'AuthorName:Vidar Tonaas Fauske', 'ChangedFiles:#Missing', 'Id:1b332c8', 'ParentIds:ffaaf75 e96b96d', 'Subject:Merge pull request #377 from vidartf/lab-fixes']\n",
      "----------------------------------------------------------------------------------------------------\n",
      "['AuthorEmail:vidartf@gmail.com', 'AuthorName:Vidar Tonaas Fauske', 'ChangedFiles:#Missing', 'Id:ffaaf75', 'ParentIds:28a436b 031c2dc', 'Subject:Merge pull request #376 from vidartf/collapser']\n",
      "----------------------------------------------------------------------------------------------------\n",
      "['AuthorEmail:vidartf@gmail.com', 'AuthorName:Vidar Tonaas Fauske', 'ChangedFiles:#Missing', 'Id:28a436b', 'ParentIds:b7ececa 8ad275e', 'Subject:Merge pull request #375 from vidartf/cleanup']\n",
      "----------------------------------------------------------------------------------------------------\n",
      "['AuthorEmail:vidartf@gmail.com', 'AuthorName:Vidar Tonaas Fauske', 'ChangedFiles:#Missing', 'Id:52e68c8', 'ParentIds:09ce7af 4b55685', 'Subject:Merge pull request #374 from vidartf/manual-edit-extract']\n",
      "----------------------------------------------------------------------------------------------------\n",
      "['AuthorEmail:vidartf@gmail.com', 'AuthorName:Vidar Tonaas Fauske', 'ChangedFiles:#Missing', 'Id:09ce7af', 'ParentIds:bd9873c 0d197ea', 'Subject:Merge pull request #371 from vidartf/chunks']\n",
      "----------------------------------------------------------------------------------------------------\n",
      "['AuthorEmail:vidartf@gmail.com', 'AuthorName:Vidar Tonaas Fauske', 'ChangedFiles:#Missing', 'Id:bd9873c', 'ParentIds:f330467 fdaf9c3', 'Subject:Merge pull request #372 from minrk/utf-8']\n",
      "----------------------------------------------------------------------------------------------------\n",
      "['AuthorEmail:vidartf@gmail.com', 'AuthorName:Vidar Tonaas Fauske', 'ChangedFiles:#Missing', 'Id:f330467', 'ParentIds:789e5b4 ba00a8d', 'Subject:Merge pull request #370 from vidartf/cleanup']\n",
      "----------------------------------------------------------------------------------------------------\n",
      "['AuthorEmail:vidartf@gmail.com', 'AuthorName:Vidar Tonaas Fauske', 'ChangedFiles:#Missing', 'Id:2656120', 'ParentIds:145efe3', 'Subject:nbdime-jupyterlab@0.1.0']\n",
      "----------------------------------------------------------------------------------------------------\n",
      "['AuthorEmail:vidartf@gmail.com', 'AuthorName:Vidar Tonaas Fauske', 'ChangedFiles:#Missing', 'Id:55d56ee', 'ParentIds:d59a446 b58a9d8', 'Subject:Merge pull request #369 from vidartf/cleanup']\n",
      "----------------------------------------------------------------------------------------------------\n",
      "['AuthorEmail:vidartf@gmail.com', 'AuthorName:Vidar Tonaas Fauske', 'ChangedFiles:#Missing', 'Id:d59a446', 'ParentIds:14c7c0a 1e9d547', 'Subject:Merge pull request #298 from vidartf/jlab-ext']\n",
      "----------------------------------------------------------------------------------------------------\n",
      "['AuthorEmail:vidartf@gmail.com', 'AuthorName:Vidar Tonaas Fauske', 'ChangedFiles:#Missing', 'Id:e03c861', 'ParentIds:7914988 ae8f008', 'Subject:Merge pull request #366 from jtpio/patch-1']\n",
      "----------------------------------------------------------------------------------------------------\n",
      "['AuthorEmail:vidartf@gmail.com', 'AuthorName:Vidar Tonaas Fauske', 'ChangedFiles:#Missing', 'Id:7914988', 'ParentIds:0a60cdc 1d7b23d', 'Subject:Merge pull request #365 from vidartf/cleanup']\n",
      "----------------------------------------------------------------------------------------------------\n",
      "['AuthorEmail:vidartf@gmail.com', 'AuthorName:Vidar Tonaas Fauske', 'ChangedFiles:#Missing', 'Id:0a60cdc', 'ParentIds:35c3c96 cbcc974', 'Subject:Merge pull request #363 from vidartf/update_deps']\n",
      "----------------------------------------------------------------------------------------------------\n",
      "['AuthorEmail:vidartf@gmail.com', 'AuthorName:Vidar Tonaas Fauske', 'ChangedFiles:#Missing', 'Id:e4b9dc6', 'ParentIds:66cc086 04af6c9', 'Subject:Merge pull request #357 from vidartf/trust-outputs']\n",
      "----------------------------------------------------------------------------------------------------\n",
      "['AuthorEmail:vidartf@gmail.com', 'AuthorName:Vidar Tonaas Fauske', 'ChangedFiles:#Missing', 'Id:670e8a0', 'ParentIds:12dd2ab fb5560a', 'Subject:Merge pull request #355 from vidartf/config-ignore']\n",
      "----------------------------------------------------------------------------------------------------\n",
      "['AuthorEmail:benjaminrk@gmail.com', 'AuthorName:Min RK', 'ChangedFiles:#Missing', 'Id:77398e0', 'ParentIds:f16ecac 6277ec7', 'Subject:Merge pull request #354 from vidartf/config']\n",
      "----------------------------------------------------------------------------------------------------\n",
      "['AuthorEmail:vidartf@gmail.com', 'AuthorName:Vidar Tonaas Fauske', 'ChangedFiles:#Missing', 'Id:f16ecac', 'ParentIds:350f5ca 961c568', 'Subject:Merge pull request #356 from vidartf/fix-differ']\n",
      "----------------------------------------------------------------------------------------------------\n",
      "['AuthorEmail:vidartf@gmail.com', 'AuthorName:Vidar Tonaas Fauske', 'ChangedFiles:#Missing', 'Id:350f5ca', 'ParentIds:8d6421d 0a8342c', 'Subject:Merge pull request #353 from vidartf/test-flags']\n",
      "----------------------------------------------------------------------------------------------------\n",
      "['AuthorEmail:vidartf@gmail.com', 'AuthorName:Vidar Tonaas Fauske', 'ChangedFiles:#Missing', 'Id:8d6421d', 'ParentIds:ac7358f 5c25fd0', 'Subject:Merge pull request #352 from vidartf/ignore-generic']\n",
      "----------------------------------------------------------------------------------------------------\n",
      "['AuthorEmail:vidartf@gmail.com', 'AuthorName:Vidar Tonaas Fauske', 'ChangedFiles:#Missing', 'Id:ac7358f', 'ParentIds:7c4b998 c155592', 'Subject:Merge pull request #335 from vidartf/git-filter']\n",
      "----------------------------------------------------------------------------------------------------\n",
      "['AuthorEmail:vidartf@gmail.com', 'AuthorName:Vidar Tonaas Fauske', 'ChangedFiles:#Missing', 'Id:7c4b998', 'ParentIds:c21fd7f 3dd98b6', 'Subject:Merge pull request #350 from vidartf/concurrent-web']\n",
      "----------------------------------------------------------------------------------------------------\n",
      "['AuthorEmail:vidartf@gmail.com', 'AuthorName:Vidar Tonaas Fauske', 'ChangedFiles:#Missing', 'Id:c21fd7f', 'ParentIds:eac0417 c432a92', 'Subject:Merge pull request #349 from vidartf/web-updated']\n",
      "----------------------------------------------------------------------------------------------------\n",
      "['AuthorEmail:vidartf@gmail.com', 'AuthorName:Vidar Tonaas Fauske', 'ChangedFiles:#Missing', 'Id:eac0417', 'ParentIds:e019d4c 18525fa', 'Subject:Merge pull request #347 from vidartf/concurrent-inserts']\n",
      "----------------------------------------------------------------------------------------------------\n",
      "['AuthorEmail:vidartf@gmail.com', 'AuthorName:Vidar Tonaas Fauske', 'ChangedFiles:#Missing', 'Id:e019d4c', 'ParentIds:05c5047 719f66a', 'Subject:Merge pull request #346 from vidartf/persist-flag']\n",
      "----------------------------------------------------------------------------------------------------\n",
      "['AuthorEmail:vidartf@gmail.com', 'AuthorName:Vidar Tonaas Fauske', 'ChangedFiles:#Missing', 'Id:05c5047', 'ParentIds:f0a36a1 fdf07ba', 'Subject:Merge pull request #348 from vidartf/tornado']\n",
      "----------------------------------------------------------------------------------------------------\n",
      "['AuthorEmail:vidartf@gmail.com', 'AuthorName:Vidar Tonaas Fauske', 'ChangedFiles:#Missing', 'Id:f0a36a1', 'ParentIds:344a450 6f54c3d', 'Subject:Merge pull request #344 from vidartf/jinja-ver']\n",
      "----------------------------------------------------------------------------------------------------\n",
      "['AuthorEmail:vidartf@gmail.com', 'AuthorName:Vidar Tonaas Fauske', 'ChangedFiles:#Missing', 'Id:344a450', 'ParentIds:4022e8c 8a69ef3', 'Subject:Merge pull request #340 from vidartf/extension-error-handling']\n",
      "----------------------------------------------------------------------------------------------------\n",
      "['AuthorEmail:benjaminrk@gmail.com', 'AuthorName:Min RK', 'ChangedFiles:#Missing', 'Id:4022e8c', 'ParentIds:f0284ac 461fd66', 'Subject:Merge pull request #339 from vidartf/fix-ext-templates']\n",
      "----------------------------------------------------------------------------------------------------\n",
      "['AuthorEmail:vidartf@gmail.com', 'AuthorName:Vidar Tonaas Fauske', 'ChangedFiles:#Missing', 'Id:f0284ac', 'ParentIds:ff6e1fd 588b9ab', 'Subject:Merge pull request #336 from JarnoRFB/master']\n",
      "----------------------------------------------------------------------------------------------------\n",
      "['AuthorEmail:vidartf@gmail.com', 'AuthorName:Vidar Tonaas Fauske', 'ChangedFiles:#Missing', 'Id:2354345', 'ParentIds:f884858 8345baf', 'Subject:Merge pull request #332 from vidartf/log-adjust']\n",
      "----------------------------------------------------------------------------------------------------\n",
      "['AuthorEmail:vidartf@gmail.com', 'AuthorName:Vidar Tonaas Fauske', 'ChangedFiles:#Missing', 'Id:f884858', 'ParentIds:dfff8ff 92b5b0c', 'Subject:Merge pull request #333 from vidartf/difftool-reload']\n",
      "----------------------------------------------------------------------------------------------------\n",
      "['AuthorEmail:vidartf@gmail.com', 'AuthorName:Vidar Tonaas Fauske', 'ChangedFiles:#Missing', 'Id:dfff8ff', 'ParentIds:7240999 e4a223d', 'Subject:Merge pull request #331 from vidartf/server-poll']\n",
      "----------------------------------------------------------------------------------------------------\n",
      "['AuthorEmail:vidartf@gmail.com', 'AuthorName:Vidar Tonaas Fauske', 'ChangedFiles:#Missing', 'Id:7240999', 'ParentIds:d5a3b66 f883682', 'Subject:Merge pull request #329 from vidartf/mathjax']\n",
      "----------------------------------------------------------------------------------------------------\n",
      "['AuthorEmail:benjaminrk@gmail.com', 'AuthorName:Min RK', 'ChangedFiles:#Missing', 'Id:d5a3b66', 'ParentIds:e81d466 0f13db4', 'Subject:Merge pull request #330 from vidartf/drop-py3.3']\n",
      "----------------------------------------------------------------------------------------------------\n",
      "['AuthorEmail:benjaminrk@gmail.com', 'AuthorName:Min RK', 'ChangedFiles:#Missing', 'Id:e81d466', 'ParentIds:f7cedce 519db53', 'Subject:Merge pull request #326 from vidartf/fix-layout']\n",
      "----------------------------------------------------------------------------------------------------\n",
      "['AuthorEmail:benjaminrk@gmail.com', 'AuthorName:Min RK', 'ChangedFiles:#Missing', 'Id:ce16aec', 'ParentIds:c1a95e1 3bc3009', 'Subject:Merge pull request #322 from vidartf/changelog0.4']\n",
      "----------------------------------------------------------------------------------------------------\n",
      "['AuthorEmail:benjaminrk@gmail.com', 'AuthorName:Min RK', 'ChangedFiles:#Missing', 'Id:c1a95e1', 'ParentIds:cd5403a 380d246', 'Subject:Merge pull request #321 from minrk/packaging']\n",
      "----------------------------------------------------------------------------------------------------\n",
      "['AuthorEmail:vidartf@gmail.com', 'AuthorName:Vidar Tonaas Fauske', 'ChangedFiles:#Missing', 'Id:06784cd', 'ParentIds:13d10af 333a696', 'Subject:Merge pull request #320 from vidartf/webdiff-rel-img']\n",
      "----------------------------------------------------------------------------------------------------\n",
      "['AuthorEmail:benjaminrk@gmail.com', 'AuthorName:Min RK', 'ChangedFiles:#Missing', 'Id:13d10af', 'ParentIds:31233af 8d21f14', 'Subject:Merge pull request #319 from vidartf/mifor-fixes']\n",
      "----------------------------------------------------------------------------------------------------\n",
      "['AuthorEmail:benjaminrk@gmail.com', 'AuthorName:Min RK', 'ChangedFiles:#Missing', 'Id:31233af', 'ParentIds:a70fc47 4ac94e0', 'Subject:Merge pull request #318 from vidartf/color-words']\n",
      "----------------------------------------------------------------------------------------------------\n",
      "['AuthorEmail:benjaminrk@gmail.com', 'AuthorName:Min RK', 'ChangedFiles:#Missing', 'Id:a70fc47', 'ParentIds:3b51405 a51d525', 'Subject:Merge pull request #317 from vidartf/sxs']\n",
      "----------------------------------------------------------------------------------------------------\n",
      "['AuthorEmail:vidartf@gmail.com', 'AuthorName:Vidar Tonaas Fauske', 'ChangedFiles:#Missing', 'Id:85b9439', 'ParentIds:fd10644 512be11', 'Subject:Merge pull request #316 from minrk/pp-diff-typo']\n",
      "----------------------------------------------------------------------------------------------------\n",
      "['AuthorEmail:vidartf@gmail.com', 'AuthorName:Vidar Tonaas Fauske', 'ChangedFiles:#Missing', 'Id:fd10644', 'ParentIds:7bb9fae 864add9', 'Subject:Merge pull request #297 from vidartf/nbdime-notebook-ext']\n",
      "----------------------------------------------------------------------------------------------------\n",
      "['AuthorEmail:vidartf@gmail.com', 'AuthorName:Vidar Tonaas Fauske', 'ChangedFiles:#Missing', 'Id:7bb9fae', 'ParentIds:a184e7e 56490f8', 'Subject:Merge pull request #315 from einon/patch-1']\n",
      "----------------------------------------------------------------------------------------------------\n",
      "['AuthorEmail:benjaminrk@gmail.com', 'AuthorName:Min RK', 'ChangedFiles:#Missing', 'Id:a184e7e', 'ParentIds:b0327b0 46f892e', 'Subject:Merge pull request #311 from vidartf/refactor-server']\n",
      "----------------------------------------------------------------------------------------------------\n",
      "['AuthorEmail:vidartf@gmail.com', 'AuthorName:Vidar Tonaas Fauske', 'ChangedFiles:#Missing', 'Id:b0327b0', 'ParentIds:e9ba0e4 243c996', 'Subject:Merge pull request #310 from vidartf/update-web']\n",
      "----------------------------------------------------------------------------------------------------\n",
      "['AuthorEmail:vidartf@gmail.com', 'AuthorName:Vidar Tonaas Fauske', 'ChangedFiles:#Missing', 'Id:e9ba0e4', 'ParentIds:cad565e 19aa64f', 'Subject:Merge pull request #308 from vidartf/fix-details-ignore']\n",
      "----------------------------------------------------------------------------------------------------\n",
      "['AuthorEmail:vidartf@gmail.com', 'AuthorName:Vidar Tonaas Fauske', 'ChangedFiles:#Missing', 'Id:cad565e', 'ParentIds:4da3738 647284d', 'Subject:Merge pull request #312 from vidartf/fix-appveyor']\n",
      "----------------------------------------------------------------------------------------------------\n",
      "['AuthorEmail:vidartf@gmail.com', 'AuthorName:Vidar Tonaas Fauske', 'ChangedFiles:#Missing', 'Id:4da3738', 'ParentIds:a489683 d8ff107', 'Subject:Merge pull request #309 from vidartf/cleanup']\n",
      "----------------------------------------------------------------------------------------------------\n",
      "['AuthorEmail:benjaminrk@gmail.com', 'AuthorName:Min RK', 'ChangedFiles:#Missing', 'Id:a489683', 'ParentIds:cfb7408 86abf32', 'Subject:Merge pull request #305 from vidartf/fix-filter']\n",
      "----------------------------------------------------------------------------------------------------\n",
      "['AuthorEmail:benjaminrk@gmail.com', 'AuthorName:Min RK', 'ChangedFiles:#Missing', 'Id:cfb7408', 'ParentIds:bc93659 51787b0', 'Subject:Merge pull request #307 from vidartf/fix-difftool']\n",
      "----------------------------------------------------------------------------------------------------\n",
      "['AuthorEmail:benjaminrk@gmail.com', 'AuthorName:Min RK', 'ChangedFiles:#Missing', 'Id:bc93659', 'ParentIds:40dec01 4cdd49f', 'Subject:Merge pull request #289 from vidartf/hg']\n",
      "----------------------------------------------------------------------------------------------------\n",
      "['AuthorEmail:vidartf@gmail.com', 'AuthorName:Vidar Tonaas Fauske', 'ChangedFiles:#Missing', 'Id:40dec01', 'ParentIds:6c3e8bb d30d54c', 'Subject:Merge pull request #306 from vidartf/fixes']\n",
      "----------------------------------------------------------------------------------------------------\n",
      "['AuthorEmail:benjaminrk@gmail.com', 'AuthorName:Min RK', 'ChangedFiles:#Missing', 'Id:6c3e8bb', 'ParentIds:b384cd4 900e6b6', 'Subject:Merge pull request #300 from jbwhit/tweak-image']\n",
      "----------------------------------------------------------------------------------------------------\n",
      "['AuthorEmail:benjaminrk@gmail.com', 'AuthorName:Min RK', 'ChangedFiles:#Missing', 'Id:b384cd4', 'ParentIds:edfc38a 36e6b14', 'Subject:Merge pull request #295 from vidartf/fixes']\n",
      "----------------------------------------------------------------------------------------------------\n",
      "['AuthorEmail:benjaminrk@gmail.com', 'AuthorName:Min RK', 'ChangedFiles:#Missing', 'Id:36e6b14', 'ParentIds:391f448 edfc38a', \"Subject:Merge branch 'master' into fixes\"]\n",
      "----------------------------------------------------------------------------------------------------\n",
      "['AuthorEmail:benjaminrk@gmail.com', 'AuthorName:Min RK', 'ChangedFiles:#Missing', 'Id:edfc38a', 'ParentIds:5f6c38f 6ed76ac', 'Subject:Merge pull request #296 from vidartf/update-jl']\n",
      "----------------------------------------------------------------------------------------------------\n",
      "['AuthorEmail:vidartf@gmail.com', 'AuthorName:Vidar Tonaas Fauske', 'ChangedFiles:#Missing', 'Id:852fd94', 'ParentIds:9540d0b f2a9f6e', 'Subject:Merge pull request #294 from RTBHOUSE/git-driver-webdiff']\n",
      "----------------------------------------------------------------------------------------------------\n",
      "['AuthorEmail:benjaminrk@gmail.com', 'AuthorName:Min RK', 'ChangedFiles:#Missing', 'Id:9540d0b', 'ParentIds:a7496a2 574ec67', 'Subject:Merge pull request #292 from vidartf/doc-ignores']\n",
      "----------------------------------------------------------------------------------------------------\n",
      "['AuthorEmail:vidartf@gmail.com', 'AuthorName:Vidar Tonaas Fauske', 'ChangedFiles:#Missing', 'Id:a7496a2', 'ParentIds:41fd2d3 e03f7bd', 'Subject:Merge pull request #290 from baldwint/ignore-flag-pr']\n",
      "----------------------------------------------------------------------------------------------------\n",
      "['AuthorEmail:vidartf@gmail.com', 'AuthorName:Vidar Tonaas Fauske', 'ChangedFiles:#Missing', 'Id:b10078b', 'ParentIds:76df65e 3200656', 'Subject:Merge pull request #287 from minrk/changelog']\n",
      "----------------------------------------------------------------------------------------------------\n",
      "['AuthorEmail:benjaminrk@gmail.com', 'AuthorName:Min RK', 'ChangedFiles:#Missing', 'Id:76df65e', 'ParentIds:c2ee8eb 9002d56', 'Subject:Merge pull request #284 from vidartf/adjust-ci']\n",
      "----------------------------------------------------------------------------------------------------\n",
      "['AuthorEmail:benjaminrk@gmail.com', 'AuthorName:Min RK', 'ChangedFiles:#Missing', 'Id:393bd56', 'ParentIds:73f5f70 56d9ad2', 'Subject:Merge pull request #283 from vidartf/update-setup']\n",
      "----------------------------------------------------------------------------------------------------\n",
      "['AuthorEmail:benjaminrk@gmail.com', 'AuthorName:Min RK', 'ChangedFiles:#Missing', 'Id:73f5f70', 'ParentIds:c8f5544 a5f5423', 'Subject:Merge pull request #282 from vidartf/optimize']\n",
      "----------------------------------------------------------------------------------------------------\n",
      "['AuthorEmail:benjaminrk@gmail.com', 'AuthorName:Min RK', 'ChangedFiles:#Missing', 'Id:c8f5544', 'ParentIds:1dbc671 99109dd', 'Subject:Merge pull request #281 from vidartf/add-diff-driver-args']\n",
      "----------------------------------------------------------------------------------------------------\n",
      "['AuthorEmail:benjaminrk@gmail.com', 'AuthorName:Min RK', 'ChangedFiles:#Missing', 'Id:1dbc671', 'ParentIds:2424bc4 10eae14', 'Subject:Merge pull request #280 from jupyter/vidartf-patch-1']\n",
      "----------------------------------------------------------------------------------------------------\n",
      "['AuthorEmail:vidartf@gmail.com', 'AuthorName:Vidar Tonaas Fauske', 'ChangedFiles:#Missing', 'Id:2424bc4', 'ParentIds:38b1502 d8894cb', 'Subject:Merge pull request #279 from minrk/mathjax-cdn']\n",
      "----------------------------------------------------------------------------------------------------\n",
      "['AuthorEmail:benjaminrk@gmail.com', 'AuthorName:Min RK', 'ChangedFiles:#Missing', 'Id:38b1502', 'ParentIds:5762bc3 f17b9d6', 'Subject:Merge pull request #277 from vidartf/hide-unchanged-cells']\n",
      "----------------------------------------------------------------------------------------------------\n",
      "['AuthorEmail:benjaminrk@gmail.com', 'AuthorName:Min RK', 'ChangedFiles:#Missing', 'Id:5762bc3', 'ParentIds:2640b6d f65451c', 'Subject:Merge pull request #269 from vidartf/doc-adjust']\n",
      "----------------------------------------------------------------------------------------------------\n",
      "['AuthorEmail:benjaminrk@gmail.com', 'AuthorName:Min RK', 'ChangedFiles:#Missing', 'Id:a18f1e8', 'ParentIds:eedd971 9f20c20', 'Subject:Merge pull request #276 from vidartf/diff-options']\n",
      "----------------------------------------------------------------------------------------------------\n",
      "['AuthorEmail:vidartf@gmail.com', 'AuthorName:Vidar Tonaas Fauske', 'ChangedFiles:#Missing', 'Id:eedd971', 'ParentIds:a205d4a 2494ab3', 'Subject:Merge pull request #275 from minrk/pip-e']\n",
      "----------------------------------------------------------------------------------------------------\n",
      "['AuthorEmail:benjaminrk@gmail.com', 'AuthorName:Min RK', 'ChangedFiles:#Missing', 'Id:25909c8', 'ParentIds:4530423 b3575ea', 'Subject:Merge pull request #271 from vidartf/doc-update']\n",
      "----------------------------------------------------------------------------------------------------\n",
      "['AuthorEmail:benjaminrk@gmail.com', 'AuthorName:Min RK', 'ChangedFiles:#Missing', 'Id:4530423', 'ParentIds:8f000c5 f1c8716', 'Subject:Merge pull request #270 from vidartf/fix-web-merge-align']\n",
      "----------------------------------------------------------------------------------------------------\n",
      "['AuthorEmail:vidartf@gmail.com', 'AuthorName:Vidar Tonaas Fauske', 'ChangedFiles:#Missing', 'Id:8f000c5', 'ParentIds:4bdc258 456ede9', 'Subject:Merge pull request #268 from minrk/unicode']\n",
      "----------------------------------------------------------------------------------------------------\n",
      "['AuthorEmail:benjaminrk@gmail.com', 'AuthorName:Min RK', 'ChangedFiles:#Missing', 'Id:4bdc258', 'ParentIds:83ae911 d01cb4d', 'Subject:Merge pull request #267 from vidartf/fix-diff']\n",
      "----------------------------------------------------------------------------------------------------\n",
      "['AuthorEmail:benjaminrk@gmail.com', 'AuthorName:Min RK', 'ChangedFiles:#Missing', 'Id:83ae911', 'ParentIds:30a760b 1fe5d66', 'Subject:Merge pull request #265 from vidartf/cleanup-fixtures']\n",
      "----------------------------------------------------------------------------------------------------\n",
      "['AuthorEmail:benjaminrk@gmail.com', 'AuthorName:Min RK', 'ChangedFiles:#Missing', 'Id:e64d9f7', 'ParentIds:352e8a5 024a9ec', 'Subject:Merge pull request #260 from minrk/base_url']\n",
      "----------------------------------------------------------------------------------------------------\n",
      "['AuthorEmail:vidartf@gmail.com', 'AuthorName:Vidar Tonaas Fauske', 'ChangedFiles:#Missing', 'Id:352e8a5', 'ParentIds:9e6f400 4880e52', 'Subject:Merge pull request #257 from vidartf/fixes']\n",
      "----------------------------------------------------------------------------------------------------\n",
      "['AuthorEmail:vidartf@gmail.com', 'AuthorName:Vidar Tonaas Fauske', 'ChangedFiles:#Missing', 'Id:9e6f400', 'ParentIds:9c4f355 97774cc', 'Subject:Merge pull request #262 from vidartf/fix-travis-js-cache']\n",
      "----------------------------------------------------------------------------------------------------\n",
      "['AuthorEmail:benjaminrk@gmail.com', 'AuthorName:Min RK', 'ChangedFiles:#Missing', 'Id:9c4f355', 'ParentIds:804cea7 33f7686', 'Subject:Merge pull request #261 from vidartf/dev-null']\n",
      "----------------------------------------------------------------------------------------------------\n",
      "['AuthorEmail:benjaminrk@gmail.com', 'AuthorName:Min RK', 'ChangedFiles:#Missing', 'Id:804cea7', 'ParentIds:9531aa9 f0cf9a7', 'Subject:Merge pull request #258 from vidartf/fix-drag-select']\n",
      "----------------------------------------------------------------------------------------------------\n",
      "['AuthorEmail:benjaminrk@gmail.com', 'AuthorName:Min RK', 'ChangedFiles:#Missing', 'Id:9531aa9', 'ParentIds:8e493b1 7593dac', 'Subject:Merge pull request #256 from vidartf/export-diff']\n",
      "----------------------------------------------------------------------------------------------------\n",
      "['AuthorEmail:benjaminrk@gmail.com', 'AuthorName:Min RK', 'ChangedFiles:#Missing', 'Id:990fded', 'ParentIds:77982f9 46df21e', 'Subject:Merge pull request #254 from vidartf/config-all']\n",
      "----------------------------------------------------------------------------------------------------\n",
      "['AuthorEmail:benjaminrk@gmail.com', 'AuthorName:Min RK', 'ChangedFiles:#Missing', 'Id:46df21e', 'ParentIds:ba3dbc9 77982f9', \"Subject:Merge branch 'master' into config-all\"]\n",
      "----------------------------------------------------------------------------------------------------\n",
      "['AuthorEmail:benjaminrk@gmail.com', 'AuthorName:Min RK', 'ChangedFiles:#Missing', 'Id:77982f9', 'ParentIds:4ae79a8 b143270', 'Subject:Merge pull request #252 from vidartf/doc-system-flag']\n",
      "----------------------------------------------------------------------------------------------------\n",
      "['AuthorEmail:benjaminrk@gmail.com', 'AuthorName:Min RK', 'ChangedFiles:#Missing', 'Id:4ae79a8', 'ParentIds:6d9aaec 3fba95f', 'Subject:Merge pull request #255 from vidartf/web-ip-arg']\n",
      "----------------------------------------------------------------------------------------------------\n",
      "['AuthorEmail:vidartf@gmail.com', 'AuthorName:Vidar Tonaas Fauske', 'ChangedFiles:#Missing', 'Id:6d9aaec', 'ParentIds:d08ceab 58282a4', 'Subject:Merge pull request #249 from vidartf/appveyor-remove-explicit-git']\n",
      "----------------------------------------------------------------------------------------------------\n",
      "['AuthorEmail:vidartf@gmail.com', 'AuthorName:Vidar Tonaas Fauske', 'ChangedFiles:#Missing', 'Id:b9c3184', 'ParentIds:5c92cfb 568064a', 'Subject:Merge pull request #248 from timstaley/pip_webapp_staticfiles_fix']\n",
      "----------------------------------------------------------------------------------------------------\n",
      "['AuthorEmail:martinal@simula.no', 'AuthorName:Martin Sandve Alnæs', 'ChangedFiles:#Missing', 'Id:5c92cfb', 'ParentIds:470eaf8 72561f2', 'Subject:Merge pull request #236 from jupyter/vidartf-docs-typo']\n",
      "----------------------------------------------------------------------------------------------------\n",
      "['AuthorEmail:benjaminrk@gmail.com', 'AuthorName:Min RK', 'ChangedFiles:#Missing', 'Id:65ced79', 'ParentIds:84e6cf3 712cf0d', 'Subject:Merge pull request #235 from minrk/changelog']\n",
      "----------------------------------------------------------------------------------------------------\n",
      "['AuthorEmail:benjaminrk@gmail.com', 'AuthorName:Min RK', 'ChangedFiles:#Missing', 'Id:84e6cf3', 'ParentIds:823dfd6 0e7e023', 'Subject:Merge pull request #232 from vidartf/git-system']\n",
      "----------------------------------------------------------------------------------------------------\n",
      "['AuthorEmail:benjaminrk@gmail.com', 'AuthorName:Min RK', 'ChangedFiles:#Missing', 'Id:823dfd6', 'ParentIds:b1454bc 92d2732', 'Subject:Merge pull request #234 from vidartf/fix-pp-inline-merge']\n",
      "----------------------------------------------------------------------------------------------------\n",
      "['AuthorEmail:vidartf@gmail.com', 'AuthorName:Vidar Tonaas Fauske', 'ChangedFiles:#Missing', 'Id:b1454bc', 'ParentIds:6bdacd4 1023e5f', 'Subject:Merge pull request #230 from minrk/ensure-dir-exists']\n",
      "----------------------------------------------------------------------------------------------------\n",
      "['AuthorEmail:benjaminrk@gmail.com', 'AuthorName:Min RK', 'ChangedFiles:#Missing', 'Id:6bdacd4', 'ParentIds:900b22e 910c419', 'Subject:Merge pull request #228 from vidartf/fix-partially-unsafe-outputs']\n",
      "----------------------------------------------------------------------------------------------------\n",
      "['AuthorEmail:benjaminrk@gmail.com', 'AuthorName:Min RK', 'ChangedFiles:#Missing', 'Id:900b22e', 'ParentIds:3df71d0 f967a60', 'Subject:Merge pull request #227 from jupyter/vidartf-fix-readme']\n",
      "----------------------------------------------------------------------------------------------------\n",
      "['AuthorEmail:benjaminrk@gmail.com', 'AuthorName:Min RK', 'ChangedFiles:#Missing', 'Id:3df71d0', 'ParentIds:361b2f1 eefebeb', 'Subject:Merge pull request #226 from vidartf/error-render']\n",
      "----------------------------------------------------------------------------------------------------\n",
      "['AuthorEmail:vidartf@gmail.com', 'AuthorName:Vidar Tonaas Fauske', 'ChangedFiles:#Missing', 'Id:361b2f1', 'ParentIds:9bece08 b04db6c', 'Subject:Merge pull request #220 from baldwint/master']\n",
      "----------------------------------------------------------------------------------------------------\n",
      "['AuthorEmail:benjaminrk@gmail.com', 'AuthorName:Min RK', 'ChangedFiles:#Missing', 'Id:9bece08', 'ParentIds:f311624 f808b7f', 'Subject:Merge pull request #218 from vidartf/download-merge-button']\n",
      "----------------------------------------------------------------------------------------------------\n",
      "['AuthorEmail:benjaminrk@gmail.com', 'AuthorName:Min RK', 'ChangedFiles:#Missing', 'Id:f311624', 'ParentIds:5560090 00af346', 'Subject:Merge pull request #217 from vidartf/fix-nbdime-mergetool']\n",
      "----------------------------------------------------------------------------------------------------\n",
      "['AuthorEmail:benjaminrk@gmail.com', 'AuthorName:Min RK', 'ChangedFiles:#Missing', 'Id:5560090', 'ParentIds:941a4e1 96f6dd9', 'Subject:Merge pull request #215 from vidartf/fixes']\n",
      "----------------------------------------------------------------------------------------------------\n",
      "['AuthorEmail:benjaminrk@gmail.com', 'AuthorName:Min RK', 'ChangedFiles:#Missing', 'Id:941a4e1', 'ParentIds:ad6ebdc eef6229', 'Subject:Merge pull request #216 from vidartf/update-web-deps']\n",
      "----------------------------------------------------------------------------------------------------\n",
      "['AuthorEmail:benjaminrk@gmail.com', 'AuthorName:Min RK', 'ChangedFiles:#Missing', 'Id:ad6ebdc', 'ParentIds:031b756 edec016', 'Subject:Merge pull request #214 from vidartf/style-unchanged']\n",
      "----------------------------------------------------------------------------------------------------\n",
      "['AuthorEmail:benjaminrk@gmail.com', 'AuthorName:Min RK', 'ChangedFiles:#Missing', 'Id:c032666', 'ParentIds:f384cd1 82416fe', 'Subject:Merge pull request #198 from jupyter/add-merge-tests']\n",
      "----------------------------------------------------------------------------------------------------\n",
      "['AuthorEmail:vidartf@gmail.com', 'AuthorName:Vidar Tonaas Fauske', 'ChangedFiles:#Missing', 'Id:f384cd1', 'ParentIds:c9bde54 11bb052', 'Subject:Merge pull request #210 from minrk/readme']\n",
      "----------------------------------------------------------------------------------------------------\n",
      "['AuthorEmail:benjaminrk@gmail.com', 'AuthorName:Min RK', 'ChangedFiles:#Missing', 'Id:c9bde54', 'ParentIds:c1a0588 3d4fd8d', 'Subject:Merge pull request #206 from saulshanabrook/patch-1']\n",
      "----------------------------------------------------------------------------------------------------\n",
      "['AuthorEmail:benjaminrk@gmail.com', 'AuthorName:Min RK', 'ChangedFiles:#Missing', 'Id:c1a0588', 'ParentIds:874e618 cca0999', 'Subject:Merge pull request #209 from vidartf/log-url']\n",
      "----------------------------------------------------------------------------------------------------\n",
      "['AuthorEmail:martinal@simula.no', 'AuthorName:Martin Sandve Alnæs', 'ChangedFiles:#Missing', 'Id:874e618', 'ParentIds:b691ab5 d569ff4', 'Subject:Merge pull request #205 from vidartf/fix-diff-perf']\n",
      "----------------------------------------------------------------------------------------------------\n",
      "['AuthorEmail:benjaminrk@gmail.com', 'AuthorName:Min RK', 'ChangedFiles:#Missing', 'Id:b691ab5', 'ParentIds:fafea8a 1aa270c', 'Subject:Merge pull request #204 from vidartf/ci-appveyor']\n",
      "----------------------------------------------------------------------------------------------------\n",
      "['AuthorEmail:martinal@simula.no', 'AuthorName:Martin Sandve Alnæs', 'ChangedFiles:#Missing', 'Id:fafea8a', 'ParentIds:7e63061 2a39bc3', 'Subject:Merge pull request #203 from vidartf/fix-ts-lock']\n",
      "----------------------------------------------------------------------------------------------------\n",
      "['AuthorEmail:martinal@simula.no', 'AuthorName:Martin Sandve Alnæs', 'ChangedFiles:#Missing', 'Id:7e63061', 'ParentIds:e7f1a48 f6c2ac5', 'Subject:Merge pull request #202 from michaelaye/patch-1']\n",
      "----------------------------------------------------------------------------------------------------\n",
      "['AuthorEmail:benjaminrk@gmail.com', 'AuthorName:Min RK', 'ChangedFiles:#Missing', 'Id:e7f1a48', 'ParentIds:9a4f9f8 f8e29f2', 'Subject:Merge pull request #194 from jupyter/output-diff-improvements']\n",
      "----------------------------------------------------------------------------------------------------\n",
      "['AuthorEmail:benjaminrk@gmail.com', 'AuthorName:Min RK', 'ChangedFiles:#Missing', 'Id:9a4f9f8', 'ParentIds:cd2f57a 143d710', 'Subject:Merge pull request #200 from vidartf/lock-ts-minor-version']\n",
      "----------------------------------------------------------------------------------------------------\n",
      "['AuthorEmail:martinal@simula.no', 'AuthorName:Martin Sandve Alnæs', 'ChangedFiles:#Missing', 'Id:cd2f57a', 'ParentIds:26704cd 488467e', 'Subject:Merge pull request #193 from minrk/changelog']\n",
      "----------------------------------------------------------------------------------------------------\n",
      "['AuthorEmail:benjaminrk@gmail.com', 'AuthorName:Min RK', 'ChangedFiles:#Missing', 'Id:26704cd', 'ParentIds:e27869d 9d6f54c', 'Subject:Merge pull request #191 from jupyter/mergetool-arguments']\n",
      "----------------------------------------------------------------------------------------------------\n",
      "['AuthorEmail:martinal@simula.no', 'AuthorName:Martin Sandve Alnæs', 'ChangedFiles:#Missing', 'Id:64571fb', 'ParentIds:8a3a8e4 169cf2b', 'Subject:Merge pull request #190 from vidartf/quickfixes']\n",
      "----------------------------------------------------------------------------------------------------\n",
      "['AuthorEmail:benjaminrk@gmail.com', 'AuthorName:Min RK', 'ChangedFiles:#Missing', 'Id:1ca93bf', 'ParentIds:0f9e801 13de864', 'Subject:Merge pull request #189 from vidartf/fix-pick-update']\n",
      "----------------------------------------------------------------------------------------------------\n",
      "['AuthorEmail:benjaminrk@gmail.com', 'AuthorName:Min RK', 'ChangedFiles:#Missing', 'Id:0f9e801', 'ParentIds:52e7f16 7bf3900', 'Subject:Merge pull request #184 from jupyter/more-inline-merge-work']\n",
      "----------------------------------------------------------------------------------------------------\n",
      "['AuthorEmail:martinal@simula.no', 'AuthorName:Martin Sandve Alnæs', 'ChangedFiles:#Missing', 'Id:52e7f16', 'ParentIds:b796d33 ede5771', 'Subject:Merge pull request #187 from vidartf/remove-debug-print']\n",
      "----------------------------------------------------------------------------------------------------\n",
      "['AuthorEmail:vidartf@gmail.com', 'AuthorName:Vidar Tonaas Fauske', 'ChangedFiles:#Missing', 'Id:b796d33', 'ParentIds:0aa75f8 f9211ef', 'Subject:Merge pull request #188 from minrk/merge-decision-docs']\n",
      "----------------------------------------------------------------------------------------------------\n",
      "['AuthorEmail:martinal@simula.no', 'AuthorName:Martin Sandve Alnæs', 'ChangedFiles:#Missing', 'Id:bc69972', 'ParentIds:f3843ea 0aa75f8', \"Subject:Merge branch 'master' into more-inline-merge-work\"]\n",
      "----------------------------------------------------------------------------------------------------\n",
      "['AuthorEmail:martinal@simula.no', 'AuthorName:Martin Sandve Alnæs', 'ChangedFiles:#Missing', 'Id:0aa75f8', 'ParentIds:da9b138 b7164ea', 'Subject:Merge pull request #185 from vidartf/fix-js-test']\n",
      "----------------------------------------------------------------------------------------------------\n",
      "['AuthorEmail:benjaminrk@gmail.com', 'AuthorName:Min RK', 'ChangedFiles:#Missing', 'Id:da9b138', 'ParentIds:c8ff67e 5e70941', 'Subject:Merge pull request #183 from willingc/cli-help']\n",
      "----------------------------------------------------------------------------------------------------\n",
      "['AuthorEmail:martinal@simula.no', 'AuthorName:Martin Sandve Alnæs', 'ChangedFiles:#Missing', 'Id:c8ff67e', 'ParentIds:a8dc069 2118d96', 'Subject:Merge pull request #175 from jupyter/fix-inline-merge-strategies']\n",
      "----------------------------------------------------------------------------------------------------\n",
      "['AuthorEmail:vidartf@gmail.com', 'AuthorName:Vidar Tonaas Fauske', 'ChangedFiles:#Missing', 'Id:8247775', 'ParentIds:20bcc2b a8dc069', \"Subject:Merge branch 'master' into fix-inline-merge-strategies\"]\n",
      "----------------------------------------------------------------------------------------------------\n",
      "['AuthorEmail:carolcode@willingconsulting.com', 'AuthorName:Carol Willing', 'ChangedFiles:#Missing', 'Id:a8dc069', 'ParentIds:938d0d6 14b59aa', 'Subject:Merge pull request #181 from minrk/rm-previous-disable']\n",
      "----------------------------------------------------------------------------------------------------\n",
      "['AuthorEmail:carolcode@willingconsulting.com', 'AuthorName:Carol Willing', 'ChangedFiles:#Missing', 'Id:938d0d6', 'ParentIds:cb2e3e7 cc02862', 'Subject:Merge pull request #179 from minrk/rn']\n",
      "----------------------------------------------------------------------------------------------------\n",
      "['AuthorEmail:benjaminrk@gmail.com', 'AuthorName:Min RK', 'ChangedFiles:#Missing', 'Id:cb2e3e7', 'ParentIds:a780dfa 4420cbd', 'Subject:Merge pull request #178 from vidartf/outputs-conflicts']\n",
      "----------------------------------------------------------------------------------------------------\n",
      "['AuthorEmail:carolcode@willingconsulting.com', 'AuthorName:Carol Willing', 'ChangedFiles:#Missing', 'Id:a780dfa', 'ParentIds:1d49827 a616bd3', 'Subject:Merge pull request #180 from minrk/rm-pytest-l']\n",
      "----------------------------------------------------------------------------------------------------\n",
      "['AuthorEmail:vidartf@gmail.com', 'AuthorName:Vidar Tonaas Fauske', 'ChangedFiles:#Missing', 'Id:1d49827', 'ParentIds:5078eee 3c7553e', 'Subject:Merge pull request #176 from minrk/cli-coverage']\n",
      "----------------------------------------------------------------------------------------------------\n",
      "['AuthorEmail:martinal@simula.no', 'AuthorName:Martin Sandve Alnæs', 'ChangedFiles:#Missing', 'Id:5078eee', 'ParentIds:c375fe4 441a8be', 'Subject:Merge pull request #174 from minrk/mergeargs']\n",
      "----------------------------------------------------------------------------------------------------\n",
      "['AuthorEmail:benjaminrk@gmail.com', 'AuthorName:Min RK', 'ChangedFiles:#Missing', 'Id:c375fe4', 'ParentIds:60bc309 4d88e5b', 'Subject:Merge pull request #172 from vidartf/clear-outputs']\n",
      "----------------------------------------------------------------------------------------------------\n",
      "['AuthorEmail:martinal@simula.no', 'AuthorName:Martin Sandve Alnæs', 'ChangedFiles:#Missing', 'Id:60bc309', 'ParentIds:6ae471f 8e260e2', 'Subject:Merge pull request #169 from vidartf/fix-apap']\n",
      "----------------------------------------------------------------------------------------------------\n",
      "['AuthorEmail:martinal@simula.no', 'AuthorName:Martin Sandve Alnæs', 'ChangedFiles:#Missing', 'Id:6ae471f', 'ParentIds:fe4b29a 124246f', 'Subject:Merge pull request #167 from vidartf/Cleanup']\n",
      "----------------------------------------------------------------------------------------------------\n",
      "['AuthorEmail:martinal@simula.no', 'AuthorName:Martin Sandve Alnæs', 'ChangedFiles:#Missing', 'Id:fe4b29a', 'ParentIds:44ff95e 1e14732', 'Subject:Merge pull request #171 from willingc/doc-alttxt']\n",
      "----------------------------------------------------------------------------------------------------\n",
      "['AuthorEmail:benjaminrk@gmail.com', 'AuthorName:Min RK', 'ChangedFiles:#Missing', 'Id:44ff95e', 'ParentIds:43f8bcc 9fb94d5', 'Subject:Merge pull request #170 from willingc/docs-part2']\n",
      "----------------------------------------------------------------------------------------------------\n",
      "['AuthorEmail:vidartf@gmail.com', 'AuthorName:Vidar Tonaas Fauske', 'ChangedFiles:#Missing', 'Id:43f8bcc', 'ParentIds:ff7b295 1750a94', 'Subject:Merge pull request #161 from minrk/global-nbdimeserver-state']\n",
      "----------------------------------------------------------------------------------------------------\n",
      "['AuthorEmail:vidartf@gmail.com', 'AuthorName:Vidar Tonaas Fauske', 'ChangedFiles:#Missing', 'Id:ff7b295', 'ParentIds:b0d57d5 34c6528', 'Subject:Merge pull request #166 from minrk/known-keys']\n",
      "----------------------------------------------------------------------------------------------------\n",
      "['AuthorEmail:vidartf@gmail.com', 'AuthorName:Vidar Tonaas Fauske', 'ChangedFiles:#Missing', 'Id:b0d57d5', 'ParentIds:5982dcd 5b0a3ad', 'Subject:Merge pull request #165 from minrk/screenshots']\n",
      "----------------------------------------------------------------------------------------------------\n",
      "['AuthorEmail:vidartf@gmail.com', 'AuthorName:Vidar Tonaas Fauske', 'ChangedFiles:#Missing', 'Id:5982dcd', 'ParentIds:2e520e7 dd3ff8b', 'Subject:Merge pull request #155 from jupyter/conflict-inlining']\n",
      "----------------------------------------------------------------------------------------------------\n",
      "['AuthorEmail:benjaminrk@gmail.com', 'AuthorName:Min RK', 'ChangedFiles:#Missing', 'Id:2e520e7', 'ParentIds:d188aa0 e07b480', 'Subject:Merge pull request #160 from willingc/update-readme']\n",
      "----------------------------------------------------------------------------------------------------\n",
      "['AuthorEmail:benjaminrk@gmail.com', 'AuthorName:Min RK', 'ChangedFiles:#Missing', 'Id:d188aa0', 'ParentIds:0d5a79c 5c074e9', 'Subject:Merge pull request #159 from willingc/doc-edits']\n",
      "----------------------------------------------------------------------------------------------------\n",
      "['AuthorEmail:martinal@simula.no', 'AuthorName:Martin Sandve Alnæs', 'ChangedFiles:#Missing', 'Id:0d5a79c', 'ParentIds:19d7375 8d16d54', 'Subject:Merge pull request #153 from vidartf/merge-strategries-cli']\n",
      "----------------------------------------------------------------------------------------------------\n",
      "['AuthorEmail:martinal@simula.no', 'AuthorName:Martin Sandve Alnæs', 'ChangedFiles:#Missing', 'Id:19d7375', 'ParentIds:40979fa f7aed91', 'Subject:Merge pull request #157 from jupyter/willingc-readme']\n",
      "----------------------------------------------------------------------------------------------------\n",
      "['AuthorEmail:carolcode@willingconsulting.com', 'AuthorName:Carol Willing', 'ChangedFiles:#Missing', 'Id:40979fa', 'ParentIds:854f22d b9575c2', 'Subject:Merge pull request #156 from jupyter/willingc-patch-1']\n",
      "----------------------------------------------------------------------------------------------------\n",
      "['AuthorEmail:vidartf@gmail.com', 'AuthorName:Vidar Tonaas Fauske', 'ChangedFiles:#Missing', 'Id:aeeb049', 'ParentIds:ad60f74 854f22d', \"Subject:Merge branch 'master' into merge-strategries-cli\"]\n",
      "----------------------------------------------------------------------------------------------------\n",
      "['AuthorEmail:benjaminrk@gmail.com', 'AuthorName:Min RK', 'ChangedFiles:#Missing', 'Id:854f22d', 'ParentIds:5ea5cc1 5710527', 'Subject:Merge pull request #154 from willingc/doc-edit']\n",
      "----------------------------------------------------------------------------------------------------\n",
      "['AuthorEmail:martinal@simula.no', 'AuthorName:Martin Sandve Alnæs', 'ChangedFiles:#Missing', 'Id:5ea5cc1', 'ParentIds:dee5c9a 07ed1e8', 'Subject:Merge pull request #150 from vidartf/mergetool-cmd']\n",
      "----------------------------------------------------------------------------------------------------\n",
      "['AuthorEmail:carolcode@willingconsulting.com', 'AuthorName:Carol Willing', 'ChangedFiles:#Missing', 'Id:dee5c9a', 'ParentIds:ac153fc 624ad9f', 'Subject:Merge pull request #152 from minrk/docs-pre-release']\n",
      "----------------------------------------------------------------------------------------------------\n",
      "['AuthorEmail:vidartf@gmail.com', 'AuthorName:Vidar Tonaas Fauske', 'ChangedFiles:#Missing', 'Id:ac153fc', 'ParentIds:8992557 3820591', 'Subject:Merge pull request #151 from minrk/entrypoints']\n",
      "----------------------------------------------------------------------------------------------------\n",
      "['AuthorEmail:vidartf@gmail.com', 'AuthorName:Vidar Tonaas Fauske', 'ChangedFiles:#Missing', 'Id:7b81637', 'ParentIds:6455178 22a2d90', 'Subject:Merge pull request #144 from jupyter/prettyprint-notebooks-and-decisions']\n",
      "----------------------------------------------------------------------------------------------------\n",
      "['AuthorEmail:vidartf@gmail.com', 'AuthorName:Vidar Tonaas Fauske', 'ChangedFiles:#Missing', 'Id:6455178', 'ParentIds:806239e f574f0f', 'Subject:Merge pull request #148 from jupyter/fix-inline-merge-conflict']\n",
      "----------------------------------------------------------------------------------------------------\n",
      "['AuthorEmail:martinal@simula.no', 'AuthorName:Martin Sandve Alnæs', 'ChangedFiles:#Missing', 'Id:806239e', 'ParentIds:b20f4a1 95f3418', 'Subject:Merge pull request #145 from minrk/setup-py-pass']\n",
      "----------------------------------------------------------------------------------------------------\n",
      "['AuthorEmail:martinal@simula.no', 'AuthorName:Martin Sandve Alnæs', 'ChangedFiles:#Missing', 'Id:b20f4a1', 'ParentIds:9e4688d 794db98', 'Subject:Merge pull request #143 from vidartf/support-execution_count']\n",
      "----------------------------------------------------------------------------------------------------\n",
      "['AuthorEmail:martinal@simula.no', 'AuthorName:Martin Sandve Alnæs', 'ChangedFiles:#Missing', 'Id:9e4688d', 'ParentIds:773a7ba 8fee12e', 'Subject:Merge pull request #139 from vidartf/support-attachments']\n",
      "----------------------------------------------------------------------------------------------------\n",
      "['AuthorEmail:benjaminrk@gmail.com', 'AuthorName:Min RK', 'ChangedFiles:#Missing', 'Id:773a7ba', 'ParentIds:8bcf827 d62f826', 'Subject:Merge pull request #137 from jupyter/add-skip-npm-option']\n",
      "----------------------------------------------------------------------------------------------------\n",
      "['AuthorEmail:vidartf@gmail.com', 'AuthorName:Vidar Tonaas Fauske', 'ChangedFiles:#Missing', 'Id:8bcf827', 'ParentIds:ab3cc94 8e149e1', 'Subject:Merge pull request #140 from jupyter/fix-merge-bug']\n",
      "----------------------------------------------------------------------------------------------------\n",
      "['AuthorEmail:martinal@simula.no', 'AuthorName:Martin Sandve Alnæs', 'ChangedFiles:#Missing', 'Id:ab3cc94', 'ParentIds:cb3f3a9 461e850', 'Subject:Merge pull request #134 from vidartf/fix-dist']\n",
      "----------------------------------------------------------------------------------------------------\n",
      "['AuthorEmail:martinal@simula.no', 'AuthorName:Martin Sandve Alnæs', 'ChangedFiles:#Missing', 'Id:cb3f3a9', 'ParentIds:2b56e31 0fe5f56', 'Subject:Merge pull request #135 from vidartf/adjust-diff-output-styles']\n",
      "----------------------------------------------------------------------------------------------------\n",
      "['AuthorEmail:martinal@simula.no', 'AuthorName:Martin Sandve Alnæs', 'ChangedFiles:#Missing', 'Id:2b56e31', 'ParentIds:213d30e 6c89d8a', 'Subject:Merge pull request #136 from vidartf/test-json-output']\n",
      "----------------------------------------------------------------------------------------------------\n",
      "['AuthorEmail:martinal@simula.no', 'AuthorName:Martin Sandve Alnæs', 'ChangedFiles:#Missing', 'Id:213d30e', 'ParentIds:6140d23 cea73a8', 'Subject:Merge pull request #132 from vidartf/cleanup-templates']\n",
      "----------------------------------------------------------------------------------------------------\n",
      "['AuthorEmail:benjaminrk@gmail.com', 'AuthorName:Min RK', 'ChangedFiles:#Missing', 'Id:6140d23', 'ParentIds:3723b53 22b4a75', 'Subject:Merge pull request #130 from vidartf/adjust-output-diff-view']\n",
      "----------------------------------------------------------------------------------------------------\n",
      "['AuthorEmail:benjaminrk@gmail.com', 'AuthorName:Min RK', 'ChangedFiles:#Missing', 'Id:3723b53', 'ParentIds:0aa5782 9f09c30', 'Subject:Merge pull request #131 from vidartf/fix-fallback-colors']\n",
      "----------------------------------------------------------------------------------------------------\n",
      "['AuthorEmail:martinal@simula.no', 'AuthorName:Martin Sandve Alnæs', 'ChangedFiles:#Missing', 'Id:0aa5782', 'ParentIds:753135a 2dabe94', 'Subject:Merge pull request #128 from vidartf/refactor-widgets']\n",
      "----------------------------------------------------------------------------------------------------\n",
      "['AuthorEmail:martinal@simula.no', 'AuthorName:Martin Sandve Alnæs', 'ChangedFiles:#Missing', 'Id:753135a', 'ParentIds:f8767b7 da94885', 'Subject:Merge pull request #125 from vidartf/improve-chunking']\n",
      "----------------------------------------------------------------------------------------------------\n",
      "['AuthorEmail:vidartf@gmail.com', 'AuthorName:Vidar Tonaas Fauske', 'ChangedFiles:#Missing', 'Id:f8767b7', 'ParentIds:2fd4a9e 5908bc7', 'Subject:Merge pull request #126 from jupyter/add-browser-argument']\n",
      "----------------------------------------------------------------------------------------------------\n",
      "['AuthorEmail:martinal@simula.no', 'AuthorName:Martin Sandve Alnæs', 'ChangedFiles:#Missing', 'Id:2fd4a9e', 'ParentIds:48e2c13 f05d07a', 'Subject:Merge pull request #127 from vidartf/logging']\n",
      "----------------------------------------------------------------------------------------------------\n",
      "['AuthorEmail:martinal@simula.no', 'AuthorName:Martin Sandve Alnæs', 'ChangedFiles:#Missing', 'Id:48e2c13', 'ParentIds:c4df69b 39658f8', 'Subject:Merge pull request #123 from vidartf/fix_pickers']\n",
      "----------------------------------------------------------------------------------------------------\n",
      "['AuthorEmail:martinal@simula.no', 'AuthorName:Martin Sandve Alnæs', 'ChangedFiles:#Missing', 'Id:c4df69b', 'ParentIds:6a04033 114fed8', 'Subject:Merge pull request #124 from vidartf/fixes-etc']\n",
      "----------------------------------------------------------------------------------------------------\n",
      "['AuthorEmail:martinal@simula.no', 'AuthorName:Martin Sandve Alnæs', 'ChangedFiles:#Missing', 'Id:6a04033', 'ParentIds:9f43c3d 8be67b9', 'Subject:Merge pull request #119 from vidartf/fix-web-decision-splitting']\n",
      "----------------------------------------------------------------------------------------------------\n",
      "['AuthorEmail:martinal@simula.no', 'AuthorName:Martin Sandve Alnæs', 'ChangedFiles:#Missing', 'Id:9f43c3d', 'ParentIds:a5e1f72 e2fc76b', 'Subject:Merge pull request #117 from vidartf/flexible-index']\n",
      "----------------------------------------------------------------------------------------------------\n",
      "['AuthorEmail:vidartf@gmail.com', 'AuthorName:Vidar Tonaas Fauske', 'ChangedFiles:#Missing', 'Id:e2fc76b', 'ParentIds:ce1f7a5 a5e1f72', \"Subject:Merge branch 'master' into flexible-index\"]\n",
      "----------------------------------------------------------------------------------------------------\n",
      "['AuthorEmail:martinal@simula.no', 'AuthorName:Martin Sandve Alnæs', 'ChangedFiles:#Missing', 'Id:a5e1f72', 'ParentIds:43eca25 176c52d', 'Subject:Merge pull request #118 from vidartf/error-handling']\n",
      "----------------------------------------------------------------------------------------------------\n",
      "['AuthorEmail:martinal@simula.no', 'AuthorName:Martin Sandve Alnæs', 'ChangedFiles:#Missing', 'Id:43eca25', 'ParentIds:c21cab3 32e44e8', 'Subject:Merge pull request #114 from vidartf/enh-webapp']\n",
      "----------------------------------------------------------------------------------------------------\n",
      "['AuthorEmail:martinal@simula.no', 'AuthorName:Martin Sandve Alnæs', 'ChangedFiles:#Missing', 'Id:c21cab3', 'ParentIds:35b7608 f764cc3', 'Subject:Merge pull request #115 from vidartf/fix-close-button']\n",
      "----------------------------------------------------------------------------------------------------\n",
      "['AuthorEmail:vidartf@gmail.com', 'AuthorName:Vidar Tonaas Fauske', 'ChangedFiles:#Missing', 'Id:35b7608', 'ParentIds:db46402 22e6245', 'Subject:Merge pull request #106 from jupyter/update-docs']\n",
      "----------------------------------------------------------------------------------------------------\n",
      "['AuthorEmail:martinal@simula.no', 'AuthorName:Martin Sandve Alnæs', 'ChangedFiles:#Missing', 'Id:db46402', 'ParentIds:8792ab4 0494548', 'Subject:Merge pull request #112 from vidartf/fixes-web']\n",
      "----------------------------------------------------------------------------------------------------\n",
      "['AuthorEmail:martinal@simula.no', 'AuthorName:Martin Sandve Alnæs', 'ChangedFiles:#Missing', 'Id:8792ab4', 'ParentIds:e93a97f 1f47ad4', 'Subject:Merge pull request #110 from vidartf/refactor-models']\n",
      "----------------------------------------------------------------------------------------------------\n",
      "['AuthorEmail:martinal@simula.no', 'AuthorName:Martin Sandve Alnæs', 'ChangedFiles:#Missing', 'Id:e93a97f', 'ParentIds:e3e5f44 1cf12b9', 'Subject:Merge pull request #109 from vidartf/fix-outputmodel-web']\n",
      "----------------------------------------------------------------------------------------------------\n",
      "['AuthorEmail:vidartf@gmail.com', 'AuthorName:Vidar Tonaas Fauske', 'ChangedFiles:#Missing', 'Id:e3e5f44', 'ParentIds:39f146f 7acc1ed', 'Subject:Merge pull request #107 from jupyter/fix-nbmergeweb']\n",
      "----------------------------------------------------------------------------------------------------\n",
      "['AuthorEmail:martinal@simula.no', 'AuthorName:Martin Sandve Alnæs', 'ChangedFiles:#Missing', 'Id:39f146f', 'ParentIds:f6884b0 973abd4', 'Subject:Merge pull request #105 from vidartf/fix-mergetooldefault']\n",
      "----------------------------------------------------------------------------------------------------\n",
      "['AuthorEmail:vidartf@gmail.com', 'AuthorName:Vidar Tonaas Fauske', 'ChangedFiles:#Missing', 'Id:f6884b0', 'ParentIds:a57e4e3 e5a7e99', 'Subject:Merge pull request #104 from minrk/base-local-remote']\n",
      "----------------------------------------------------------------------------------------------------\n",
      "['AuthorEmail:vidartf@gmail.com', 'AuthorName:Vidar Tonaas Fauske', 'ChangedFiles:#Missing', 'Id:f1a348e', 'ParentIds:31e286d f173c75', 'Subject:Merge pull request #102 from jupyter/martinal/use-io-open']\n",
      "----------------------------------------------------------------------------------------------------\n",
      "['AuthorEmail:martinal@simula.no', 'AuthorName:Martin Sandve Alnæs', 'ChangedFiles:#Missing', 'Id:31e286d', 'ParentIds:acc356a 47d47c5', 'Subject:Merge pull request #100 from vidartf/fix-pp']\n",
      "----------------------------------------------------------------------------------------------------\n",
      "['AuthorEmail:martinal@simula.no', 'AuthorName:Martin Sandve Alnæs', 'ChangedFiles:#Missing', 'Id:acc356a', 'ParentIds:481b2cd 4a82e4b', 'Subject:Merge pull request #97 from vidartf/fix-setup']\n",
      "----------------------------------------------------------------------------------------------------\n",
      "['AuthorEmail:benjaminrk@gmail.com', 'AuthorName:Min RK', 'ChangedFiles:#Missing', 'Id:481b2cd', 'ParentIds:14ed831 cd5bb48', 'Subject:Merge pull request #98 from vidartf/fix-output-dnd']\n",
      "----------------------------------------------------------------------------------------------------\n",
      "['AuthorEmail:martinal@simula.no', 'AuthorName:Martin Sandve Alnæs', 'ChangedFiles:#Missing', 'Id:14ed831', 'ParentIds:5a6ba9b bdb52f9', 'Subject:Merge pull request #96 from vidartf/fix-flatten-string-diff']\n",
      "----------------------------------------------------------------------------------------------------\n",
      "['AuthorEmail:vidartf@gmail.com', 'AuthorName:Vidar Tonaas Fauske', 'ChangedFiles:#Missing', 'Id:5a6ba9b', 'ParentIds:e4af609 4df994c', 'Subject:Merge pull request #95 from jupyter/fix-merge-cell-delete-and-patch']\n",
      "----------------------------------------------------------------------------------------------------\n",
      "['AuthorEmail:martinal@simula.no', 'AuthorName:Martin Sandve Alnæs', 'ChangedFiles:#Missing', 'Id:e4af609', 'ParentIds:4e03e16 ca9b913', 'Subject:Merge pull request #92 from vidartf/minor-fixes']\n",
      "----------------------------------------------------------------------------------------------------\n",
      "['AuthorEmail:martinal@simula.no', 'AuthorName:Martin Sandve Alnæs', 'ChangedFiles:#Missing', 'Id:4e03e16', 'ParentIds:c9ffa9c 8f22f4f', 'Subject:Merge pull request #84 from vidartf/fix-coverage']\n",
      "----------------------------------------------------------------------------------------------------\n",
      "['AuthorEmail:martinal@simula.no', 'AuthorName:Martin Sandve Alnæs', 'ChangedFiles:#Missing', 'Id:c9ffa9c', 'ParentIds:4136c51 4f0d1db', 'Subject:Merge pull request #91 from vidartf/readme-require-npm']\n",
      "----------------------------------------------------------------------------------------------------\n",
      "['AuthorEmail:martinal@simula.no', 'AuthorName:Martin Sandve Alnæs', 'ChangedFiles:#Missing', 'Id:4136c51', 'ParentIds:da17b37 6806b3c', 'Subject:Merge pull request #90 from vidartf/ts2']\n",
      "----------------------------------------------------------------------------------------------------\n",
      "['AuthorEmail:martinal@simula.no', 'AuthorName:Martin Sandve Alnæs', 'ChangedFiles:#Missing', 'Id:da17b37', 'ParentIds:8501759 c211091', 'Subject:Merge pull request #86 from vidartf/fix-tools']\n",
      "----------------------------------------------------------------------------------------------------\n",
      "['AuthorEmail:martinal@simula.no', 'AuthorName:Martin Sandve Alnæs', 'ChangedFiles:#Missing', 'Id:8501759', 'ParentIds:48e865b e71bfee', 'Subject:Merge pull request #87 from vidartf/docs2']\n",
      "----------------------------------------------------------------------------------------------------\n",
      "['AuthorEmail:martinal@simula.no', 'AuthorName:Martin Sandve Alnæs', 'ChangedFiles:#Missing', 'Id:48e865b', 'ParentIds:b9eca71 6586f20', 'Subject:Merge pull request #89 from adamchainz/readthedocs.io']\n",
      "----------------------------------------------------------------------------------------------------\n",
      "['AuthorEmail:benjaminrk@gmail.com', 'AuthorName:Min RK', 'ChangedFiles:#Missing', 'Id:b9eca71', 'ParentIds:89974ba d0954fa', 'Subject:Merge pull request #85 from vidartf/change-reg']\n",
      "----------------------------------------------------------------------------------------------------\n",
      "['AuthorEmail:vidartf@gmail.com', 'AuthorName:Vidar Tonaas Fauske', 'ChangedFiles:#Missing', 'Id:89974ba', 'ParentIds:618b233 d956efd', 'Subject:Merge pull request #83 from jupyter/martinal/topic-cli-fixes']\n",
      "----------------------------------------------------------------------------------------------------\n",
      "['AuthorEmail:martinal@simula.no', 'AuthorName:Martin Sandve Alnæs', 'ChangedFiles:#Missing', 'Id:2bed9bb', 'ParentIds:9824304 e40a88b', 'Subject:Merge pull request #82 from vidartf/docs']\n",
      "----------------------------------------------------------------------------------------------------\n",
      "['AuthorEmail:martinal@simula.no', 'AuthorName:Martin Sandve Alnæs', 'ChangedFiles:#Missing', 'Id:9824304', 'ParentIds:88acecf dc14211', 'Subject:Merge pull request #81 from vidartf/refactorprojects']\n",
      "----------------------------------------------------------------------------------------------------\n",
      "['AuthorEmail:martinal@simula.no', 'AuthorName:Martin Sandve Alnæs', 'ChangedFiles:#Missing', 'Id:88acecf', 'ParentIds:fe87b7a 4fe2a23', 'Subject:Merge pull request #77 from vidartf/webapp_mergetool']\n",
      "----------------------------------------------------------------------------------------------------\n",
      "['AuthorEmail:martinal@simula.no', 'AuthorName:Martin Sandve Alnæs', 'ChangedFiles:#Missing', 'Id:fe87b7a', 'ParentIds:ce4583a cb5275c', 'Subject:Merge pull request #79 from vidartf/mergetool_driver_server']\n",
      "----------------------------------------------------------------------------------------------------\n",
      "['AuthorEmail:martinal@simula.no', 'AuthorName:Martin Sandve Alnæs', 'ChangedFiles:#Missing', 'Id:ce4583a', 'ParentIds:b94db84 fe72eb4', 'Subject:Merge pull request #78 from vidartf/server_fixes']\n",
      "----------------------------------------------------------------------------------------------------\n",
      "['AuthorEmail:martinal@simula.no', 'AuthorName:Martin Sandve Alnæs', 'ChangedFiles:#Missing', 'Id:b94db84', 'ParentIds:d24fe80 4b4c358', 'Subject:Merge pull request #76 from vidartf/merge-decisions']\n",
      "----------------------------------------------------------------------------------------------------\n",
      "['AuthorEmail:martinal@simula.no', 'AuthorName:Martin Sandve Alnæs', 'ChangedFiles:#Missing', 'Id:d24fe80', 'ParentIds:4e75c5a bd14f06', 'Subject:Merge pull request #75 from vidartf/merge_decision_schema']\n",
      "----------------------------------------------------------------------------------------------------\n",
      "['AuthorEmail:benjaminrk@gmail.com', 'AuthorName:Min RK', 'ChangedFiles:#Missing', 'Id:4e75c5a', 'ParentIds:90ede10 41a95d2', 'Subject:Merge pull request #68 from vidartf/fix_metadata']\n",
      "----------------------------------------------------------------------------------------------------\n",
      "['AuthorEmail:benjaminrk@gmail.com', 'AuthorName:Min RK', 'ChangedFiles:#Missing', 'Id:90ede10', 'ParentIds:b6b9876 bcd6141', 'Subject:Merge pull request #73 from jupyter/martinal/fix-autoresolve-bug']\n",
      "----------------------------------------------------------------------------------------------------\n",
      "['AuthorEmail:martinal@simula.no', 'AuthorName:Martin Sandve Alnæs', 'ChangedFiles:#Missing', 'Id:b6b9876', 'ParentIds:767c7c2 32bafb5', 'Subject:Merge pull request #71 from vidartf/refactor_chunking']\n",
      "----------------------------------------------------------------------------------------------------\n",
      "['AuthorEmail:martinal@simula.no', 'AuthorName:Martin Sandve Alnæs', 'ChangedFiles:#Missing', 'Id:767c7c2', 'ParentIds:84bb398 c4a5cc0', 'Subject:Merge pull request #72 from vidartf/patch-1']\n",
      "----------------------------------------------------------------------------------------------------\n",
      "['AuthorEmail:benjaminrk@gmail.com', 'AuthorName:Min RK', 'ChangedFiles:#Missing', 'Id:84bb398', 'ParentIds:37a15fe 9033e8a', 'Subject:Merge pull request #67 from vidartf/render_md']\n",
      "----------------------------------------------------------------------------------------------------\n",
      "['AuthorEmail:benjaminrk@gmail.com', 'AuthorName:Min RK', 'ChangedFiles:#Missing', 'Id:37a15fe', 'ParentIds:ed9023a 2935e8b', 'Subject:Merge pull request #65 from gahjelle/setup_with_webapp']\n",
      "----------------------------------------------------------------------------------------------------\n",
      "['AuthorEmail:benjaminrk@gmail.com', 'AuthorName:Min RK', 'ChangedFiles:#Missing', 'Id:b3343f9', 'ParentIds:8ff220d 845c477', 'Subject:Merge pull request #63 from minrk/diff-driver-attributes']\n",
      "----------------------------------------------------------------------------------------------------\n",
      "['AuthorEmail:benjaminrk@gmail.com', 'AuthorName:Min RK', 'ChangedFiles:#Missing', 'Id:e387105', 'ParentIds:55adbce a8650be', 'Subject:Merge pull request #62 from minrk/merge-test']\n",
      "----------------------------------------------------------------------------------------------------\n",
      "['AuthorEmail:benjaminrk@gmail.com', 'AuthorName:Min RK', 'ChangedFiles:#Missing', 'Id:55adbce', 'ParentIds:633fe82 15c6740', 'Subject:Merge pull request #61 from minrk/install-web']\n",
      "----------------------------------------------------------------------------------------------------\n",
      "['AuthorEmail:benjaminrk@gmail.com', 'AuthorName:Min RK', 'ChangedFiles:#Missing', 'Id:633fe82', 'ParentIds:d1952dc 754f57b', 'Subject:Merge pull request #58 from minrk/turn-on-indent']\n",
      "----------------------------------------------------------------------------------------------------\n",
      "['AuthorEmail:benjaminrk@gmail.com', 'AuthorName:Min RK', 'ChangedFiles:#Missing', 'Id:d1952dc', 'ParentIds:6691bfc 7e4d860', 'Subject:Merge pull request #54 from minrk/colors']\n",
      "----------------------------------------------------------------------------------------------------\n",
      "['AuthorEmail:benjaminrk@gmail.com', 'AuthorName:Min RK', 'ChangedFiles:#Missing', 'Id:6691bfc', 'ParentIds:0d57ff7 9c6830a', 'Subject:Merge pull request #57 from minrk/skip-non-notebooks']\n",
      "----------------------------------------------------------------------------------------------------\n",
      "['AuthorEmail:benjaminrk@gmail.com', 'AuthorName:Min RK', 'ChangedFiles:#Missing', 'Id:a8fce37', 'ParentIds:3fd06d8 d390fef', 'Subject:Merge pull request #56 from minrk/missing-languages']\n",
      "----------------------------------------------------------------------------------------------------\n",
      "['AuthorEmail:benjaminrk@gmail.com', 'AuthorName:Min RK', 'ChangedFiles:#Missing', 'Id:0d9469d', 'ParentIds:312418e 8662fe3', 'Subject:Merge pull request #55 from minrk/integer-ports']\n",
      "----------------------------------------------------------------------------------------------------\n",
      "['AuthorEmail:benjaminrk@gmail.com', 'AuthorName:Min RK', 'ChangedFiles:#Missing', 'Id:312418e', 'ParentIds:5044f27 18814a6', 'Subject:Merge pull request #50 from vidartf/mimetype_diff']\n",
      "----------------------------------------------------------------------------------------------------\n",
      "['AuthorEmail:benjaminrk@gmail.com', 'AuthorName:Min RK', 'ChangedFiles:#Missing', 'Id:5044f27', 'ParentIds:7fcd5b2 fecb37f', 'Subject:Merge pull request #49 from vidartf/webapp_difftool']\n",
      "----------------------------------------------------------------------------------------------------\n",
      "['AuthorEmail:vidartf@gmail.com', 'AuthorName:Vidar Tonaas Fauske', 'ChangedFiles:#Missing', 'Id:015483b', 'ParentIds:dcd6c22 038689b', \"Subject:Merge remote-tracking branch 'origin/linewise_diffs' into mimetype_diff\"]\n",
      "----------------------------------------------------------------------------------------------------\n",
      "['AuthorEmail:vidartf@gmail.com', 'AuthorName:Vidar Tonaas Fauske', 'ChangedFiles:#Missing', 'Id:b91fc89', 'ParentIds:9473ab1 7fcd5b2', \"Subject:Merge remote-tracking branch 'jupyter/master' into webapp_difftool\"]\n",
      "----------------------------------------------------------------------------------------------------\n",
      "['AuthorEmail:benjaminrk@gmail.com', 'AuthorName:Min RK', 'ChangedFiles:#Missing', 'Id:7fcd5b2', 'ParentIds:a3504cb d3694eb', 'Subject:Merge pull request #48 from bollwyvl/handle-error-output-type']\n",
      "----------------------------------------------------------------------------------------------------\n",
      "['AuthorEmail:benjaminrk@gmail.com', 'AuthorName:Min RK', 'ChangedFiles:#Missing', 'Id:a3504cb', 'ParentIds:b363220 fde642d', 'Subject:Merge pull request #45 from vidartf/FIX_diff_driver_test']\n",
      "----------------------------------------------------------------------------------------------------\n",
      "['AuthorEmail:benjaminrk@gmail.com', 'AuthorName:Min RK', 'ChangedFiles:#Missing', 'Id:b363220', 'ParentIds:614882b f6f80ac', 'Subject:Merge pull request #44 from vidartf/diff_driver']\n",
      "----------------------------------------------------------------------------------------------------\n",
      "['AuthorEmail:benjaminrk@gmail.com', 'AuthorName:Min RK', 'ChangedFiles:#Missing', 'Id:614882b', 'ParentIds:2e6aba7 1b0320c', 'Subject:Merge pull request #43 from vidartf/ignores']\n",
      "----------------------------------------------------------------------------------------------------\n",
      "['AuthorEmail:benjaminrk@gmail.com', 'AuthorName:Min RK', 'ChangedFiles:#Missing', 'Id:2e6aba7', 'ParentIds:9a2d724 d54c67f', 'Subject:Merge pull request #42 from vidartf/misname']\n",
      "----------------------------------------------------------------------------------------------------\n",
      "['AuthorEmail:benjaminrk@gmail.com', 'AuthorName:Min RK', 'ChangedFiles:#Missing', 'Id:cc31347', 'ParentIds:a0303a4 ebd3f33', 'Subject:Merge pull request #41 from bollwyvl/topic-prettydiff-fallback']\n",
      "----------------------------------------------------------------------------------------------------\n",
      "['AuthorEmail:benjaminrk@gmail.com', 'AuthorName:Min RK', 'ChangedFiles:#Missing', 'Id:a0303a4', 'ParentIds:912ee20 3fefdc8', 'Subject:Merge pull request #40 from willingc/doc-move']\n",
      "----------------------------------------------------------------------------------------------------\n",
      "['AuthorEmail:carolcode@willingconsulting.com', 'AuthorName:Carol Willing', 'ChangedFiles:#Missing', 'Id:912ee20', 'ParentIds:f173d83 d5312de', 'Subject:Merge pull request #39 from jupyter/willingc-patch-1']\n",
      "----------------------------------------------------------------------------------------------------\n",
      "['AuthorEmail:martinal@simula.no', 'AuthorName:Martin Sandve Alnæs', 'ChangedFiles:#Missing', 'Id:f173d83', 'ParentIds:d15e6fd 8e67844', 'Subject:Merge pull request #38 from jupyter/new-list-merge-algorithm']\n",
      "----------------------------------------------------------------------------------------------------\n",
      "['AuthorEmail:benjaminrk@gmail.com', 'AuthorName:Min RK', 'ChangedFiles:#Missing', 'Id:d15e6fd', 'ParentIds:cc37433 149ddce', 'Subject:Merge pull request #31 from minrk/terminal-diff']\n",
      "----------------------------------------------------------------------------------------------------\n",
      "['AuthorEmail:benjaminrk@gmail.com', 'AuthorName:Min RK', 'ChangedFiles:#Missing', 'Id:bc2bbfc', 'ParentIds:715eb15 f14e094', 'Subject:Merge pull request #30 from willingc/doc-update']\n",
      "----------------------------------------------------------------------------------------------------\n",
      "['AuthorEmail:martinal@simula.no', 'AuthorName:Martin Sandve Alnæs', 'ChangedFiles:#Missing', 'Id:6660a4a', 'ParentIds:72fc51f d60af42', 'Subject:Merge pull request #29 from martinal/martinal/topic-merge-conflict-resolution']\n",
      "----------------------------------------------------------------------------------------------------\n",
      "['AuthorEmail:benjaminrk@gmail.com', 'AuthorName:Min RK', 'ChangedFiles:#Missing', 'Id:72fc51f', 'ParentIds:fbcb81f dc2407b', 'Subject:Merge pull request #28 from minrk/fix-difftool-args']\n",
      "----------------------------------------------------------------------------------------------------\n",
      "['AuthorEmail:martinal@simula.no', 'AuthorName:Martin Sandve Alnæs', 'ChangedFiles:#Missing', 'Id:fbcb81f', 'ParentIds:5af7f14 0a8e244', 'Subject:Merge pull request #27 from martinal/martinal/topic-refactor-diffing']\n",
      "----------------------------------------------------------------------------------------------------\n",
      "['AuthorEmail:martinal@simula.no', 'AuthorName:Martin Sandve Alnæs', 'ChangedFiles:#Missing', 'Id:5af7f14', 'ParentIds:24a29c2 f95b939', 'Subject:Merge pull request #26 from minrk/difftool']\n",
      "----------------------------------------------------------------------------------------------------\n",
      "['AuthorEmail:martinal@simula.no', 'AuthorName:Martin Sandve Alnæs', 'ChangedFiles:#Missing', 'Id:24a29c2', 'ParentIds:c261edd 88f0961', 'Subject:Merge pull request #25 from martinal/martinal/topic-add-merge-strategies']\n",
      "----------------------------------------------------------------------------------------------------\n",
      "['AuthorEmail:martinal@simula.no', 'AuthorName:Martin Sandve Alnæs', 'ChangedFiles:#Missing', 'Id:c261edd', 'ParentIds:d20e604 7164a48', 'Subject:Merge pull request #24 from martinal/martinal/topic-refactor-diff-algorithms']\n",
      "----------------------------------------------------------------------------------------------------\n",
      "['AuthorEmail:martinal@simula.no', 'AuthorName:Martin Sandve Alnæs', 'ChangedFiles:#Missing', 'Id:d20e604', 'ParentIds:91318f6 1333a20', 'Subject:Merge pull request #22 from martinal/martinal/topic-use-argparse']\n",
      "----------------------------------------------------------------------------------------------------\n",
      "['AuthorEmail:martinal@simula.no', 'AuthorName:Martin Sandve Alnæs', 'ChangedFiles:#Missing', 'Id:91318f6', 'ParentIds:dc6604c 32ec755', 'Subject:Merge pull request #21 from martinal/api-draft']\n",
      "----------------------------------------------------------------------------------------------------\n",
      "['AuthorEmail:benjaminrk@gmail.com', 'AuthorName:Min RK', 'ChangedFiles:#Missing', 'Id:dc6604c', 'ParentIds:7ae62b8 0d9e8ce', 'Subject:Merge pull request #20 from WillEngler/web-cli']\n",
      "----------------------------------------------------------------------------------------------------\n",
      "['AuthorEmail:martinal@simula.no', 'AuthorName:Martin Sandve Alnæs', 'ChangedFiles:CONTRIBUTING.md,COPYING.md,MANIFEST.in,README.md,docs/README.md,nbmerge/__init__.py,nbmerge/_version.py,scripts/nbdiff,scripts/nbmerge,setup.cfg,setup.py', 'Id:f87fb2e', 'ParentIds:#Missing', 'Subject:Initial commit, framework files following nbformat setup.']\n",
      "----------------------------------------------------------------------------------------------------\n"
     ]
    }
   ],
   "source": [
    "# YOUR CODE HERE\n",
    "for i in range(num_rows):\n",
    "    features=[]\n",
    "    for j in range(len(headers)):\n",
    "        if cols[headers[j]][i]=='':\n",
    "            for k in range(len(headers)):\n",
    "                if cols[headers[k]][i]!='':\n",
    "                    features.append(headers[k]+':'+cols[headers[k]][i])\n",
    "                else:\n",
    "                    features.append(headers[k]+':#Missing')\n",
    "            print(features)\n",
    "            print('-'*100)\n",
    "            break"
   ]
  },
  {
   "cell_type": "markdown",
   "id": "2826f4c7",
   "metadata": {
    "deletable": false,
    "nbgrader": {
     "cell_type": "markdown",
     "checksum": "0f5fa9e719dcc6a28b1a0ad666d3c0a9",
     "grade": true,
     "grade_id": "cell-0ce04cd6c1dd7a31",
     "locked": false,
     "points": 0.25,
     "schema_version": 3,
     "solution": true,
     "task": false
    }
   },
   "source": [
    "YOUR ANSWER HERE"
   ]
  },
  {
   "cell_type": "markdown",
   "id": "7fb6df75",
   "metadata": {},
   "source": [
    "---"
   ]
  },
  {
   "cell_type": "markdown",
   "id": "af20a067",
   "metadata": {},
   "source": [
    "## Đưa ra câu hỏi có ý nghĩa cần trả lời"
   ]
  },
  {
   "cell_type": "markdown",
   "id": "6d1383e9",
   "metadata": {},
   "source": [
    "Sau khi khám phá dữ liệu, ta đã hiểu hơn về dữ liệu. Bây giờ, ta hãy xem thử có câu hỏi nào có ý nghĩa mà có thể được trả lời bằng dữ liệu này không.\n",
    "\n",
    "Các câu hỏi có thể có là: \n",
    "- *Câu hỏi 1: trong năm 2021, ai là người có nhiều commit nhất, ai là người có nhiều commit nhì, ...?* \\\n",
    "Tìm câu trả lời cho câu hỏi này để làm gì? \\\n",
    "Hmm ... Chẳng hạn để khen thưởng\n",
    "- *Câu hỏi 2: commit nào là commit cuối cùng đã thay đổi file \"nbdime/webapp/templates/difftool.html\"?* \\\n",
    "Tìm câu trả lời cho câu hỏi này để làm gì? \\\n",
    "Hmm ... Chẳng hạn để đổ tội cho tác giả của commit đó ;-)"
   ]
  },
  {
   "cell_type": "markdown",
   "id": "2b8d3d6a",
   "metadata": {},
   "source": [
    "---"
   ]
  },
  {
   "cell_type": "markdown",
   "id": "0071c835",
   "metadata": {},
   "source": [
    "## Tiền xử lý (nếu cần) + phân tích dữ liệu để trả lời cho câu hỏi 1 (1đ)"
   ]
  },
  {
   "cell_type": "markdown",
   "id": "408c3c24",
   "metadata": {},
   "source": [
    "Nhắc lại câu hỏi 1: *trong năm 2021, ai là người có nhiều commit nhất, ai là người có nhiều commit nhì, ...?*\n",
    "\n",
    "Bạn sẽ lưu kết quả vào biến `wanted_people`. Biến này là một dictionary, mỗi phần tử ứng với một người mà có commit trong năm 2021, key là tên của người đó, value là số lượng commit của người đó. Dictionary này được sort theo value giảm dần."
   ]
  },
  {
   "cell_type": "code",
   "execution_count": 42,
   "id": "937386a9",
   "metadata": {
    "deletable": false,
    "nbgrader": {
     "cell_type": "code",
     "checksum": "164597dfc4cff18b22014680c9345b6e",
     "grade": false,
     "grade_id": "cell-a40eed2ac02f6c2b",
     "locked": false,
     "schema_version": 3,
     "solution": true,
     "task": false
    }
   },
   "outputs": [],
   "source": [
    "# YOUR CODE HERE\n",
    "names=[]\n",
    "for i in range(num_rows):\n",
    "    if cols['AuthorDate'][i].year==2021:\n",
    "        if cols['AuthorName'][i] not in names:\n",
    "            names.append(cols['AuthorName'][i])\n",
    "count=[]\n",
    "for i in range(len(names)):\n",
    "    count.append(0)\n",
    "for i in range(len(names)):\n",
    "    for j in range(num_rows):\n",
    "        if names[i]==cols['AuthorName'][j] and cols['AuthorDate'][j].year==2021:\n",
    "            count[i]+=1\n",
    "wanted_people={}\n",
    "i=0\n",
    "while i<len(count):\n",
    "    max_index=count.index(max(count))\n",
    "    temp=max(count)\n",
    "    count[max_index]=-1\n",
    "    wanted_people[names[max_index]]=temp\n",
    "    i+=1"
   ]
  },
  {
   "cell_type": "code",
   "execution_count": 43,
   "id": "93459f36",
   "metadata": {
    "deletable": false,
    "editable": false,
    "nbgrader": {
     "cell_type": "code",
     "checksum": "a7294256d2ff774d1305360568b58d73",
     "grade": true,
     "grade_id": "cell-9e312d16b92a0e40",
     "locked": true,
     "points": 1,
     "schema_version": 3,
     "solution": false,
     "task": false
    }
   },
   "outputs": [],
   "source": [
    "# TEST\n",
    "correct_wanted_people = {'Vidar Tonaas Fauske': 26, \n",
    "                         'Alex Bozarth': 9, \n",
    "                         'Frederic COLLONVAL': 7, \n",
    "                         'Frédéric Collonval': 6, \n",
    "                         'krassowski': 2, \n",
    "                         'Michał Krassowski': 2}\n",
    "assert wanted_people == correct_wanted_people"
   ]
  },
  {
   "cell_type": "markdown",
   "id": "331e0d37",
   "metadata": {},
   "source": [
    "---"
   ]
  },
  {
   "cell_type": "markdown",
   "id": "e34f11a1",
   "metadata": {},
   "source": [
    "## Tiền xử lý (nếu cần) + phân tích dữ liệu để trả lời cho câu hỏi 2 (2đ)"
   ]
  },
  {
   "cell_type": "markdown",
   "id": "da4781dc",
   "metadata": {},
   "source": [
    "Nhắc lại câu hỏi 2: *commit nào là commit cuối cùng đã thay đổi file \"nbdime/webapp/templates/difftool.html\"?*\n",
    "\n",
    "Ta thống nhất: không xét các commit \"merge pull request\" vì các commit này không có thông tin về \"ChangedFiles\".\n",
    "\n",
    "Bạn lưu kết quả vào biến `wanted_commit`. Biến này là một dictionary, trong đó mỗi phần tử ứng với một thông tin của commit, key là tên cột, value là giá trị tương ứng."
   ]
  },
  {
   "cell_type": "code",
   "execution_count": 44,
   "id": "c329cf22",
   "metadata": {
    "deletable": false,
    "nbgrader": {
     "cell_type": "code",
     "checksum": "e6cbf3fcba915f428f1ac9b6f208e6ef",
     "grade": false,
     "grade_id": "cell-37a6a90f597ad4a1",
     "locked": false,
     "schema_version": 3,
     "solution": true,
     "task": false
    }
   },
   "outputs": [],
   "source": [
    "# YOUR CODE HERE\n",
    "file=\"nbdime/webapp/templates/difftool.html\"\n",
    "time=[]\n",
    "index=[]\n",
    "for i in range(num_rows):\n",
    "    if file in cols['ChangedFiles'][i]:\n",
    "        time.append(cols['AuthorDate'][i])\n",
    "        index.append(i)\n",
    "max_time=max(time)\n",
    "max_index=index[time.index(max_time)]\n",
    "keys=['Id','ParentIds','AuthorName','AuthorEmail','AuthorDate','Subject','ChangedFiles']\n",
    "wanted_commit={}\n",
    "for i in range(len(keys)):\n",
    "    wanted_commit[keys[i]]=cols[keys[i]][max_index]"
   ]
  },
  {
   "cell_type": "code",
   "execution_count": 45,
   "id": "777ead1c",
   "metadata": {
    "deletable": false,
    "editable": false,
    "nbgrader": {
     "cell_type": "code",
     "checksum": "916a7ddb9a0120cadf1501a14a675d3e",
     "grade": true,
     "grade_id": "cell-41c49732faf571f7",
     "locked": true,
     "points": 2,
     "schema_version": 3,
     "solution": false,
     "task": false
    }
   },
   "outputs": [],
   "source": [
    "# TEST\n",
    "correct_wanted_commit = {\\\n",
    "    'Id': 'be0b5ee',\n",
    "    'ParentIds': '4226179',\n",
    "    'AuthorName': 'Vidar Tonaas Fauske',\n",
    "    'AuthorEmail': 'vidartf@gmail.com',\n",
    "    'AuthorDate': datetime.datetime(2017, 7, 4, 22, 53, 9, tzinfo=datetime.timezone(datetime.timedelta(seconds=7200))),\n",
    "    'Subject': 'jinja2 templates + avoid name collisions with nb',\n",
    "    'ChangedFiles': 'nbdime/webapp/nbdimeserver.py,nbdime/webapp/templates/compare.html,nbdime/webapp/templates/diff.html,nbdime/webapp/templates/difftool.html,nbdime/webapp/templates/merge.html,nbdime/webapp/templates/mergetool.html,nbdime/webapp/templates/nbdimepage.html,setup.py'\\\n",
    "}\n",
    "assert wanted_commit == correct_wanted_commit"
   ]
  }
 ],
 "metadata": {
  "kernelspec": {
   "display_name": "Python 3 (ipykernel)",
   "language": "python",
   "name": "python3"
  },
  "language_info": {
   "codemirror_mode": {
    "name": "ipython",
    "version": 3
   },
   "file_extension": ".py",
   "mimetype": "text/x-python",
   "name": "python",
   "nbconvert_exporter": "python",
   "pygments_lexer": "ipython3",
   "version": "3.8.8"
  },
  "toc": {
   "base_numbering": 1,
   "nav_menu": {},
   "number_sections": false,
   "sideBar": true,
   "skip_h1_title": true,
   "title_cell": "Table of Contents",
   "title_sidebar": "Contents",
   "toc_cell": false,
   "toc_position": {
    "height": "calc(100% - 180px)",
    "left": "10px",
    "top": "150px",
    "width": "165px"
   },
   "toc_section_display": true,
   "toc_window_display": true
  },
  "vscode": {
   "interpreter": {
    "hash": "e7370f93d1d0cde622a1f8e1c04877d8463912d04d973331ad4851f04de6915a"
   }
  }
 },
 "nbformat": 4,
 "nbformat_minor": 5
}
