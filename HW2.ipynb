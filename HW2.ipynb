{
 "cells": [
  {
   "cell_type": "markdown",
   "id": "46896a80",
   "metadata": {},
   "source": [
    "# HW2: Numpy\n",
    "\n",
    "*Vì đây là bài tập về Numpy nên yêu cầu nói chung là không được dùng vòng lặp; còn ở chỗ nào mà cho phép dùng thì mình sẽ nói rõ*\n",
    "\n",
    "Đầu tiên hãy cung cấp thông tin cần thiết để chúng ta biết bạn là ai\n",
    "\n",
    "Họ tên: Nguyễn Thị Cẩm Lai\n",
    "\n",
    "MSSV: 20120128"
   ]
  },
  {
   "cell_type": "markdown",
   "id": "98060f23",
   "metadata": {},
   "source": [
    "---"
   ]
  },
  {
   "cell_type": "markdown",
   "id": "155aa0df",
   "metadata": {},
   "source": [
    "## Cách làm bài và nộp bài"
   ]
  },
  {
   "cell_type": "markdown",
   "id": "f181e2a2",
   "metadata": {},
   "source": [
    "&#9889; Bạn lưu ý là mình sẽ dùng chương trình hỗ trợ chấm bài nên bạn cần phải tuân thủ chính xác qui định mà mình đặt ra, nếu không rõ thì hỏi, chứ không nên tự tiện làm theo ý của cá nhân.\n",
    "\n",
    "**Cách làm bài**\n",
    "\n",
    "Bạn sẽ làm trực tiếp trên file notebook này. Đầu tiên, bạn điền họ tên và MSSV vào phần đầu file ở bên trên. Trong file, bạn làm bài ở những chỗ có ghi là:\n",
    "```python\n",
    "# YOUR CODE HERE\n",
    "raise NotImplementedError()\n",
    "```\n",
    "hoặc đối với những phần code không bắt buộc thì là:\n",
    "```python\n",
    "# YOUR CODE HERE (OPTION)\n",
    "```\n",
    "hoặc đối với markdown cell thì là:\n",
    "```markdown\n",
    "YOUR ANSWER HERE\n",
    "```\n",
    "Tất nhiên, khi làm thì bạn xóa dòng `raise NotImplementedError()` đi.\n",
    "Đối những phần yêu cầu code thì thường ở ngay phía dưới sẽ có một (hoặc một số) cell chứa các bộ test để giúp bạn biết đã code đúng hay chưa; nếu chạy cell này không có lỗi gì thì có nghĩa là qua được các bộ test. Trong một số trường hợp, các bộ test có thể sẽ không đầy đủ; nghĩa là, nếu không qua được test thì là code sai, nhưng nếu qua được test thì chưa chắc đã đúng hoàn toàn.\n",
    "\n",
    "Trong khi làm bài, bạn có thể cho in ra màn hình, tạo thêm các cell để test. Nhưng khi nộp bài thì bạn xóa các cell mà bạn tự tạo, xóa hoặc comment các câu lệnh in ra màn hình. Bạn lưu ý <font color=red>không được tự tiện xóa các cell hay sửa code của Thầy</font> (trừ những chỗ được phép sửa như đã nói ở trên).\n",
    "\n",
    "Bạn cố gắng giữ cho code rõ ràng, ngăn nắp: đặt tên biến gợi ý, comment ở những chỗ cần comment, giữ cho một dòng code không quá dài (vì nếu không thì người đọc sẽ phải mất công scroll, bạn có thể dùng qui tắc: một dòng code chỉ nên có tối đa là 79 ký tự). \n",
    "\n",
    "Trong khi làm bài, thường xuyên `Ctrl + S` để lưu lại bài làm của bạn, tránh mất mát thông tin.\n",
    "\n",
    "\n",
    "*Nên nhớ mục tiêu chính ở đây là <font color=green>học, học một cách chân thật</font>. Bạn có thể thảo luận ý tưởng với bạn khác, nhưng <font color=green>code và bài làm phải là của bạn, dựa trên sự hiểu thật sự của bạn</font>. <font color=red>Nếu vi phạm thì sẽ bị 0 điểm cho toàn bộ môn học.</font>*\n",
    "\n",
    "**Cách nộp bài**\n",
    "\n",
    "Khi chấm bài, đầu tiên mình sẽ chọn `Kernel` - `Restart & Run All` để restart và chạy tất cả các cell trong notebook của bạn; do đó, trước khi nộp bài, bạn nên chạy thử `Kernel` - `Restart & Run All` để đảm bảo mọi chuyện diễn ra đúng như mong đợi.\n",
    "\n",
    "Sau đó, bạn tạo thư mục nộp bài theo cấu trúc sau:\n",
    "- Thư mục `MSSV` (vd, nếu bạn có MSSV là 1234567 thì bạn đặt tên thư mục là `1234567`)\n",
    "    - File `HW2.ipynb` (không cần nộp các file khác)\n",
    "\n",
    "Cuối cùng, bạn nén thư mục `MSSV` này lại và nộp ở link trên moodle. <font color=red>Bạn lưu ý tuân thủ chính xác qui định nộp bài.</font>"
   ]
  },
  {
   "cell_type": "markdown",
   "id": "c09ce040",
   "metadata": {},
   "source": [
    "---"
   ]
  },
  {
   "cell_type": "markdown",
   "id": "f5861b79",
   "metadata": {},
   "source": [
    "## Môi trường code"
   ]
  },
  {
   "cell_type": "markdown",
   "id": "a55dd304",
   "metadata": {},
   "source": [
    "Ta thống nhất trong môn này:\n",
    "- Code trên môi trường Linux (bạn đã setup ở HW0)\n",
    "- Dùng Jupyter Notebook hoặc Jupyter Lab để code file .ipynb. Lưu ý: bạn <font color=red>không dùng Google Colab</font>, vì Google Colab có thể xóa một số thông tin meta mà chương trình hỗ trợ chấm bài của mình đã tạo trong file bài tập\n",
    "- Dùng phiên bản các package như trong file \"min_ds-env.yml\" (bạn xem trong HW0 cách dùng Conda để tạo môi trường code từ file .yml và cách kích hoạt môi trường này sau khi đã tạo)"
   ]
  },
  {
   "cell_type": "code",
   "execution_count": 1,
   "id": "f4d0ddac",
   "metadata": {},
   "outputs": [
    {
     "data": {
      "text/plain": [
       "'C:\\\\Users\\\\FPT SHOP\\\\AppData\\\\Local\\\\Programs\\\\Python\\\\Python310\\\\python.exe'"
      ]
     },
     "execution_count": 1,
     "metadata": {},
     "output_type": "execute_result"
    }
   ],
   "source": [
    "import sys\n",
    "sys.executable"
   ]
  },
  {
   "cell_type": "markdown",
   "id": "0aed058f",
   "metadata": {},
   "source": [
    "Nếu không có vấn đề gì thì file chạy python sẽ là file của môi trường code \"min_ds-env\".\n",
    "\n",
    "Trong bài này, bạn không dùng thư viện Pandas."
   ]
  },
  {
   "cell_type": "markdown",
   "id": "8d61e06a",
   "metadata": {},
   "source": [
    "---"
   ]
  },
  {
   "cell_type": "markdown",
   "id": "f1372718",
   "metadata": {},
   "source": [
    "## Import các thư viện cần thiết"
   ]
  },
  {
   "cell_type": "code",
   "execution_count": 2,
   "id": "aa2cfe75",
   "metadata": {},
   "outputs": [],
   "source": [
    "import numpy as np\n",
    "# YOUR CODE HERE (OPTION)"
   ]
  },
  {
   "cell_type": "markdown",
   "id": "cbb29f77",
   "metadata": {},
   "source": [
    "---"
   ]
  },
  {
   "cell_type": "markdown",
   "id": "c4d46fb4",
   "metadata": {},
   "source": [
    "## Nghiên cứu về lý do tại sao lại cần và nên dùng NumPy?"
   ]
  },
  {
   "cell_type": "code",
   "execution_count": 3,
   "id": "51e842ea",
   "metadata": {},
   "outputs": [
    {
     "name": "stdout",
     "output_type": "stream",
     "text": [
      "1000 500\n",
      "500 1000\n"
     ]
    }
   ],
   "source": [
    "import random\n",
    "\n",
    "# Tạo 2 ma trận có kích thước 1000 x 500 và 500 x 1000\n",
    "nrows1 = 1000; ncols1 = nrows2 = 500; ncols2 = 1000\n",
    "m1_list = []\n",
    "for r in range(nrows1):\n",
    "    row_vals = []\n",
    "    for c in range(ncols1):\n",
    "        row_vals.append(random.randint(-100, 100))\n",
    "    m1_list.append(row_vals)\n",
    "    \n",
    "m2_list = []\n",
    "for r in range(nrows2):\n",
    "    row_vals = []\n",
    "    for c in range(ncols2):\n",
    "        row_vals.append(random.randint(-100, 100))\n",
    "    m2_list.append(row_vals)\n",
    "    \n",
    "print(len(m1_list), len(m1_list[0]))\n",
    "print(len(m2_list), len(m2_list[0]))"
   ]
  },
  {
   "cell_type": "code",
   "execution_count": 4,
   "id": "7704bfc8",
   "metadata": {},
   "outputs": [
    {
     "name": "stdout",
     "output_type": "stream",
     "text": [
      "CPU times: total: 1min 40s\n",
      "Wall time: 1min 40s\n"
     ]
    }
   ],
   "source": [
    "%%time\n",
    "# Nhân 2 ma trận\n",
    "m3_list = []\n",
    "for r in range(nrows1):\n",
    "    row_vals = []\n",
    "    for c in range(ncols2):\n",
    "        temp = 0\n",
    "        for i in range(ncols1):\n",
    "            temp += m1_list[r][i] * m2_list[i][c]\n",
    "        row_vals.append(temp)\n",
    "    m3_list.append(row_vals)"
   ]
  },
  {
   "cell_type": "markdown",
   "id": "2fe42144",
   "metadata": {},
   "source": [
    "Nhân 2 ma trận bằng Numpy array + toán tử nhân ma trận của Numpy:"
   ]
  },
  {
   "cell_type": "code",
   "execution_count": 5,
   "id": "13dd8ce9",
   "metadata": {},
   "outputs": [],
   "source": [
    "m1_array = np.array(m1_list)\n",
    "m2_array = np.array(m2_list)"
   ]
  },
  {
   "cell_type": "code",
   "execution_count": 6,
   "id": "991dbe6e",
   "metadata": {},
   "outputs": [
    {
     "name": "stdout",
     "output_type": "stream",
     "text": [
      "CPU times: total: 906 ms\n",
      "Wall time: 909 ms\n"
     ]
    }
   ],
   "source": [
    "%%time\n",
    "m3_array = m1_array @ m2_array"
   ]
  },
  {
   "cell_type": "markdown",
   "id": "ed643455",
   "metadata": {},
   "source": [
    "So sánh 2 cách làm:\n",
    "\n",
    "- Thời gian viết code: NumPy viết code nhanh hơn rất nhiều.\n",
    "- Thời gian chạy: NumPy cho tốc độ nhanh hơn rất nhiều.\n",
    "- Kết quả: Như nhau (Daijoubu!)"
   ]
  },
  {
   "cell_type": "code",
   "execution_count": 7,
   "id": "370ff553",
   "metadata": {},
   "outputs": [
    {
     "data": {
      "text/plain": [
       "True"
      ]
     },
     "execution_count": 7,
     "metadata": {},
     "output_type": "execute_result"
    }
   ],
   "source": [
    "# TEST\n",
    "# m3_list có bằng m3_array không?\n",
    "np.all(np.array(m3_list) == m3_array)"
   ]
  },
  {
   "cell_type": "markdown",
   "id": "60998ae0",
   "metadata": {},
   "source": [
    "### Tạo Numpy array & xem thông tin của Numpy array "
   ]
  },
  {
   "cell_type": "code",
   "execution_count": 8,
   "id": "53920109",
   "metadata": {},
   "outputs": [
    {
     "data": {
      "text/plain": [
       "array([5., 6., 7., 8.])"
      ]
     },
     "execution_count": 8,
     "metadata": {},
     "output_type": "execute_result"
    }
   ],
   "source": [
    "# Tạo 1D array từ list\n",
    "a = np.array([5, 6, 7, 8], dtype='float')\n",
    "a"
   ]
  },
  {
   "cell_type": "code",
   "execution_count": 9,
   "id": "9c787f02",
   "metadata": {},
   "outputs": [
    {
     "data": {
      "text/plain": [
       "numpy.ndarray"
      ]
     },
     "execution_count": 9,
     "metadata": {},
     "output_type": "execute_result"
    }
   ],
   "source": [
    "type(a)"
   ]
  },
  {
   "cell_type": "code",
   "execution_count": 10,
   "id": "22f08a47",
   "metadata": {},
   "outputs": [
    {
     "data": {
      "text/plain": [
       "array([[5, 6, 7, 8],\n",
       "       [9, 0, 1, 2]])"
      ]
     },
     "execution_count": 10,
     "metadata": {},
     "output_type": "execute_result"
    }
   ],
   "source": [
    "# Tạo 2D array từ list\n",
    "b = np.array([[5, 6, 7, 8], [9, 0, 1, 2]])\n",
    "b"
   ]
  },
  {
   "cell_type": "code",
   "execution_count": 11,
   "id": "d25ead40",
   "metadata": {},
   "outputs": [
    {
     "name": "stdout",
     "output_type": "stream",
     "text": [
      "Số chiều: 2\n",
      "Số lượng phần tử của mỗi chiều: (2, 4)\n",
      "Tổng số lượng phần tử: 8\n",
      "Kiểu dữ liệu của mỗi phần tử: int32\n",
      "Kích thước (byte) của mỗi phần tử: 4\n",
      "Tổng kích thước (byte): 32\n"
     ]
    }
   ],
   "source": [
    "# Xem các thông tin của array\n",
    "print('Số chiều:', b.ndim)\n",
    "print('Số lượng phần tử của mỗi chiều:', b.shape)\n",
    "print('Tổng số lượng phần tử:', b.size)\n",
    "print('Kiểu dữ liệu của mỗi phần tử:', b.dtype)\n",
    "print('Kích thước (byte) của mỗi phần tử:', b.itemsize)\n",
    "print('Tổng kích thước (byte):', b.nbytes)"
   ]
  },
  {
   "cell_type": "code",
   "execution_count": 12,
   "id": "4c22d9a4",
   "metadata": {},
   "outputs": [
    {
     "data": {
      "text/plain": [
       "array([[0, 0, 0],\n",
       "       [0, 0, 0]])"
      ]
     },
     "execution_count": 12,
     "metadata": {},
     "output_type": "execute_result"
    }
   ],
   "source": [
    "# Tạo ra array toàn với cùng một giá trị, chẳng hạn 0\n",
    "a = np.full((2,3),0) # Shortcut: np.zeros((2,3)) (cũng có np.ones)\n",
    "a"
   ]
  },
  {
   "cell_type": "code",
   "execution_count": 13,
   "id": "0f535290",
   "metadata": {},
   "outputs": [
    {
     "data": {
      "text/plain": [
       "array([[2, 3, 0],\n",
       "       [5, 7, 3]])"
      ]
     },
     "execution_count": 13,
     "metadata": {},
     "output_type": "execute_result"
    }
   ],
   "source": [
    "# Tạo ra array gồm các số được phát sinh ngẫu nghiên\n",
    "# Ví dụ, số nguyên được phát sinh theo phân bố đều trong [0, 10)   \n",
    "a = np.random.randint(0, 10, (2, 3))\n",
    "a"
   ]
  },
  {
   "cell_type": "code",
   "execution_count": 14,
   "id": "81d3ef25",
   "metadata": {},
   "outputs": [
    {
     "data": {
      "text/plain": [
       "array([[0., 0., 0.],\n",
       "       [0., 0., 0.]])"
      ]
     },
     "execution_count": 14,
     "metadata": {},
     "output_type": "execute_result"
    }
   ],
   "source": [
    "# Tạo ra array rỗng (không khởi tạo giá trị)\n",
    "a = np.empty((2, 3))\n",
    "a"
   ]
  },
  {
   "cell_type": "code",
   "execution_count": 15,
   "id": "3418b993",
   "metadata": {},
   "outputs": [
    {
     "data": {
      "text/plain": [
       "array([[1., 0., 0.],\n",
       "       [0., 1., 0.],\n",
       "       [0., 0., 1.]])"
      ]
     },
     "execution_count": 15,
     "metadata": {},
     "output_type": "execute_result"
    }
   ],
   "source": [
    "# Tạo ra ma trận đơn vị (identity matrix)\n",
    "a = np.eye(3)\n",
    "a"
   ]
  },
  {
   "cell_type": "code",
   "execution_count": 16,
   "id": "41f1dace",
   "metadata": {},
   "outputs": [
    {
     "data": {
      "text/plain": [
       "array([1. , 1.5, 2. , 2.5, 3. , 3.5, 4. , 4.5, 5. ])"
      ]
     },
     "execution_count": 16,
     "metadata": {},
     "output_type": "execute_result"
    }
   ],
   "source": [
    "# Tạo ra array gồm các số cách đều nhau\n",
    "# Ví dụ, array gồm: 1, 1.5, 2, 2.5, ..., 5\n",
    "# Cách 1: chỉ định đầu, cuối, và bước nhảy\n",
    "a = np.arange(1, 5.1, 0.5)\n",
    "a"
   ]
  },
  {
   "cell_type": "code",
   "execution_count": 17,
   "id": "b1c3b9e6",
   "metadata": {},
   "outputs": [
    {
     "data": {
      "text/plain": [
       "array([1. , 1.5, 2. , 2.5, 3. , 3.5, 4. , 4.5, 5. ])"
      ]
     },
     "execution_count": 17,
     "metadata": {},
     "output_type": "execute_result"
    }
   ],
   "source": [
    "# Tạo ra array gồm các số cách đều nhau\n",
    "# Ví dụ, array gồm: 1, 1.5, 2, 2.5, ..., 5\n",
    "# Cách 2: chỉ định đầu, cuối, và số lượng phần tử\n",
    "a = np.linspace(1, 5, 9)\n",
    "a"
   ]
  },
  {
   "cell_type": "code",
   "execution_count": 18,
   "id": "b86f3ce6",
   "metadata": {},
   "outputs": [
    {
     "name": "stdout",
     "output_type": "stream",
     "text": [
      "[0 1 2 3 4 5]\n",
      "\n",
      "[[0 1 2]\n",
      " [3 4 5]]\n"
     ]
    }
   ],
   "source": [
    "# Tạo ra array từ một array khác bằng cách thay đổi shape\n",
    "a = np.arange(6)\n",
    "print(a)\n",
    "b = a.reshape((2, 3), order='C')\n",
    "print()\n",
    "print(b)"
   ]
  },
  {
   "cell_type": "code",
   "execution_count": 19,
   "id": "9619c5be",
   "metadata": {},
   "outputs": [
    {
     "data": {
      "text/plain": [
       "False"
      ]
     },
     "execution_count": 19,
     "metadata": {},
     "output_type": "execute_result"
    }
   ],
   "source": [
    "# `b` trỏ tới một array object khác với `a`:\n",
    "b is a"
   ]
  },
  {
   "cell_type": "markdown",
   "id": "e9e7b4f9",
   "metadata": {},
   "source": [
    "Nếu object mà `b` trỏ tới hoàn toàn độc lập với object mà `a` trỏ tới thì `b` được gọi là một copy (deep copy) của `a` $\\to$ khi thay đổi dữ liệu ở `b` (ví dụ, cho `b[0, 0] = 99`) thì không làm ảnh hưởng đến dữ liệu ở `a`.\n",
    "\n",
    "Còn nếu object mà `b` trỏ tới dùng chung dữ liệu (một object có khá nhiều thành phần, trong đó có dữ liệu) với object mà `a` trỏ tới thì `b` được gọi là view (shallow copy) của `a` $\\to$ khi thay đổi dữ liệu ở `b` thì sẽ làm thay đổi dữ liệu ở `a`.\n",
    "\n",
    "Ở đây, `b` là có được bằng cách reshape `a`. Vậy `b` là copy hay là view của `a`?\n",
    "\n",
    "Một cách là kiểm tra `b.flags.owndata`. Nếu kết quả là True thì có nghĩa là `b` có dữ liệu độc lập của `b`, tức `b` là copy của `a`; ngược lại `b` là view của `a`."
   ]
  },
  {
   "cell_type": "code",
   "execution_count": 20,
   "id": "6a3f8346",
   "metadata": {},
   "outputs": [
    {
     "name": "stdout",
     "output_type": "stream",
     "text": [
      "True\n",
      "False\n"
     ]
    }
   ],
   "source": [
    "print(a.flags.owndata)\n",
    "print(b.flags.owndata)"
   ]
  },
  {
   "cell_type": "code",
   "execution_count": 21,
   "id": "395bf6d7",
   "metadata": {},
   "outputs": [
    {
     "data": {
      "text/plain": [
       "array([99,  1,  2,  3,  4,  5])"
      ]
     },
     "execution_count": 21,
     "metadata": {},
     "output_type": "execute_result"
    }
   ],
   "source": [
    "b[0, 0] = 99\n",
    "a"
   ]
  },
  {
   "cell_type": "markdown",
   "id": "9d8c9de8",
   "metadata": {},
   "source": [
    "### Truy xuất (và thay đổi) các phần tử trong Numpy array\n",
    "\n",
    "- Integer indexing\n",
    "- Slicing\n",
    "- Bool array indexing\n",
    "- Integer array indexing\n",
    "- Kết hợp 4 loại trên với nhau (khi làm với array nhiều chiều)"
   ]
  },
  {
   "cell_type": "code",
   "execution_count": 22,
   "id": "034e6166",
   "metadata": {},
   "outputs": [
    {
     "data": {
      "text/plain": [
       "array([1, 4])"
      ]
     },
     "execution_count": 22,
     "metadata": {},
     "output_type": "execute_result"
    }
   ],
   "source": [
    "# Integer indexing. Tham khảo: https://docs.scipy.org/doc/numpy-1.10.4/reference/arrays.indexing.html\n",
    "x = np.array([0, 1, 2, 3, 4, 5, 6, 7, 8, 9])\n",
    "x[1:7:3]"
   ]
  },
  {
   "cell_type": "code",
   "execution_count": 23,
   "id": "daa8115f",
   "metadata": {},
   "outputs": [
    {
     "data": {
      "text/plain": [
       "array([7, 6, 5, 4])"
      ]
     },
     "execution_count": 23,
     "metadata": {},
     "output_type": "execute_result"
    }
   ],
   "source": [
    "x[-3:3:-1]"
   ]
  },
  {
   "cell_type": "code",
   "execution_count": 24,
   "id": "55ec51c5",
   "metadata": {},
   "outputs": [
    {
     "data": {
      "text/plain": [
       "array([[1, 2, 3],\n",
       "       [6, 7, 8]])"
      ]
     },
     "execution_count": 24,
     "metadata": {},
     "output_type": "execute_result"
    }
   ],
   "source": [
    "# slicing\n",
    "x = np.array([[1, 2, 3, 4, 5], [6, 7, 8, 9, 10]])\n",
    "x[:5, :3]"
   ]
  },
  {
   "cell_type": "markdown",
   "id": "cf5182cd",
   "metadata": {},
   "source": [
    "### Áp dụng vào dữ liệu mẫu"
   ]
  },
  {
   "cell_type": "markdown",
   "id": "d1fe5521",
   "metadata": {},
   "source": [
    "Tạo array từ file 'P4DS-Grades.csv' chứa điểm môn này ... (không phải điểm mấy bạn đâu yên tâm nhé)\n",
    "- 3 cột đầu ứng với điểm 3 HW (mỗi HW chiếm 50%/3 tổng điểm)\n",
    "- cột cuối ứng điểm đồ án cuối kỳ (chiếm 50% tổng điểm)"
   ]
  },
  {
   "cell_type": "code",
   "execution_count": 25,
   "id": "acf3c762",
   "metadata": {},
   "outputs": [
    {
     "data": {
      "text/plain": [
       "array([[ 0.  ,  0.  ,  0.  ,  0.  ],\n",
       "       [10.  , 10.  , 10.  ,  9.5 ],\n",
       "       [10.  ,  9.25,  9.  ,  7.  ],\n",
       "       [10.  ,  9.5 ,  9.85,  8.  ],\n",
       "       [10.  ,  9.75,  9.75,  9.  ],\n",
       "       [10.  , 10.  , 10.  ,  8.5 ],\n",
       "       [10.  , 10.  ,  9.75,  9.  ],\n",
       "       [10.  ,  9.5 ,  9.7 ,  9.  ],\n",
       "       [10.  ,  9.75,  9.35,  9.  ],\n",
       "       [10.  , 10.  ,  9.6 ,  8.  ],\n",
       "       [ 9.  ,  9.25,  9.9 ,  7.5 ],\n",
       "       [10.  , 10.  , 10.  ,  8.  ],\n",
       "       [10.  ,  8.5 ,  5.75,  7.  ],\n",
       "       [10.  ,  9.5 ,  9.75,  8.  ],\n",
       "       [ 9.25, 10.  , 10.  ,  8.5 ],\n",
       "       [10.  , 10.  , 10.  , 10.  ],\n",
       "       [ 8.5 ,  8.25,  0.  ,  0.  ],\n",
       "       [10.  , 10.  ,  9.9 ,  9.  ],\n",
       "       [10.  ,  9.5 ,  9.45,  9.  ],\n",
       "       [ 9.75, 10.  , 10.  ,  9.  ],\n",
       "       [10.  , 10.  ,  9.  , 10.  ],\n",
       "       [10.  ,  9.75, 10.  , 10.  ],\n",
       "       [ 9.75,  9.5 ,  5.25,  6.5 ],\n",
       "       [ 9.75,  9.75, 10.  ,  9.5 ],\n",
       "       [ 9.5 , 10.  , 10.  ,  7.5 ],\n",
       "       [10.  ,  9.25,  9.9 ,  9.  ],\n",
       "       [10.  , 10.  , 10.  ,  7.5 ],\n",
       "       [ 9.5 , 10.  ,  9.75,  9.5 ],\n",
       "       [ 9.75, 10.  ,  9.4 ,  7.  ],\n",
       "       [ 1.5 ,  5.5 ,  9.  ,  7.5 ],\n",
       "       [10.  ,  8.  , 10.  ,  9.  ],\n",
       "       [10.  ,  9.  , 10.  ,  9.  ],\n",
       "       [ 9.75, 10.  ,  9.6 ,  7.  ],\n",
       "       [10.  , 10.  , 10.  ,  7.  ],\n",
       "       [ 8.75, 10.  ,  8.25,  7.5 ],\n",
       "       [ 0.  ,  9.  ,  9.55,  6.5 ],\n",
       "       [ 9.5 , 10.  ,  9.75,  6.5 ],\n",
       "       [ 9.75,  9.5 ,  9.2 ,  7.  ],\n",
       "       [ 0.  ,  9.75,  0.  ,  8.5 ],\n",
       "       [10.  ,  9.5 ,  9.8 ,  6.5 ],\n",
       "       [10.  , 10.  , 10.  ,  9.  ],\n",
       "       [ 9.5 , 10.  ,  9.  ,  8.5 ],\n",
       "       [10.  , 10.  , 10.  , 10.  ],\n",
       "       [ 0.  ,  8.5 ,  9.6 ,  9.  ],\n",
       "       [ 9.75, 10.  , 10.  ,  8.  ]])"
      ]
     },
     "execution_count": 25,
     "metadata": {},
     "output_type": "execute_result"
    }
   ],
   "source": [
    "p4ds_grades = np.genfromtxt('data/P4DS-Grades.csv', \n",
    "                            delimiter=',', skip_header=1)\n",
    "p4ds_grades"
   ]
  },
  {
   "cell_type": "markdown",
   "id": "3614822d",
   "metadata": {},
   "source": [
    "Thắc mắc: Sinh viên đầu tiên có điểm đồ án cuối kỳ là bao nhiêu?"
   ]
  },
  {
   "cell_type": "code",
   "execution_count": 26,
   "id": "0725cc31",
   "metadata": {},
   "outputs": [
    {
     "data": {
      "text/plain": [
       "0.0"
      ]
     },
     "execution_count": 26,
     "metadata": {},
     "output_type": "execute_result"
    }
   ],
   "source": [
    "# Sử dụng kỹ thuật Integer indexing\n",
    "p4ds_grades[0, -1]"
   ]
  },
  {
   "cell_type": "markdown",
   "id": "68c68799",
   "metadata": {},
   "source": [
    "Thắc mắc: Sinh viên cuối cùng có điểm đồ án cuối kỳ là bao nhiêu?"
   ]
  },
  {
   "cell_type": "code",
   "execution_count": 27,
   "id": "086a1e24",
   "metadata": {},
   "outputs": [
    {
     "data": {
      "text/plain": [
       "8.0"
      ]
     },
     "execution_count": 27,
     "metadata": {},
     "output_type": "execute_result"
    }
   ],
   "source": [
    "# Sử dụng kỹ thuật Integer indexing\n",
    "p4ds_grades[-1, -1]"
   ]
  },
  {
   "cell_type": "markdown",
   "id": "fd7e2166",
   "metadata": {},
   "source": [
    "Giáo viên cần sửa điểm đồ án cho sinh viên đầu tiên thành 0.5 (Không biết vì lý do gì, chắc chấm lộn bạn ý)"
   ]
  },
  {
   "cell_type": "code",
   "execution_count": 28,
   "id": "c5a1538c",
   "metadata": {},
   "outputs": [
    {
     "data": {
      "text/plain": [
       "array([[ 0.  ,  0.  ,  0.  ,  0.5 ],\n",
       "       [10.  , 10.  , 10.  ,  9.5 ],\n",
       "       [10.  ,  9.25,  9.  ,  7.  ],\n",
       "       [10.  ,  9.5 ,  9.85,  8.  ],\n",
       "       [10.  ,  9.75,  9.75,  9.  ],\n",
       "       [10.  , 10.  , 10.  ,  8.5 ],\n",
       "       [10.  , 10.  ,  9.75,  9.  ],\n",
       "       [10.  ,  9.5 ,  9.7 ,  9.  ],\n",
       "       [10.  ,  9.75,  9.35,  9.  ],\n",
       "       [10.  , 10.  ,  9.6 ,  8.  ],\n",
       "       [ 9.  ,  9.25,  9.9 ,  7.5 ],\n",
       "       [10.  , 10.  , 10.  ,  8.  ],\n",
       "       [10.  ,  8.5 ,  5.75,  7.  ],\n",
       "       [10.  ,  9.5 ,  9.75,  8.  ],\n",
       "       [ 9.25, 10.  , 10.  ,  8.5 ],\n",
       "       [10.  , 10.  , 10.  , 10.  ],\n",
       "       [ 8.5 ,  8.25,  0.  ,  0.  ],\n",
       "       [10.  , 10.  ,  9.9 ,  9.  ],\n",
       "       [10.  ,  9.5 ,  9.45,  9.  ],\n",
       "       [ 9.75, 10.  , 10.  ,  9.  ],\n",
       "       [10.  , 10.  ,  9.  , 10.  ],\n",
       "       [10.  ,  9.75, 10.  , 10.  ],\n",
       "       [ 9.75,  9.5 ,  5.25,  6.5 ],\n",
       "       [ 9.75,  9.75, 10.  ,  9.5 ],\n",
       "       [ 9.5 , 10.  , 10.  ,  7.5 ],\n",
       "       [10.  ,  9.25,  9.9 ,  9.  ],\n",
       "       [10.  , 10.  , 10.  ,  7.5 ],\n",
       "       [ 9.5 , 10.  ,  9.75,  9.5 ],\n",
       "       [ 9.75, 10.  ,  9.4 ,  7.  ],\n",
       "       [ 1.5 ,  5.5 ,  9.  ,  7.5 ],\n",
       "       [10.  ,  8.  , 10.  ,  9.  ],\n",
       "       [10.  ,  9.  , 10.  ,  9.  ],\n",
       "       [ 9.75, 10.  ,  9.6 ,  7.  ],\n",
       "       [10.  , 10.  , 10.  ,  7.  ],\n",
       "       [ 8.75, 10.  ,  8.25,  7.5 ],\n",
       "       [ 0.  ,  9.  ,  9.55,  6.5 ],\n",
       "       [ 9.5 , 10.  ,  9.75,  6.5 ],\n",
       "       [ 9.75,  9.5 ,  9.2 ,  7.  ],\n",
       "       [ 0.  ,  9.75,  0.  ,  8.5 ],\n",
       "       [10.  ,  9.5 ,  9.8 ,  6.5 ],\n",
       "       [10.  , 10.  , 10.  ,  9.  ],\n",
       "       [ 9.5 , 10.  ,  9.  ,  8.5 ],\n",
       "       [10.  , 10.  , 10.  , 10.  ],\n",
       "       [ 0.  ,  8.5 ,  9.6 ,  9.  ],\n",
       "       [ 9.75, 10.  , 10.  ,  8.  ]])"
      ]
     },
     "execution_count": 28,
     "metadata": {},
     "output_type": "execute_result"
    }
   ],
   "source": [
    "# Sử dụng kỹ thuật Integer indexing\n",
    "p4ds_grades[0, -1] = 0.5\n",
    "p4ds_grades"
   ]
  },
  {
   "cell_type": "markdown",
   "id": "06f19b18",
   "metadata": {},
   "source": [
    "Thắc mắc: 5 sinh viên đầu có điểm 3 HW là bao nhiêu?"
   ]
  },
  {
   "cell_type": "code",
   "execution_count": 29,
   "id": "e7f4e5e6",
   "metadata": {},
   "outputs": [
    {
     "data": {
      "text/plain": [
       "array([[ 0.  ,  0.  ,  0.  ],\n",
       "       [10.  , 10.  , 10.  ],\n",
       "       [10.  ,  9.25,  9.  ],\n",
       "       [10.  ,  9.5 ,  9.85],\n",
       "       [10.  ,  9.75,  9.75]])"
      ]
     },
     "execution_count": 29,
     "metadata": {},
     "output_type": "execute_result"
    }
   ],
   "source": [
    "# Sử dụng kỹ thuật Slicing\n",
    "p4ds_grades[:5, :3]"
   ]
  },
  {
   "cell_type": "markdown",
   "id": "c4d31291",
   "metadata": {},
   "source": [
    "Giáo viên cần lấy ra cột điểm đồ án cuối kỳ"
   ]
  },
  {
   "cell_type": "code",
   "execution_count": 30,
   "id": "8da742b4",
   "metadata": {},
   "outputs": [
    {
     "data": {
      "text/plain": [
       "array([[ 0.5],\n",
       "       [ 9.5],\n",
       "       [ 7. ],\n",
       "       [ 8. ],\n",
       "       [ 9. ],\n",
       "       [ 8.5],\n",
       "       [ 9. ],\n",
       "       [ 9. ],\n",
       "       [ 9. ],\n",
       "       [ 8. ],\n",
       "       [ 7.5],\n",
       "       [ 8. ],\n",
       "       [ 7. ],\n",
       "       [ 8. ],\n",
       "       [ 8.5],\n",
       "       [10. ],\n",
       "       [ 0. ],\n",
       "       [ 9. ],\n",
       "       [ 9. ],\n",
       "       [ 9. ],\n",
       "       [10. ],\n",
       "       [10. ],\n",
       "       [ 6.5],\n",
       "       [ 9.5],\n",
       "       [ 7.5],\n",
       "       [ 9. ],\n",
       "       [ 7.5],\n",
       "       [ 9.5],\n",
       "       [ 7. ],\n",
       "       [ 7.5],\n",
       "       [ 9. ],\n",
       "       [ 9. ],\n",
       "       [ 7. ],\n",
       "       [ 7. ],\n",
       "       [ 7.5],\n",
       "       [ 6.5],\n",
       "       [ 6.5],\n",
       "       [ 7. ],\n",
       "       [ 8.5],\n",
       "       [ 6.5],\n",
       "       [ 9. ],\n",
       "       [ 8.5],\n",
       "       [10. ],\n",
       "       [ 9. ],\n",
       "       [ 8. ]])"
      ]
     },
     "execution_count": 30,
     "metadata": {},
     "output_type": "execute_result"
    }
   ],
   "source": [
    "# Sử dụng kỹ thuật Slicing\n",
    "p4ds_grades[:, -1:]"
   ]
  },
  {
   "cell_type": "markdown",
   "id": "50350717",
   "metadata": {},
   "source": [
    "Kết hợp giữa slicing và integer indexing"
   ]
  },
  {
   "cell_type": "code",
   "execution_count": 31,
   "id": "eb9a4c89",
   "metadata": {},
   "outputs": [
    {
     "data": {
      "text/plain": [
       "array([ 0.5,  9.5,  7. ,  8. ,  9. ,  8.5,  9. ,  9. ,  9. ,  8. ,  7.5,\n",
       "        8. ,  7. ,  8. ,  8.5, 10. ,  0. ,  9. ,  9. ,  9. , 10. , 10. ,\n",
       "        6.5,  9.5,  7.5,  9. ,  7.5,  9.5,  7. ,  7.5,  9. ,  9. ,  7. ,\n",
       "        7. ,  7.5,  6.5,  6.5,  7. ,  8.5,  6.5,  9. ,  8.5, 10. ,  9. ,\n",
       "        8. ])"
      ]
     },
     "execution_count": 31,
     "metadata": {},
     "output_type": "execute_result"
    }
   ],
   "source": [
    "# Bằng cách dùng slicing và kết hợp kết hợp slicing với integer indexing, lấy ra cột điểm đồ án cuối kỳ \n",
    "p4ds_grades[:, -1] # Array kết quả bị giảm chiều"
   ]
  },
  {
   "cell_type": "code",
   "execution_count": 32,
   "id": "1a1df943",
   "metadata": {},
   "outputs": [
    {
     "data": {
      "text/plain": [
       "array([ 9.75, 10.  , 10.  ,  8.  ])"
      ]
     },
     "execution_count": 32,
     "metadata": {},
     "output_type": "execute_result"
    }
   ],
   "source": [
    "# Sinh viên cuối cùng có các điểm là bao nhiêu? (lấy ra mảng một chiều bằng cách slicing)\n",
    "p4ds_grades[-1, :] # Hoặc: p4ds_grades[-1]"
   ]
  },
  {
   "cell_type": "markdown",
   "id": "048d2dad",
   "metadata": {},
   "source": [
    "Ngoài ra có thể dùng boolean indexing"
   ]
  },
  {
   "cell_type": "code",
   "execution_count": 33,
   "id": "a43329ed",
   "metadata": {},
   "outputs": [
    {
     "data": {
      "text/plain": [
       "array([0.5, 0. ])"
      ]
     },
     "execution_count": 33,
     "metadata": {},
     "output_type": "execute_result"
    }
   ],
   "source": [
    "# Ví dụ cần lấy ra các điểm đồ án cuối kỳ < 5\n",
    "final_grades = p4ds_grades[:, -1]\n",
    "mask = final_grades < 5\n",
    "final_grades[mask]\n",
    "# final_grades[final_grades < 5]"
   ]
  },
  {
   "cell_type": "markdown",
   "id": "bd58ccc5",
   "metadata": {},
   "source": [
    "Tính toán với NumPy tương đối đơn giản.\n",
    "\n",
    "Để mà có thể sử dụng Numpy hiệu quả thì chúng ta cần thay đổi cách tư duy: cần suy nghĩ về <font color=blue>các thao tác tính toán trên nguyên mảng</font> mà Numpy đã cung cấp, chứ không phải là các thao tác tính toán trên từng con số"
   ]
  },
  {
   "cell_type": "markdown",
   "id": "779bd29f",
   "metadata": {},
   "source": [
    "Hầu hết mọi thao tác tính toán trên mảng mà ta có thể nghĩ tới thì đều đã được Numpy cung cấp. Thế nên, với một tính toán nào đó trên Numpy array, ngoài dạng hàm (hoặc toán tử) thì thường ta cũng có thể gọi phương thức tương đương từ Numpy array \n",
    "$\\to$ Giúp đáp ứng các \"khẩu vị code\" khác nhau của người dùng"
   ]
  },
  {
   "cell_type": "code",
   "execution_count": 34,
   "id": "9c39e6cb",
   "metadata": {},
   "outputs": [
    {
     "name": "stdout",
     "output_type": "stream",
     "text": [
      "[0. 0. 0. 0.]\n",
      "[10. 10. 10. 10.]\n"
     ]
    }
   ],
   "source": [
    "# Tính min, max của mỗi cột điểm\n",
    "# để xem có gì bất thường không\n",
    "print(np.min(p4ds_grades, axis=0))\n",
    "print(np.max(p4ds_grades, axis=0))"
   ]
  },
  {
   "cell_type": "code",
   "execution_count": 35,
   "id": "646ccb64",
   "metadata": {},
   "outputs": [
    {
     "data": {
      "text/plain": [
       "array([ 0.2,  9.8,  8.2,  8.9,  9.4,  9.2,  9.5,  9.4,  9.4,  8.9,  8.4,\n",
       "        9. ,  7.5,  8.9,  9.1, 10. ,  2.8,  9.5,  9.3,  9.5,  9.8, 10. ,\n",
       "        7.3,  9.7,  8.7,  9.4,  8.8,  9.6,  8.4,  6.4,  9.2,  9.3,  8.4,\n",
       "        8.5,  8.2,  6.3,  8.1,  8.2,  5.9,  8.1,  9.5,  9. , 10. ,  7.5,\n",
       "        9. ])"
      ]
     },
     "execution_count": 35,
     "metadata": {},
     "output_type": "execute_result"
    }
   ],
   "source": [
    "# Tính cột điểm tổng kết\n",
    "avg_grades = (p4ds_grades[:, 0] * 0.5 / 3\n",
    "              + p4ds_grades[:, 1] * 0.5 / 3\n",
    "              + p4ds_grades[:, 2] * 0.5 / 3\n",
    "              + p4ds_grades[:, 3] * 0.5)\n",
    "avg_grades.round(1)"
   ]
  },
  {
   "cell_type": "code",
   "execution_count": 36,
   "id": "a6fc6cd2",
   "metadata": {},
   "outputs": [
    {
     "data": {
      "text/plain": [
       "0.044444444444444446"
      ]
     },
     "execution_count": 36,
     "metadata": {},
     "output_type": "execute_result"
    }
   ],
   "source": [
    "# Tỉ lệ sinh viên rớt môn là bao nhiêu?\n",
    "a = avg_grades < 5\n",
    "# a.sum() / len(a)\n",
    "a.mean()"
   ]
  },
  {
   "cell_type": "code",
   "execution_count": 37,
   "id": "dc9dcc38",
   "metadata": {},
   "outputs": [
    {
     "name": "stdout",
     "output_type": "stream",
     "text": [
      "8.449259259259259\n",
      "1.7869587777913003\n"
     ]
    }
   ],
   "source": [
    "# Tính mean & standard deviation của cột điểm tổng kết\n",
    "print(avg_grades.mean())\n",
    "print(avg_grades.std())"
   ]
  },
  {
   "cell_type": "code",
   "execution_count": 38,
   "id": "3d140637",
   "metadata": {},
   "outputs": [
    {
     "name": "stdout",
     "output_type": "stream",
     "text": [
      "0.25\n",
      "8.241666666666667\n",
      "8.958333333333334\n",
      "9.416666666666668\n",
      "10.0\n"
     ]
    }
   ],
   "source": [
    "# Tính min, lower quartile, median, upper quartile, max \n",
    "# của cột điểm tổng kết\n",
    "print(np.percentile(avg_grades, 0))\n",
    "print(np.percentile(avg_grades, 25))\n",
    "print(np.percentile(avg_grades, 50))\n",
    "print(np.percentile(avg_grades, 75))\n",
    "print(np.percentile(avg_grades, 100))"
   ]
  },
  {
   "cell_type": "code",
   "execution_count": 39,
   "id": "82a62ff9",
   "metadata": {},
   "outputs": [
    {
     "name": "stdout",
     "output_type": "stream",
     "text": [
      "1 1.0\n",
      "1 1.8\n",
      "2 2.6\n",
      "3 3.4\n",
      "4 4.2\n",
      "5 5.0\n",
      "6 5.8\n",
      "7 6.6\n",
      "8 7.4\n",
      "9 8.2\n",
      "9 9.0\n"
     ]
    }
   ],
   "source": [
    "import math # Cần thư viện math rồi!\n",
    "\n",
    "# So sánh hàm tính percentile của Numpy với hàm tự viết trước đây\n",
    "def compute_percentile(data, p):\n",
    "    sorted_data = sorted(data)\n",
    "    i = max(math.ceil(p / 100 * len(sorted_data)) - 1, 0)\n",
    "#   i = math.ceil(p/100 * (len(sorted_data) - 1)) # Cách làm của Numpy\n",
    "    return sorted_data[i]\n",
    "\n",
    "data = np.arange(1, 10)\n",
    "for p in range(0, 101, 10):\n",
    "    print(compute_percentile(data, p), end=' ')\n",
    "    print(np.percentile(data, p))"
   ]
  },
  {
   "cell_type": "code",
   "execution_count": 40,
   "id": "74675f72",
   "metadata": {},
   "outputs": [
    {
     "data": {
      "image/png": "[encoded data removed]",
      "text/plain": [
       "<Figure size 432x288 with 1 Axes>"
      ]
     },
     "metadata": {
      "needs_background": "light"
     },
     "output_type": "display_data"
    },
    {
     "data": {
      "image/png": "[encoded data removed]",
      "text/plain": [
       "<Figure size 432x288 with 1 Axes>"
      ]
     },
     "metadata": {
      "needs_background": "light"
     },
     "output_type": "display_data"
    }
   ],
   "source": [
    "# Mình sẽ dùng một xíu sức mạnh của anh bạn Matplotlib ở đây\n",
    "import matplotlib.pyplot as plt\n",
    "\n",
    "# Tính histogram của cột điểm tổng kết, rồi vẽ\n",
    "counts, bins = np.histogram(avg_grades, bins=range(11))\n",
    "plt.hist(bins[:-1], bins, edgecolor='black', weights=counts)\n",
    "\n",
    "# Tính histogram và vẽ luôn một lần bằng câu lệnh plt.hist\n",
    "plt.figure()\n",
    "plt.hist(avg_grades, bins=range(11), edgecolor='black');"
   ]
  },
  {
   "cell_type": "code",
   "execution_count": 41,
   "id": "edb54466",
   "metadata": {},
   "outputs": [
    {
     "data": {
      "text/plain": [
       "array([[ 0.        ,  0.        ,  0.        ,  0.5       ,  0.25      ],\n",
       "       [10.        , 10.        , 10.        ,  9.5       ,  9.75      ],\n",
       "       [10.        ,  9.25      ,  9.        ,  7.        ,  8.20833333],\n",
       "       [10.        ,  9.5       ,  9.85      ,  8.        ,  8.89166667],\n",
       "       [10.        ,  9.75      ,  9.75      ,  9.        ,  9.41666667],\n",
       "       [10.        , 10.        , 10.        ,  8.5       ,  9.25      ],\n",
       "       [10.        , 10.        ,  9.75      ,  9.        ,  9.45833333],\n",
       "       [10.        ,  9.5       ,  9.7       ,  9.        ,  9.36666667],\n",
       "       [10.        ,  9.75      ,  9.35      ,  9.        ,  9.35      ],\n",
       "       [10.        , 10.        ,  9.6       ,  8.        ,  8.93333333],\n",
       "       [ 9.        ,  9.25      ,  9.9       ,  7.5       ,  8.44166667],\n",
       "       [10.        , 10.        , 10.        ,  8.        ,  9.        ],\n",
       "       [10.        ,  8.5       ,  5.75      ,  7.        ,  7.54166667],\n",
       "       [10.        ,  9.5       ,  9.75      ,  8.        ,  8.875     ],\n",
       "       [ 9.25      , 10.        , 10.        ,  8.5       ,  9.125     ],\n",
       "       [10.        , 10.        , 10.        , 10.        , 10.        ],\n",
       "       [ 8.5       ,  8.25      ,  0.        ,  0.        ,  2.79166667],\n",
       "       [10.        , 10.        ,  9.9       ,  9.        ,  9.48333333],\n",
       "       [10.        ,  9.5       ,  9.45      ,  9.        ,  9.325     ],\n",
       "       [ 9.75      , 10.        , 10.        ,  9.        ,  9.45833333],\n",
       "       [10.        , 10.        ,  9.        , 10.        ,  9.83333333],\n",
       "       [10.        ,  9.75      , 10.        , 10.        ,  9.95833333],\n",
       "       [ 9.75      ,  9.5       ,  5.25      ,  6.5       ,  7.33333333],\n",
       "       [ 9.75      ,  9.75      , 10.        ,  9.5       ,  9.66666667],\n",
       "       [ 9.5       , 10.        , 10.        ,  7.5       ,  8.66666667],\n",
       "       [10.        ,  9.25      ,  9.9       ,  9.        ,  9.35833333],\n",
       "       [10.        , 10.        , 10.        ,  7.5       ,  8.75      ],\n",
       "       [ 9.5       , 10.        ,  9.75      ,  9.5       ,  9.625     ],\n",
       "       [ 9.75      , 10.        ,  9.4       ,  7.        ,  8.35833333],\n",
       "       [ 1.5       ,  5.5       ,  9.        ,  7.5       ,  6.41666667],\n",
       "       [10.        ,  8.        , 10.        ,  9.        ,  9.16666667],\n",
       "       [10.        ,  9.        , 10.        ,  9.        ,  9.33333333],\n",
       "       [ 9.75      , 10.        ,  9.6       ,  7.        ,  8.39166667],\n",
       "       [10.        , 10.        , 10.        ,  7.        ,  8.5       ],\n",
       "       [ 8.75      , 10.        ,  8.25      ,  7.5       ,  8.25      ],\n",
       "       [ 0.        ,  9.        ,  9.55      ,  6.5       ,  6.34166667],\n",
       "       [ 9.5       , 10.        ,  9.75      ,  6.5       ,  8.125     ],\n",
       "       [ 9.75      ,  9.5       ,  9.2       ,  7.        ,  8.24166667],\n",
       "       [ 0.        ,  9.75      ,  0.        ,  8.5       ,  5.875     ],\n",
       "       [10.        ,  9.5       ,  9.8       ,  6.5       ,  8.13333333],\n",
       "       [10.        , 10.        , 10.        ,  9.        ,  9.5       ],\n",
       "       [ 9.5       , 10.        ,  9.        ,  8.5       ,  9.        ],\n",
       "       [10.        , 10.        , 10.        , 10.        , 10.        ],\n",
       "       [ 0.        ,  8.5       ,  9.6       ,  9.        ,  7.51666667],\n",
       "       [ 9.75      , 10.        , 10.        ,  8.        ,  8.95833333]])"
      ]
     },
     "execution_count": 41,
     "metadata": {},
     "output_type": "execute_result"
    }
   ],
   "source": [
    "# Thêm cột điểm tổng kết vào array gồm 4 cột điểm thành phần\n",
    "np.concatenate((p4ds_grades, avg_grades.reshape(-1, 1)), axis=1)"
   ]
  },
  {
   "cell_type": "markdown",
   "id": "554e300a",
   "metadata": {},
   "source": [
    "Ok, quay lại làm bài tập nào : D"
   ]
  },
  {
   "cell_type": "markdown",
   "id": "6098d27a",
   "metadata": {},
   "source": [
    "## Thu thập dữ liệu"
   ]
  },
  {
   "cell_type": "markdown",
   "id": "744ae3ae",
   "metadata": {},
   "source": [
    "Trong bài này, ta chỉ đơn giản là dùng bộ dữ liệu đã được thu thập sẵn. Bạn download [ở đây](https://files.grouplens.org/datasets/movielens/ml-100k/u.data); bạn để tên file là \"u.data\", không có đuôi txt hay đuôi gì cả. Bộ dữ liệu này thật ra có nhiều hơn một file, nhưng trong bài này ta chỉ dùng một file là \"u.data\".\n",
    "\n",
    "Theo [file mô tả dữ liệu](https://files.grouplens.org/datasets/movielens/ml-100k-README.txt):\n",
    "> MovieLens data sets were collected by the GroupLens Research Project\n",
    "at the University of Minnesota.\n",
    "> \n",
    "> This data set consists of:\n",
    "> * 100,000 ratings (1-5) from 943 users on 1682 movies. \n",
    "> * Each user has rated at least 20 movies.  \n",
    "> * Simple demographic info for the users (age, gender, occupation, zip)\n",
    ">\n",
    "> The data was collected through the MovieLens web site\n",
    "(movielens.umn.edu) during the seven-month period from September 19th, \n",
    "1997 through April 22nd, 1998. This data has been cleaned up - users\n",
    "who had less than 20 ratings or did not have complete demographic\n",
    "information were removed from this data set. Detailed descriptions of\n",
    "the data file can be found at the end of this file.\n",
    "\n",
    "Trên là mô tả chung cho tất cả các file trong bộ dữ liệu. Còn đây là mô tả cụ thể cho file \"u.data\":\n",
    "> The full u data set, 100000 ratings by 943 users on 1682 items. Each user has rated at least 20 movies. Users and items are numbered consecutively from 1. The data is randomly ordered. This is a tab separated list of user id | item id | rating | timestamp. The time stamps are unix seconds since 1/1/1970 UTC "
   ]
  },
  {
   "cell_type": "markdown",
   "id": "43a99fa4",
   "metadata": {},
   "source": [
    "---"
   ]
  },
  {
   "cell_type": "markdown",
   "id": "804be566",
   "metadata": {},
   "source": [
    "## Khám phá dữ liệu"
   ]
  },
  {
   "cell_type": "markdown",
   "id": "d4673a3c",
   "metadata": {},
   "source": [
    "### Dữ liệu có bao nhiêu dòng và bao nhiêu cột? <font color=green>(0.5đ)</font>"
   ]
  },
  {
   "cell_type": "markdown",
   "id": "41593a06",
   "metadata": {},
   "source": [
    "Việc đầu tiên của bạn là đọc file \"u.data\" vào Numpy array tên là `raw_ratings` (dùng hàm `np.genfromtxt`). Bạn để `dtype` là `np.uint64`. Bạn cũng cần để file \"u.data\" cùng thư mục với file notebook này và khi gọi hàm `np.genfromtxt` thì chỉ truyền vào tên file là \"u.data\".\n",
    "\n",
    "Kế tiếp, bạn tính số dòng và số cột, rồi lần lượt lưu vào hai biến là `n_rows` và `n_cols`."
   ]
  },
  {
   "cell_type": "code",
   "execution_count": 42,
   "id": "9013cf72",
   "metadata": {
    "deletable": false,
    "nbgrader": {
     "cell_type": "code",
     "checksum": "969205f46fed7422d8972495c4c36348",
     "grade": false,
     "grade_id": "cell-1bf7d4be2f1eb278",
     "locked": false,
     "schema_version": 3,
     "solution": true,
     "task": false
    }
   },
   "outputs": [],
   "source": [
    "# YOUR CODE HERE\n",
    "raw_ratings=np.genfromtxt(\"u.data\", dtype=np.uint64)\n",
    "n_rows=raw_ratings.shape[0]\n",
    "n_cols=raw_ratings.shape[1]"
   ]
  },
  {
   "cell_type": "code",
   "execution_count": 43,
   "id": "2871f983",
   "metadata": {
    "deletable": false,
    "editable": false,
    "nbgrader": {
     "cell_type": "code",
     "checksum": "71ee63014fe20f7ca0d15826e9578442",
     "grade": true,
     "grade_id": "cell-fd69b593a2722fbc",
     "locked": true,
     "points": 0.5,
     "schema_version": 3,
     "solution": false,
     "task": false
    }
   },
   "outputs": [
    {
     "data": {
      "text/plain": [
       "array([[      196,       242,         3, 881250949],\n",
       "       [      186,       302,         3, 891717742],\n",
       "       [       22,       377,         1, 878887116],\n",
       "       [      244,        51,         2, 880606923],\n",
       "       [      166,       346,         1, 886397596]], dtype=uint64)"
      ]
     },
     "execution_count": 43,
     "metadata": {},
     "output_type": "execute_result"
    }
   ],
   "source": [
    "# TEST\n",
    "assert raw_ratings.dtype == np.uint64\n",
    "assert raw_ratings.ndim == 2\n",
    "assert n_rows == 100000\n",
    "assert n_cols == 4\n",
    "raw_ratings[:5] # Xem 5 dòng đầu tiên"
   ]
  },
  {
   "cell_type": "markdown",
   "id": "3d440322",
   "metadata": {},
   "source": [
    "### Mỗi dòng có ý nghĩa gì? Có vấn đề các dòng có ý nghĩa khác nhau không?"
   ]
  },
  {
   "cell_type": "markdown",
   "id": "60ec1df2",
   "metadata": {},
   "source": [
    "Theo file mô tả dữ liệu và theo quan sát sơ bộ về dữ liệu thì một dòng cho biết thông tin cho điểm của một người dùng đối với một phim. Có vẻ không có dòng nào bị \"lạc loài\"."
   ]
  },
  {
   "cell_type": "markdown",
   "id": "dfd3b9ac",
   "metadata": {},
   "source": [
    "### Dữ liệu có các dòng bị lặp không? <font color=green>(0.5đ)</font>"
   ]
  },
  {
   "cell_type": "markdown",
   "id": "668a8254",
   "metadata": {},
   "source": [
    "Bạn sẽ kiểm tra vụ này và lưu kết quả vào biến `have_duplicated_rows`. Biến này sẽ có giá trị True nếu dữ liệu có các dòng bị lặp và có giá trị False nếu ngược."
   ]
  },
  {
   "cell_type": "code",
   "execution_count": 44,
   "id": "138597cc",
   "metadata": {
    "deletable": false,
    "nbgrader": {
     "cell_type": "code",
     "checksum": "fadc1b859d04ad7d4bd45451142794bf",
     "grade": false,
     "grade_id": "cell-c184a3a04425a1c1",
     "locked": false,
     "schema_version": 3,
     "solution": true,
     "task": false
    }
   },
   "outputs": [],
   "source": [
    "# YOUR CODE HERE\n",
    "count=np.unique(raw_ratings, axis=0)\n",
    "have_duplicated_rows=False\n",
    "if(count.shape!=raw_ratings.shape):\n",
    "    have_duplicated_rows=True"
   ]
  },
  {
   "cell_type": "code",
   "execution_count": 45,
   "id": "372202fc",
   "metadata": {
    "deletable": false,
    "editable": false,
    "nbgrader": {
     "cell_type": "code",
     "checksum": "17161cf45b9f0757fd42c2040a5b025b",
     "grade": true,
     "grade_id": "cell-7f2d2f011cc33f7d",
     "locked": true,
     "points": 0.5,
     "schema_version": 3,
     "solution": false,
     "task": false
    }
   },
   "outputs": [],
   "source": [
    "# TEST\n",
    "assert have_duplicated_rows == False"
   ]
  },
  {
   "cell_type": "markdown",
   "id": "f019928b",
   "metadata": {},
   "source": [
    "### Mỗi cột có ý nghĩa gì?"
   ]
  },
  {
   "cell_type": "markdown",
   "id": "e0466dc8",
   "metadata": {},
   "source": [
    "Theo file mô tả dữ liệu thì:\n",
    "- Cột thứ nhất cho biết id của người dùng\n",
    "- Cột thứ hai cho biết id của phim\n",
    "- Cột thứ ba cho biết điểm mà người dùng đã cho đối với phim\n",
    "- Cột thứ tư cho biết thời điểm mà người dùng cho điểm (được thể hiện bằng số giây tính từ một cột mốc chuẩn)"
   ]
  },
  {
   "cell_type": "markdown",
   "id": "8f0a41a1",
   "metadata": {},
   "source": [
    "### Mỗi cột hiện đang có kiểu dữ liệu gì? Có cột nào có kiểu dữ liệu chưa phù hợp để có thể xử lý tiếp không?"
   ]
  },
  {
   "cell_type": "markdown",
   "id": "c7a7de37",
   "metadata": {},
   "source": [
    "Hiện tại thì tất cả các cột đều có kiểu dữ liệu là số:"
   ]
  },
  {
   "cell_type": "code",
   "execution_count": 46,
   "id": "96f0a76d",
   "metadata": {},
   "outputs": [
    {
     "data": {
      "text/plain": [
       "dtype('uint64')"
      ]
     },
     "execution_count": 46,
     "metadata": {},
     "output_type": "execute_result"
    }
   ],
   "source": [
    "raw_ratings.dtype"
   ]
  },
  {
   "cell_type": "markdown",
   "id": "b66a48a4",
   "metadata": {},
   "source": [
    "Tất cả các cột đều có kiểu dữ liệu phù hợp. \n",
    "\n",
    "Bạn đang nghĩ cột thời điểm cho điểm có kiểu dữ liệu phù hợp hay chưa? Cột này đang thể hiện cho thời gian dưới dạng số (số giây tính từ một cột mốc chuẩn). Ta vẫn có thể tính min, max, ... bình thường với cột này; và khi cần thì ta có thể chuyển min, max, ... sang dạng ngày tháng năm để dễ nhìn. Tất nhiên, ngay lúc này, ta có thể chuyển cột này sang dạng ngày tháng năm luôn; rồi khi tính min, max, ... thì kết quả sẽ ở sẵn dạng ngày tháng năm. Tuy nhiên, ở đây, mình không chọn cách làm này vì ràng buộc của Numpy array là các cột phải có cùng kiểu dữ liệu; nếu làm theo cách này thì dữ liệu của sẽ bị phân làm 2 array: một ứng với cột thời điểm cho điểm, một ứng với các cột còn lại (như vậy thì sẽ hơi bất tiện)."
   ]
  },
  {
   "cell_type": "markdown",
   "id": "d651709d",
   "metadata": {},
   "source": [
    "### Với mỗi cột có kiểu dữ liệu dạng số (numeric) và dạng datetime, các giá trị được phân bố như thế nào? <font color=green>(1đ)</font>"
   ]
  },
  {
   "cell_type": "markdown",
   "id": "8e765ae8",
   "metadata": {},
   "source": [
    "Nhìn qua thì có vẻ tất cả các cột đều có dạng numeric. Nhưng mình nghĩ nên phân cột \"user id\" và \"movie id\" (2 cột đầu) vào nhóm categorical. Theo cách làm này thì sẽ có 2 cột dạng numeric: cột điểm (cột chỉ số 2) và cột thời điểm cho điểm (cột chỉ số 3).\n",
    "\n",
    "2 cột numeric này có bao nhiêu giá trị thiếu?"
   ]
  },
  {
   "cell_type": "code",
   "execution_count": 47,
   "id": "a5f7a13c",
   "metadata": {},
   "outputs": [
    {
     "data": {
      "text/plain": [
       "array([0, 0])"
      ]
     },
     "execution_count": 47,
     "metadata": {},
     "output_type": "execute_result"
    }
   ],
   "source": [
    "np.sum(np.isnan(raw_ratings[:, 2:]), axis=0)"
   ]
  },
  {
   "cell_type": "markdown",
   "id": "3f29f8b8",
   "metadata": {},
   "source": [
    "Việc của bạn là tính min, median, max của 2 cột numeric này (dùng hàm `np.percentile`, để tham số `interpolation` mặc định là `linear`); rồi lần lượt lưu vào 2 biến là `rate_col_profile` và `rate_date_col_profile`. Đây là 2 Numpy array (một chiều), trong đó `rate_col_profile` có `dtype` là số thực, còn `rate_date_col_profile` có `dtype` là `'datetime64[s]'`.\n",
    "\n",
    "Gợi ý: khi ép kiểu một array thì bạn có thể truyền vào kiểu cần ép dưới dạng một string (ở ngay trên cũng có một string kìa ;-) )."
   ]
  },
  {
   "cell_type": "code",
   "execution_count": 48,
   "id": "806a51aa",
   "metadata": {
    "deletable": false,
    "nbgrader": {
     "cell_type": "code",
     "checksum": "1ac19dfa727037d4ac37c1066a002523",
     "grade": false,
     "grade_id": "cell-15364ea0e0e9c792",
     "locked": false,
     "schema_version": 3,
     "solution": true,
     "task": false
    }
   },
   "outputs": [
    {
     "name": "stderr",
     "output_type": "stream",
     "text": [
      "C:\\Users\\FPT SHOP\\AppData\\Local\\Temp\\ipykernel_13204\\3818511658.py:2: DeprecationWarning: the `interpolation=` argument to percentile was renamed to `method=`, which has additional options.\n",
      "Users of the modes 'nearest', 'lower', 'higher', or 'midpoint' are encouraged to review the method they used. (Deprecated NumPy 1.22)\n",
      "  min_value=np.percentile(raw_ratings, 0, axis=0, interpolation='linear')[2:4]\n",
      "C:\\Users\\FPT SHOP\\AppData\\Local\\Temp\\ipykernel_13204\\3818511658.py:3: DeprecationWarning: the `interpolation=` argument to percentile was renamed to `method=`, which has additional options.\n",
      "Users of the modes 'nearest', 'lower', 'higher', or 'midpoint' are encouraged to review the method they used. (Deprecated NumPy 1.22)\n",
      "  median_value=np.percentile(raw_ratings, 50, axis=0, interpolation='linear')[2:4]\n",
      "C:\\Users\\FPT SHOP\\AppData\\Local\\Temp\\ipykernel_13204\\3818511658.py:4: DeprecationWarning: the `interpolation=` argument to percentile was renamed to `method=`, which has additional options.\n",
      "Users of the modes 'nearest', 'lower', 'higher', or 'midpoint' are encouraged to review the method they used. (Deprecated NumPy 1.22)\n",
      "  max_value=np.percentile(raw_ratings, 100, axis=0, interpolation='linear')[2:4]\n"
     ]
    }
   ],
   "source": [
    "# YOUR CODE HERE\n",
    "min_value=np.percentile(raw_ratings, 0, axis=0, interpolation='linear')[2:4]\n",
    "median_value=np.percentile(raw_ratings, 50, axis=0, interpolation='linear')[2:4]\n",
    "max_value=np.percentile(raw_ratings, 100, axis=0, interpolation='linear')[2:4]\n",
    "\n",
    "rate_col_profile=np.array([min_value[0], median_value[0], max_value[0]], dtype=float)\n",
    "rate_date_col_profile=np.array([min_value[1], median_value[1], max_value[1]], dtype='datetime64[s]')"
   ]
  },
  {
   "cell_type": "code",
   "execution_count": 49,
   "id": "225c0b82",
   "metadata": {
    "deletable": false,
    "editable": false,
    "nbgrader": {
     "cell_type": "code",
     "checksum": "78d180caf83dcc88a508b4a90424e189",
     "grade": true,
     "grade_id": "cell-3f3b0054dd6eadb9",
     "locked": true,
     "points": 1,
     "schema_version": 3,
     "solution": false,
     "task": false
    }
   },
   "outputs": [],
   "source": [
    "# TEST\n",
    "assert np.array_equal(rate_col_profile, np.array([1., 4., 5.]))\n",
    "assert np.array_equal(rate_date_col_profile, \n",
    "                      np.array(['1997-09-20T03:05:10', \n",
    "                                '1997-12-22T21:42:24',\n",
    "                                '1998-04-22T23:10:38'], \n",
    "                               dtype='datetime64[s]'))"
   ]
  },
  {
   "cell_type": "markdown",
   "id": "6aeedcf8",
   "metadata": {},
   "source": [
    "Min và max của 2 cột này không có gì bất thường, khớp với file mô tả dữ liệu."
   ]
  },
  {
   "cell_type": "markdown",
   "id": "49a7a821",
   "metadata": {},
   "source": [
    "### Với mỗi cột có kiểu dữ liệu dạng phân loại (categorical), các giá trị được phân bố như thế nào? <font color=green>(1đ)</font>"
   ]
  },
  {
   "cell_type": "markdown",
   "id": "fbd939f3",
   "metadata": {},
   "source": [
    "Như đã nói, 2 cột categorical là 2 cột đầu.\n",
    "\n",
    "2 cột này có bao nhiêu giá trị thiếu:"
   ]
  },
  {
   "cell_type": "code",
   "execution_count": 50,
   "id": "03e22e68",
   "metadata": {},
   "outputs": [
    {
     "data": {
      "text/plain": [
       "array([0, 0])"
      ]
     },
     "execution_count": 50,
     "metadata": {},
     "output_type": "execute_result"
    }
   ],
   "source": [
    "np.sum(np.isnan(raw_ratings[:, :2]), axis=0)"
   ]
  },
  {
   "cell_type": "markdown",
   "id": "3935345c",
   "metadata": {},
   "source": [
    "Việc của bạn là, với mỗi cột, tính ra list gồm 5 con số: số lượng giá trị khác nhau, giá trị xuất hiện ít nhất cùng số lượng xuất hiện (tổng cộng 2 con số), giá trị xuất hiện nhiều nhất cùng số lượng xuất hiện (tổng cộng 2 con số). Bạn lưu 2 list tính được ứng với 2 cột vào 2 biến lần lượt là `user_col_profile` và `movie_col_profile`.\n",
    "\n",
    "Ta thống nhất: nếu có nhiều giá trị cùng xuất hiện ít nhất thì lấy giá trị nhỏ nhất, nếu có nhiều giá trị cùng xuất hiện nhiều nhất thì lấy giá trị lớn nhất (gợi ý này có thể giúp ích cho bạn: trong các hàm sort của Numpy, nếu bạn cho giá trị của tham số `kind` là `stable` thì Numpy sẽ sort array với đảm bảo các giá trị giống nhau trong array ban đầu sẽ được giữ nguyên thứ tự tương đối với nhau trong array kết quả). "
   ]
  },
  {
   "cell_type": "code",
   "execution_count": 51,
   "id": "cb24a3b2",
   "metadata": {
    "deletable": false,
    "nbgrader": {
     "cell_type": "code",
     "checksum": "0b2f1821e4825d46cbba96dc7b80c5b6",
     "grade": false,
     "grade_id": "cell-09819763bd956c3a",
     "locked": false,
     "schema_version": 3,
     "solution": true,
     "task": false
    }
   },
   "outputs": [
    {
     "name": "stdout",
     "output_type": "stream",
     "text": [
      "[943, 19, 20, 405, 737]\n",
      "[1682, 599, 1, 50, 583]\n"
     ]
    }
   ],
   "source": [
    "## user\n",
    "# số lượng user\n",
    "num_user=np.unique(raw_ratings[:,0])[-1]\n",
    "#Đây là user rate ít movie nhất\n",
    "temp=np.unique(raw_ratings[:,0], return_counts=True)\n",
    "id_user_less_rate_movie=temp[0][np.argmin(temp[1], axis=0)]\n",
    "\n",
    "#Và đó là chừng này movie\n",
    "count_num_movie_1=np.count_nonzero(raw_ratings[:,0]==id_user_less_rate_movie)\n",
    "\n",
    "#Đây là user rate nhiều movie nhất\n",
    "id_user_most_rate_movie=temp[0][np.argmax(temp[1], axis=0)]\n",
    "\n",
    "#Và đó là chừng này movie\n",
    "count_num_movie_2=np.count_nonzero(raw_ratings[:,0]==id_user_most_rate_movie)\n",
    "\n",
    "user_col_profile=[num_user, id_user_less_rate_movie, count_num_movie_1,id_user_most_rate_movie,count_num_movie_2]\n",
    "print(user_col_profile)\n",
    "\n",
    "## movie\n",
    "#Có chừng này movie\n",
    "num_movie=np.unique(raw_ratings[:,1])[-1]\n",
    "\n",
    "#Đây là movie được ít user rate nhất\n",
    "temp=np.unique(raw_ratings[:,1], return_counts=True)\n",
    "id_movie_less_rate=temp[0][np.argmin(temp[1], axis=0)]\n",
    "\n",
    "#Và đó là chừng này user\n",
    "count_num_user_1=np.count_nonzero(raw_ratings[:,1]==id_movie_less_rate)\n",
    "\n",
    "#Đây là movie nhiều user rate nhất\n",
    "id_movie_most_rate=temp[0][np.argmax(temp[1], axis=0)]\n",
    "\n",
    "#Và đó là chừng này user\n",
    "count_num_user_2=np.count_nonzero(raw_ratings[:,1]==id_movie_most_rate)\n",
    "\n",
    "movie_col_profile=[num_movie,id_movie_less_rate, count_num_user_1, id_movie_most_rate,count_num_user_2]\n",
    "print(movie_col_profile)"
   ]
  },
  {
   "cell_type": "code",
   "execution_count": 52,
   "id": "71c49bef",
   "metadata": {
    "deletable": false,
    "editable": false,
    "nbgrader": {
     "cell_type": "code",
     "checksum": "c2d87e103900fd26d436366c138e3937",
     "grade": true,
     "grade_id": "cell-9f4bbdb1bcb99063",
     "locked": true,
     "points": 1,
     "schema_version": 3,
     "solution": false,
     "task": false
    }
   },
   "outputs": [],
   "source": [
    "assert user_col_profile==[943, # Có chừng này user\n",
    "                          19,  # Đây là user rate ít movie nhất\n",
    "                          20,  # và đó là chừng này movie\n",
    "                          405, # Đây là user rate nhiều movie nhất\n",
    "                          737] # và đó là chừng này movie\n",
    "assert movie_col_profile==[1682,#Có chừng này movie\n",
    "                           599, #Đây là movie được ít user rate nhất\n",
    "                           1,   #và đó là chừng này user\n",
    "                           50,  #Đây là movie được nhiều user rate nhất\n",
    "                           583] #và đó là chừng này user"
   ]
  },
  {
   "cell_type": "markdown",
   "id": "70ee0678",
   "metadata": {},
   "source": [
    "Các thông tin này khớp với file mô tả dữ liệu:\n",
    "> The full u data set, 100000 ratings by 943 users on 1682 items. Each user has rated at least 20 movies. Users and items are numbered consecutively from 1.\n",
    "\n",
    "Ý \"Users and items are numbered consecutively from 1\" chưa được kiểm chứng từ kết quả ở trên. Dưới đây, ta sẽ kiểm chứng ý này:"
   ]
  },
  {
   "cell_type": "code",
   "execution_count": 53,
   "id": "1586c8dd",
   "metadata": {},
   "outputs": [
    {
     "name": "stdout",
     "output_type": "stream",
     "text": [
      "User id  - min & max: 1 & 943\n",
      "Movie id - min & max: 1 & 1682\n"
     ]
    }
   ],
   "source": [
    "print('User id  - min & max:', \n",
    "      raw_ratings[:, 0].min(), '&', raw_ratings[:, 0].max()) \n",
    "print('Movie id - min & max:', \n",
    "      raw_ratings[:, 1].min(), '&', raw_ratings[:, 1].max()) "
   ]
  },
  {
   "cell_type": "markdown",
   "id": "f46e7920",
   "metadata": {},
   "source": [
    "Như vậy là hoàn toàn khớp (đúng không?)."
   ]
  },
  {
   "cell_type": "markdown",
   "id": "98eb7d84",
   "metadata": {},
   "source": [
    "---"
   ]
  },
  {
   "cell_type": "markdown",
   "id": "af20a067",
   "metadata": {},
   "source": [
    "## Đưa ra câu hỏi có ý nghĩa cần trả lời"
   ]
  },
  {
   "cell_type": "markdown",
   "id": "ffb99848",
   "metadata": {},
   "source": [
    "Đến đây, ta đã hiểu hơn về dữ liệu. Bây giờ, ta sẽ xem thử có câu hỏi nào có ý nghĩa mà có thể được trả lời bằng dữ liệu này không.\n",
    "\n",
    "Một câu hỏi có thể có là: \\\n",
    "*Với mỗi người dùng, ta nên đề xuất (recommend) các phim nào để người dùng xem?*\n",
    "\n",
    "Việc tìm ra câu trả lời cho câu hỏi này sẽ giúp ích cho cả người dùng và nhà cung cấp dịch vụ xem phim:\n",
    "\n",
    "- Người dùng: người dùng có thể muốn xem phim, nhưng có rất nhiều phim và người dùng không biết nên xem phim nào; sẽ rất tiện cho người dùng nếu hệ thống có thể đề xuất một danh sách phim mà nhiều khả năng người dùng sẽ thích\n",
    "- Nhà cung cấp dịch vụ xem phim: nếu hệ thống đề xuất tốt thì nhiều khả năng người dùng sẽ xem phim và sẽ thích, nghĩa là người dùng sẽ tiếp tục trả phí để sử dụng dịch vụ."
   ]
  },
  {
   "cell_type": "markdown",
   "id": "2b8d3d6a",
   "metadata": {},
   "source": [
    "---"
   ]
  },
  {
   "cell_type": "markdown",
   "id": "1f3413be",
   "metadata": {},
   "source": [
    "## Tiền xử lý <font color=green>(1đ)</font>"
   ]
  },
  {
   "cell_type": "markdown",
   "id": "7d9d5f29",
   "metadata": {},
   "source": [
    "Để xây dựng hệ thống gợi ý thì đầu tiên, từ dữ liệu ban đầu là array `raw_ratings`, bạn sẽ cần tạo array `ratings` gồm số-lượng-user dòng và số-lượng-movie cột, `ratings[i, j]` cho biết user có id i đã cho movie có id j bao nhiêu điểm, nếu chưa cho thì giá trị sẽ là `nan`. Vì Python đánh chỉ số từ 0 nên bạn cũng cần chỉnh lại để id của user và movie bắt đầu từ 0 (thay vì 1)."
   ]
  },
  {
   "cell_type": "code",
   "execution_count": 54,
   "id": "05f06718-785f-4a94-88a6-02ae72f8ff8a",
   "metadata": {},
   "outputs": [
    {
     "data": {
      "text/plain": [
       "array([[ 5.,  3.,  4., ..., nan, nan, nan],\n",
       "       [ 4., nan, nan, ..., nan, nan, nan],\n",
       "       [nan, nan, nan, ..., nan, nan, nan],\n",
       "       ...,\n",
       "       [ 5., nan, nan, ..., nan, nan, nan],\n",
       "       [nan, nan, nan, ..., nan, nan, nan],\n",
       "       [nan,  5., nan, ..., nan, nan, nan]])"
      ]
     },
     "execution_count": 54,
     "metadata": {},
     "output_type": "execute_result"
    }
   ],
   "source": [
    "# YOUR CODE HERE\n",
    "ratings_raw_copy=np.copy(raw_ratings)\n",
    "ratings_raw_copy[:,0]=ratings_raw_copy[:,0]-1\n",
    "ratings_raw_copy[:,1]=ratings_raw_copy[:,1]-1\n",
    "rows,row_pos=np.unique(ratings_raw_copy[:,0],return_inverse=True)\n",
    "cols,col_pos=np.unique(ratings_raw_copy[:,1],return_inverse=True)\n",
    "ratings=np.zeros((len(rows),len(cols)))\n",
    "ratings[row_pos,col_pos]=ratings_raw_copy[:,2]\n",
    "ratings[ratings==0]=np.nan\n",
    "ratings=ratings.astype('float')\n",
    "ratings"
   ]
  },
  {
   "cell_type": "code",
   "execution_count": 55,
   "id": "65cc1d91",
   "metadata": {
    "deletable": false,
    "editable": false,
    "nbgrader": {
     "cell_type": "code",
     "checksum": "129b541ee545b7ad80ef9187b0ac5c05",
     "grade": true,
     "grade_id": "cell-fb18066caaa407ed",
     "locked": true,
     "points": 1,
     "schema_version": 3,
     "solution": false,
     "task": false
    }
   },
   "outputs": [],
   "source": [
    "assert ratings.shape == (943, 1682)\n",
    "missing_ratios = np.mean(np.isnan(ratings))\n",
    "assert missing_ratios.round(3) == 0.937 # Có 93.7% giá trị nan!"
   ]
  },
  {
   "cell_type": "markdown",
   "id": "fe0c2a40",
   "metadata": {},
   "source": [
    "---"
   ]
  },
  {
   "cell_type": "markdown",
   "id": "0071c835",
   "metadata": {},
   "source": [
    "## Phân tích dữ liệu để trả lời cho câu hỏi <font color=green>(6đ)</font>"
   ]
  },
  {
   "cell_type": "markdown",
   "id": "0653cfcd",
   "metadata": {},
   "source": [
    "Để có thể đề xuất các movie cho mỗi user thì ta sẽ phải làm 2 công đoạn:\n",
    "\n",
    "- Công đoạn 1: dự đoán điểm mà mỗi user sẽ cho đối với các movie mà user chưa xem (nói một cách khác: điền các giá trị nan trong array `ratings`)\n",
    "- Công đoạn 2: đề xuất cho user các movie (mà user chưa xem) có điểm dự đoán cao\n",
    "\n",
    "Trong bài này thì ta chỉ tập trung làm công đoạn 1."
   ]
  },
  {
   "cell_type": "markdown",
   "id": "b1bee4aa",
   "metadata": {},
   "source": [
    "### Nghiên cứu cách tính điểm dự đoán cho một user\n",
    "\n",
    "Đầu tiên, chúng ta sẽ điểm qua cách dự đoán điểm cho một user"
   ]
  },
  {
   "cell_type": "code",
   "execution_count": 56,
   "id": "c06df5d1-9d82-4350-8088-62ea7427c7c7",
   "metadata": {},
   "outputs": [
    {
     "data": {
      "text/plain": [
       "array([[ 5.,  4., nan,  1., nan],\n",
       "       [nan,  4.,  4.,  2.,  2.],\n",
       "       [ 3., nan, nan,  5.,  5.],\n",
       "       [nan,  3.,  4.,  4., nan]])"
      ]
     },
     "execution_count": 56,
     "metadata": {},
     "output_type": "execute_result"
    }
   ],
   "source": [
    "# Giả sử chúng ta có dữ liệu ratings được lưu trữ bằng Numpy array\n",
    "# Trong dữ liệu này:\n",
    "# - Mỗi cột ứng với một phim\n",
    "# - Mỗi dòng ứng với một người dùng, và cho biết người này đã\n",
    "#   cho mỗi phim bao nhiêu điểm (thang 1-5)\n",
    "example_ratings = np.array([\n",
    "    [5, 4, np.nan, 1, np.nan],\n",
    "    [np.nan, 4, 4, 2, 2],\n",
    "    [3, np.nan, np.nan, 5, 5],\n",
    "    [np.nan, 3, 4, 4, np.nan]\n",
    "])\n",
    "\n",
    "example_ratings"
   ]
  },
  {
   "cell_type": "markdown",
   "id": "632144cb-a64a-4890-acbe-39b63b88a324",
   "metadata": {},
   "source": [
    "Mục tiêu ở đây là dự đoán các giá trị thiếu của mỗi người dùng; từ đó, recommend cho người dùng các bộ phim mà ta dự đoán người dùng sẽ cho điểm cao.\n",
    "\n",
    "Để đơn giản, ở đây ta chỉ tập trung làm cho người dùng đầu tiên."
   ]
  },
  {
   "cell_type": "code",
   "execution_count": 57,
   "id": "c3d8c39b-72ff-4d17-9f9a-9a1d439b5570",
   "metadata": {},
   "outputs": [
    {
     "data": {
      "text/plain": [
       "array([1.00000000e+03, 1.99600798e+00, 3.33222259e-01, 4.99750125e-01])"
      ]
     },
     "execution_count": 57,
     "metadata": {},
     "output_type": "execute_result"
    }
   ],
   "source": [
    "# Tính trọng số thể hiện cho độ tương tự similarities giữa người dùng đầu tiên với tất cả người dùng \n",
    "r0 = example_ratings[0]\n",
    "a = np.abs(example_ratings - r0)\n",
    "a = np.nanmean(a, axis=1) # Bỏ qua nan\n",
    "w = 1 / (a + 0.001) # Cộng 0.001 để tránh chia phải 0 \n",
    "w"
   ]
  },
  {
   "cell_type": "code",
   "execution_count": 58,
   "id": "83647ae1-8fb1-4fa7-b7c7-c436d3d853a5",
   "metadata": {},
   "outputs": [
    {
     "data": {
      "text/plain": [
       "array([[nan, nan],\n",
       "       [ 4.,  2.],\n",
       "       [nan,  5.],\n",
       "       [ 4., nan]])"
      ]
     },
     "execution_count": 58,
     "metadata": {},
     "output_type": "execute_result"
    }
   ],
   "source": [
    "# Lấy ra các cột ứng với các phim \n",
    "# mà người dùng đầu tiên chưa cho điểm\n",
    "a = example_ratings[:, np.isnan(r0)]\n",
    "a"
   ]
  },
  {
   "cell_type": "code",
   "execution_count": 59,
   "id": "1848eab6-82df-4dca-b09c-831d39c2be23",
   "metadata": {},
   "outputs": [
    {
     "data": {
      "text/plain": [
       "array([[0.        , 0.        ],\n",
       "       [0.79976019, 0.85693889],\n",
       "       [0.        , 0.14306111],\n",
       "       [0.20023981, 0.        ]])"
      ]
     },
     "execution_count": 59,
     "metadata": {},
     "output_type": "execute_result"
    }
   ],
   "source": [
    "# Tính ma trận trọng số đã được chuẩn hóa \n",
    "# có cùng shape với kết quả ở trên\n",
    "# (tổng các cột sẽ bằng 1)\n",
    "normalized_w = ~np.isnan(a) * w.reshape(-1, 1)\n",
    "normalized_w = normalized_w / normalized_w.sum(axis=0)\n",
    "normalized_w"
   ]
  },
  {
   "cell_type": "code",
   "execution_count": 60,
   "id": "78032352-dd69-4265-a21b-57e38e6ebb72",
   "metadata": {},
   "outputs": [
    {
     "data": {
      "text/plain": [
       "array([4.        , 2.42918332])"
      ]
     },
     "execution_count": 60,
     "metadata": {},
     "output_type": "execute_result"
    }
   ],
   "source": [
    "# Nhân điểm (rating) với trọng số đã chuẩn hóa rồi cộng lại\n",
    "# là sẽ ra điểm dự đoán cho người dùng đầu tiên\n",
    "np.nansum(a * normalized_w, axis=0)\n",
    "# Như vậy, ta có thể recommend cho người dùng đầu tiên phim có điểm dự đoán cao."
   ]
  },
  {
   "cell_type": "markdown",
   "id": "0d5cb0d8",
   "metadata": {},
   "source": [
    "Như vậy, ta có thể recommend cho người dùng đầu tiên phim có điểm dự đoán cao. Trong bài tập này, bạn sẽ làm với tất cả user. Tuy nhiên, bạn sẽ không dùng vòng lặp và lần lượt làm cho từng user vì Numpy không thích vòng lặp (cụ thể hơn là, vòng lặp của Python rất chậm, nên chúng ta nên sử dụng NumPy để tăng tốc độ tính toán lên đó). Thay vào đó, bạn sẽ làm một lúc cho tất cả user. Để làm được điều này thì với mỗi user bạn cần tính điểm (rating) cho tất cả các movie; nếu bạn chỉ tính điểm cho các movie mà chưa được cho điểm thì sẽ khó có thể làm một lúc cho tất cả user được, vì mỗi user sẽ có số lượng movie chưa cho điểm khác nhau. Việc tính điểm cho các movie đã có điểm là thừa (điểm được tính lại thật ra sẽ rất gần với điểm ban đầu do điểm ban đầu sẽ có trọng số lớn nhất), nhưng sẽ có khả năng giúp tăng tốc vì ta có thể làm với tất cả user cùng một lúc.\n",
    "\n",
    "Nếu thử làm thì bạn sẽ thấy vẫn không thể làm với tất cả user cùng một lúc được, do các array kết quả trung gian sẽ có kích thước khoảng số-lượng-user x số-lượng-user x số-lượng-movie, và sẽ bị báo không đủ bộ nhớ. Một cách để vượt qua vấn đề này mà không quay về cách duyệt từng user là duyệt một lúc một nhóm các user (gọi là một batch) và dự đoán điểm của nhóm các user này; kích thước của các array kết quả trung gian sẽ giảm xuống khoảng số-lượng-user-của-một-batch x số-lượng-user x số-lượng-movie. Như vậy, ở chỗ này bạn sẽ được phép dùng vòng lặp để duyệt từng batch (nhóm user).\n",
    "\n",
    "Bạn sẽ dùng `batch_size` (số lượng user của một nhóm) là 32. Và sau cùng, bạn sẽ điền cho array `filled_ratings` điểm của tất cả movie; trong array này, mình chỉ quan tâm đến các giá trị điền ứng với các giá trị nan trong mảng `ratings` ban đầu (còn các giá trị khác bạn cho sao cũng được). Trong quá trình làm, bạn lưu ý không làm thay đổi array `ratings`."
   ]
  },
  {
   "cell_type": "code",
   "execution_count": 61,
   "id": "f4fde3e7",
   "metadata": {},
   "outputs": [],
   "source": [
    "batch_size = 32\n",
    "filled_ratings = np.empty_like(ratings)"
   ]
  },
  {
   "cell_type": "markdown",
   "id": "953632a0",
   "metadata": {},
   "source": [
    "Mình không có ý làm bạn hoảng sợ nhưng việc cài đặt sẽ khá phức tạp, đỏi hỏi nắm vững một cơ chế được gọi là <font color=green>broadcasting</font> và khả năng tưởng tượng 3 chiều cao. Do đó, đầu tiên bạn sẽ thử làm với một batch trước. Mình sẽ hỗ trợ bạn bằng cách chia ra thành các bước và cung cấp bộ test ở mỗi bước. Ý quan trọng mà bạn cần nắm khi chuyển từ làm với một user sang làm với `batch_size` user là: các array sẽ có thêm một chiều ở đầu với kích thước là `batch_size` ứng với `batch_size` user. \\\n",
    "Sau khi code đã chạy đúng với một batch, bạn sẽ làm thật với tất cả dữ liệu. "
   ]
  },
  {
   "cell_type": "markdown",
   "id": "ba38a989",
   "metadata": {},
   "source": [
    "## Nghiên cứu một ít về <font color=green>broadcasting</font>"
   ]
  },
  {
   "cell_type": "markdown",
   "id": "5f69bc84",
   "metadata": {},
   "source": [
    "Mà chúng ta cần phải hiểu <font color=green>broadcasting</font> là gì trước đã.\n",
    "\n",
    "Đó là cơ chế của Numpy cho phép thực hiện tính toán khi các array không có cùng shape như thể có cùng shape (ở bên dưới, vụ này sẽ được thực hiện một cách hiệu quả: sẽ không tạo ra các array mới có cùng shape).\n",
    "\n",
    "Ví dụ: \n",
    "\n",
    "`a = np.array([1, 2, 3])`\n",
    "\n",
    "`a + 10`\n",
    "\n",
    "[Luật broadcasting](https://numpy.org/devdocs/user/quickstart.html#broadcasting-rules):\n",
    "\n",
    "- Rule 1: if all input arrays do not have the same number of dimensions, a “1” will be repeatedly prepended to the shapes of the smaller arrays until all the arrays have the same number of dimensions.\n",
    "- Rule 2: arrays with a size of 1 along a particular dimension act as if they had the size of the array with the largest shape along that dimension. The value of the array element is assumed to be the same along that dimension for the “broadcast” array.\n",
    "- After application of the broadcasting rules, the sizes of all arrays must match"
   ]
  },
  {
   "cell_type": "code",
   "execution_count": 62,
   "id": "53009daa",
   "metadata": {},
   "outputs": [
    {
     "data": {
      "text/plain": [
       "array([[14, 15, 16],\n",
       "       [17, 18, 19]])"
      ]
     },
     "execution_count": 62,
     "metadata": {},
     "output_type": "execute_result"
    }
   ],
   "source": [
    "# Ví dụ 1\n",
    "a = np.array([[4, 5, 6],\n",
    "              [7, 8, 9]])\n",
    "a + 10"
   ]
  },
  {
   "cell_type": "markdown",
   "id": "41b57d9e",
   "metadata": {},
   "source": [
    "Xem xét chi tiết:\n",
    "```\n",
    "shape của a:  2, 3\n",
    "shape của 10: \n",
    "              1, 1  [[10]]\n",
    "              2, 1  [[10],\n",
    "                     [10]]\n",
    "              2, 3  [[10, 10, 10],\n",
    "                     [10, 10, 10],\n",
    "                     [10, 10, 10]]\n",
    "```"
   ]
  },
  {
   "cell_type": "code",
   "execution_count": 63,
   "id": "a4e3c734",
   "metadata": {},
   "outputs": [
    {
     "data": {
      "text/plain": [
       "array([[ 4, 10, 18],\n",
       "       [ 7, 16, 27]])"
      ]
     },
     "execution_count": 63,
     "metadata": {},
     "output_type": "execute_result"
    }
   ],
   "source": [
    "# Ví dụ 2\n",
    "a = np.array([[4, 5, 6],\n",
    "              [7, 8, 9]])\n",
    "b = np.array([[1, 2, 3]])\n",
    "a * b"
   ]
  },
  {
   "cell_type": "markdown",
   "id": "81a945a1",
   "metadata": {},
   "source": [
    "Xem xét chi tiết:\n",
    "```\n",
    "shape của a: 2, 3\n",
    "shape của b: 1, 3  [[1, 2, 3]]\n",
    "             2, 3  [[1, 2, 3],\n",
    "                    [1, 2, 3]]\n",
    "```"
   ]
  },
  {
   "cell_type": "code",
   "execution_count": 64,
   "id": "3a59a1fd",
   "metadata": {},
   "outputs": [
    {
     "data": {
      "text/plain": [
       "array([[ 4, 10, 18],\n",
       "       [ 7, 16, 27]])"
      ]
     },
     "execution_count": 64,
     "metadata": {},
     "output_type": "execute_result"
    }
   ],
   "source": [
    "# Ví dụ 3\n",
    "a = np.array([[4, 5, 6],\n",
    "              [7, 8, 9]])\n",
    "b = np.array([1, 2, 3])\n",
    "a * b"
   ]
  },
  {
   "cell_type": "markdown",
   "id": "fa3f645d",
   "metadata": {},
   "source": [
    "Xem xét chi tiết:\n",
    "```\n",
    "shape của a: 2, 3\n",
    "shape của b: 3     [1, 2, 3]\n",
    "             1, 3  [[1, 2, 3]]\n",
    "             2, 3  [[1, 2, 3],\n",
    "                    [1, 2, 3]]\n",
    "```"
   ]
  },
  {
   "cell_type": "code",
   "execution_count": 65,
   "id": "fcc33446",
   "metadata": {},
   "outputs": [
    {
     "data": {
      "text/plain": [
       "array([[ 4,  8, 12],\n",
       "       [ 5, 10, 15],\n",
       "       [ 6, 12, 18]])"
      ]
     },
     "execution_count": 65,
     "metadata": {},
     "output_type": "execute_result"
    }
   ],
   "source": [
    "# Broadcasting - ví dụ 4\n",
    "a = np.array([[4],\n",
    "              [5],\n",
    "              [6]])\n",
    "b = np.array([1, 2, 3])\n",
    "a * b"
   ]
  },
  {
   "cell_type": "markdown",
   "id": "a31b9afc",
   "metadata": {},
   "source": [
    "Xem xét chi tiết:\n",
    "```\n",
    "shape của a: 3, 1  [[4],\n",
    "                    [5],\n",
    "                    [6]]\n",
    "             3, 3  [[4, 4, 4],\n",
    "                    [5, 5, 5],\n",
    "                    [6, 6, 6]]\n",
    "shape của b: 3     [1, 2, 3]\n",
    "             1, 3  [[1, 2, 3]]\n",
    "             3, 3  [[1, 2, 3],\n",
    "                    [1, 2, 3],\n",
    "                    [1, 2, 3]]\n",
    "```"
   ]
  },
  {
   "cell_type": "code",
   "execution_count": 66,
   "id": "6c147340",
   "metadata": {},
   "outputs": [],
   "source": [
    "# Broadcasting - ví dụ 5\n",
    "\n",
    "# a = np.array([[4, 5, 6],\n",
    "#               [7, 8, 9]])\n",
    "# b = np.array([1, 2])\n",
    "# a * b\n",
    "\n",
    "# Sẽ có lỗi xảy ra nếu bạn uncomment và test thử\n",
    "# Bởi vì sao?\n",
    "# shape của a: 2, 3\n",
    "# shape của b: 1, 2"
   ]
  },
  {
   "cell_type": "code",
   "execution_count": 67,
   "id": "005514ed",
   "metadata": {},
   "outputs": [
    {
     "name": "stdout",
     "output_type": "stream",
     "text": [
      "[-1.11022302e-16 -1.22124533e-16]\n",
      "[1. 1.]\n"
     ]
    }
   ],
   "source": [
    "# Áp dụng broadcasting:\n",
    "# Chuẩn hóa để các cột của array data có mean = 0 & std = 1\n",
    "# (Cách làm: lấy mỗi cột trừ cho mean của cột đó, rồi chia cho std của cột đó)\n",
    "\n",
    "# Đầu tiên: Khởi tạo data\n",
    "data = np.random.randint(0, 10, (20, 2))\n",
    "data[:, 1] *= 3\n",
    "\n",
    "# Sau đó: Chuẩn hóa để các cột của array data có mean = 0 & std = 1\n",
    "data = (data - data.mean(axis=0)) / data.std(axis=0)\n",
    "\n",
    "print(data.mean(axis=0))\n",
    "print(data.std(axis=0))"
   ]
  },
  {
   "cell_type": "markdown",
   "id": "8166d230",
   "metadata": {},
   "source": [
    "## Quay trở lại làm bài tập\n",
    "\n",
    "Đầu tiên, bạn sẽ thử làm với một batch ứng với các user có chỉ số từ `start` đến `end` <font color=green>(5.5đ)</font>."
   ]
  },
  {
   "cell_type": "code",
   "execution_count": 68,
   "id": "e32c62e8",
   "metadata": {},
   "outputs": [],
   "source": [
    "start = 0\n",
    "end = batch_size"
   ]
  },
  {
   "cell_type": "markdown",
   "id": "3ac9772d",
   "metadata": {},
   "source": [
    "Bước 1: tính array `similarities` cho biết độ tương tự giữa mỗi user trong batch đang xét với tất cả các user trong toàn bộ dữ liệu. Array này sẽ có kích thước `batch_size` x `n_users` (`n_users` là số lượng user trong toàn bộ dữ liệu), `similarities[i, j]` sẽ cho biết độ tương tự giữa user chỉ số i với user chỉ số j. Trong trường hợp 2 user không có cho điểm chung movie nào (khi chạy bạn có thể sẽ thấy warning \"RuntimeWarning: Mean of empty slice\") thì bạn cho độ tương tự bằng 0."
   ]
  },
  {
   "cell_type": "code",
   "execution_count": 69,
   "id": "a219bc83",
   "metadata": {
    "deletable": false,
    "nbgrader": {
     "cell_type": "code",
     "checksum": "f04fe3d37e91f17cbf7058aed71d0a82",
     "grade": false,
     "grade_id": "cell-1d34779ee4335381",
     "locked": false,
     "schema_version": 3,
     "solution": true,
     "task": false
    }
   },
   "outputs": [
    {
     "name": "stderr",
     "output_type": "stream",
     "text": [
      "C:\\Users\\FPT SHOP\\AppData\\Local\\Temp\\ipykernel_13204\\1033889159.py:8: RuntimeWarning: Mean of empty slice\n",
      "  a=np.nanmean(a, axis=2)\n"
     ]
    }
   ],
   "source": [
    "# YOUR CODE HERE\n",
    "#tao ban sao chep\n",
    "r0=np.copy(ratings)\n",
    "temp=r0[np.arange(start, end)]\n",
    "temp=np.reshape(temp, (temp.shape[0], 1, temp.shape[1]))\n",
    "\n",
    "a=np.abs(temp-r0)\n",
    "a=np.nanmean(a, axis=2)\n",
    "\n",
    "similarities=1/(a+0.001) #Cộng 0.001 để tránh chia phải 0\n",
    "similarities[np.isnan(similarities)]=0"
   ]
  },
  {
   "cell_type": "code",
   "execution_count": 70,
   "id": "bab1c41c",
   "metadata": {
    "deletable": false,
    "editable": false,
    "nbgrader": {
     "cell_type": "code",
     "checksum": "c33d00765e83dd568159477781da990e",
     "grade": true,
     "grade_id": "cell-3c3f855070577541",
     "locked": true,
     "points": 2,
     "schema_version": 3,
     "solution": false,
     "task": false
    }
   },
   "outputs": [],
   "source": [
    "# TEST\n",
    "assert similarities.shape == (32, 943)\n",
    "assert np.array_equal(similarities[:3, :3].round(1), \n",
    "                      np.array([[1.0e+03, 1.1e+00, 7.0e-01],\n",
    "                                [1.1e+00, 1.0e+03, 7.0e-01],\n",
    "                                [7.0e-01, 7.0e-01, 1.0e+03]]))"
   ]
  },
  {
   "cell_type": "markdown",
   "id": "e7273f31",
   "metadata": {},
   "source": [
    "Bước 2: tính array trọng số `weights` là array độ tương tự `similarity` đã được chuẩn hóa. Với mỗi user trong batch đang xét, độ tương tự với tất cả các user sẽ được chuẩn hóa theo từng movie: với các user mà đã cho điểm movie thì chuẩn hóa bằng cách chia độ tương tự cho tổng độ tương tự mà chỉ xét trên các user đã cho điểm movie, với các user còn lại chuẩn hóa bằng cách cho độ tương tự bằng 0. Array `weights` sẽ có kích thước là `batch_size` x `n_users` x `n_movies` (với `n_movies` là tổng số lượng movie). \\\n",
    "Khi chạy, bạn sẽ thấy warning \"RuntimeWarning: invalid value encountered in true_divide\"; đây là do các user mà có cho điểm một movie đang xét đều có độ tương tự bằng 0 với một user đang xét, dẫn đến khi chuẩn hóa sẽ ra 0/0 và kết quả là nan. Trường hợp này có nghĩa là không đủ thông tin để dự đoán điểm và trong bài này thì bạn cứ tạm để như vậy."
   ]
  },
  {
   "cell_type": "code",
   "execution_count": 71,
   "id": "4947f7c0",
   "metadata": {
    "deletable": false,
    "nbgrader": {
     "cell_type": "code",
     "checksum": "da01da876e8b56c6432d791f73618a6b",
     "grade": false,
     "grade_id": "cell-3d0537bb94c333e7",
     "locked": false,
     "schema_version": 3,
     "solution": true,
     "task": false
    }
   },
   "outputs": [
    {
     "name": "stderr",
     "output_type": "stream",
     "text": [
      "C:\\Users\\FPT SHOP\\AppData\\Local\\Temp\\ipykernel_13204\\2722495953.py:9: RuntimeWarning: invalid value encountered in divide\n",
      "  weights=temp_weights/sum_array\n"
     ]
    }
   ],
   "source": [
    "# YOUR CODE HERE\n",
    "point_movie=np.copy(ratings)\n",
    "mask=~np.isnan(point_movie)\n",
    "temp=np.copy(similarities)\n",
    "temp=np.reshape(temp,(temp.shape[0],temp.shape[1],1))\n",
    "temp_weights=temp*mask\n",
    "sum_array=temp_weights.sum(axis=1)\n",
    "sum_array=np.reshape(sum_array,(sum_array.shape[0],1,sum_array.shape[1]))\n",
    "weights=temp_weights/sum_array"
   ]
  },
  {
   "cell_type": "code",
   "execution_count": 72,
   "id": "01823615",
   "metadata": {
    "deletable": false,
    "editable": false,
    "nbgrader": {
     "cell_type": "code",
     "checksum": "0ed0ec51e4cad533809106c7ff74caa8",
     "grade": true,
     "grade_id": "cell-04b8a47e95e8dd09",
     "locked": true,
     "points": 2,
     "schema_version": 3,
     "solution": false,
     "task": false
    }
   },
   "outputs": [],
   "source": [
    "# TEST\n",
    "assert weights.shape == (32, 943, 1682)\n",
    "assert np.sum(np.isnan(weights)) == 31119"
   ]
  },
  {
   "cell_type": "markdown",
   "id": "bf949328",
   "metadata": {},
   "source": [
    "Bước 3: Với mỗi user trong batch đang xét, tính điểm (cho tất cả movie) bằng cách nhân điểm của tất cả user với trọng số tương ứng trong array `weight`; rồi ghi các điểm của mỗi user xuống một dòng trong array `filled_ratings`. "
   ]
  },
  {
   "cell_type": "code",
   "execution_count": 73,
   "id": "7d9e8bb9",
   "metadata": {
    "deletable": false,
    "nbgrader": {
     "cell_type": "code",
     "checksum": "8736ae9cc0826cdae3a22e8f8406b045",
     "grade": false,
     "grade_id": "cell-e73c0a38ffa925db",
     "locked": false,
     "schema_version": 3,
     "solution": true,
     "task": false
    }
   },
   "outputs": [],
   "source": [
    "# YOUR CODE HERE\n",
    "temp=np.copy(ratings)\n",
    "points=weights*temp #tính điểm cho tất cả movie\n",
    "filled_ratings=np.nansum(points,axis=1)"
   ]
  },
  {
   "cell_type": "code",
   "execution_count": 74,
   "id": "bde0f216",
   "metadata": {
    "deletable": false,
    "editable": false,
    "nbgrader": {
     "cell_type": "code",
     "checksum": "72ece520b84bb40fe8012711ca6a064c",
     "grade": true,
     "grade_id": "cell-9a094032ccb1726a",
     "locked": true,
     "points": 1.5,
     "schema_version": 3,
     "solution": false,
     "task": false
    }
   },
   "outputs": [],
   "source": [
    "# TEST\n",
    "filled_batch = filled_ratings[start:end]\n",
    "filled_nanvals = filled_batch[np.isnan(ratings[start:end])]\n",
    "assert np.array_equal(filled_nanvals[:3].round(1),\n",
    "                      np.array([3.6, 3.5, 4. ]))\n",
    "assert np.array_equal(filled_nanvals[-3:].round(1),\n",
    "                      np.array([2., 3., 3. ]))"
   ]
  },
  {
   "cell_type": "markdown",
   "id": "51eebe8c",
   "metadata": {},
   "source": [
    "Code của bạn đã chạy OK với một batch rồi thì bây giờ bạn có thể làm thật trên toàn bộ dữ liệu <font color=green>(0.5đ)</font>."
   ]
  },
  {
   "cell_type": "code",
   "execution_count": 75,
   "id": "e9ed9adb",
   "metadata": {
    "deletable": false,
    "nbgrader": {
     "cell_type": "code",
     "checksum": "fa8de9927513fd4a907f496d0ec51de6",
     "grade": false,
     "grade_id": "cell-9ee6c3bd8e2dea97",
     "locked": false,
     "schema_version": 3,
     "solution": true,
     "task": false
    }
   },
   "outputs": [
    {
     "name": "stderr",
     "output_type": "stream",
     "text": [
      "C:\\Users\\FPT SHOP\\AppData\\Local\\Temp\\ipykernel_13204\\565431886.py:15: RuntimeWarning: Mean of empty slice\n",
      "  a=np.nanmean(a, axis=2)\n",
      "C:\\Users\\FPT SHOP\\AppData\\Local\\Temp\\ipykernel_13204\\565431886.py:27: RuntimeWarning: invalid value encountered in divide\n",
      "  weights=temp_weights/sum_array\n"
     ]
    }
   ],
   "source": [
    "# YOUR CODE HERE\n",
    "batch_size=32\n",
    "filled_ratings = np.empty_like(ratings)\n",
    "start=0\n",
    "end=batch_size\n",
    "while start < ratings.shape[0]:\n",
    "    if end>=ratings.shape[0]:\n",
    "        end=ratings.shape[0]\n",
    "    #tao ban sao chep\n",
    "    r0=np.copy(ratings)\n",
    "    temp=r0[np.arange(start, end)]\n",
    "    temp=np.reshape(temp, (temp.shape[0], 1, temp.shape[1]))\n",
    "\n",
    "    a=np.abs(temp-r0)\n",
    "    a=np.nanmean(a, axis=2)\n",
    "\n",
    "    similarities=1/(a+0.001) #Cộng 0.001 để tránh chia phải 0\n",
    "    similarities[np.isnan(similarities)]=0\n",
    "\n",
    "    point_movie=np.copy(ratings)\n",
    "    mask=~np.isnan(point_movie)\n",
    "    temp=np.copy(similarities)\n",
    "    temp=np.reshape(temp,(temp.shape[0],temp.shape[1],1))\n",
    "    temp_weights=temp*mask\n",
    "    sum_array=temp_weights.sum(axis=1)\n",
    "    sum_array=np.reshape(sum_array,(sum_array.shape[0],1,sum_array.shape[1]))\n",
    "    weights=temp_weights/sum_array\n",
    "\n",
    "    temp=np.copy(ratings)\n",
    "    points=weights*temp #tính điểm cho tất cả movie\n",
    "    filled_ratings[start:end,:]=np.nansum(points,axis=1)\n",
    "    \n",
    "    start+=batch_size\n",
    "    end+=batch_size"
   ]
  },
  {
   "cell_type": "code",
   "execution_count": 76,
   "id": "512671b3",
   "metadata": {
    "deletable": false,
    "nbgrader": {
     "cell_type": "code",
     "checksum": "5ce14ac032aded94c7d9d391ec305fc0",
     "grade": false,
     "grade_id": "cell-11ff284c3fe7fb7e",
     "locked": false,
     "schema_version": 3,
     "solution": true,
     "task": false
    }
   },
   "outputs": [],
   "source": [
    "# TEST\n",
    "filled_nanvals = filled_ratings[np.isnan(ratings)]\n",
    "assert np.array_equal(filled_nanvals[:3].round(1),\n",
    "                      np.array([3.6, 3.5, 4. ]))\n",
    "assert np.array_equal(filled_nanvals[-3:].round(1),\n",
    "                      np.array([0., 3., 3. ]))"
   ]
  }
 ],
 "metadata": {
  "kernelspec": {
   "display_name": "Python 3 (ipykernel)",
   "language": "python",
   "name": "python3"
  },
  "language_info": {
   "codemirror_mode": {
    "name": "ipython",
    "version": 3
   },
   "file_extension": ".py",
   "mimetype": "text/x-python",
   "name": "python",
   "nbconvert_exporter": "python",
   "pygments_lexer": "ipython3",
   "version": "3.10.0"
  },
  "toc": {
   "base_numbering": 1,
   "nav_menu": {},
   "number_sections": false,
   "sideBar": true,
   "skip_h1_title": true,
   "title_cell": "Table of Contents",
   "title_sidebar": "Contents",
   "toc_cell": false,
   "toc_position": {
    "height": "calc(100% - 180px)",
    "left": "10px",
    "top": "150px",
    "width": "191px"
   },
   "toc_section_display": true,
   "toc_window_display": true
  },
  "vscode": {
   "interpreter": {
    "hash": "9fdfb74ce0a4aba120a50d3ed529c3439ffc91d1788ee0aa6693a54bb070c095"
   }
  }
 },
 "nbformat": 4,
 "nbformat_minor": 5
}
